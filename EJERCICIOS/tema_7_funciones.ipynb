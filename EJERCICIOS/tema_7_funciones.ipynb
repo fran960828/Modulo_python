{
 "cells": [
  {
   "cell_type": "markdown",
   "id": "f8f879df",
   "metadata": {},
   "source": [
    "1. Define una función llamada \"saludar\" que tome un parámetro \"nombre\" \n",
    "y muestre un saludo personalizado.\n",
    " 2. Crea una función llamada \"suma\" que tome dos parámetros \"a\" y \"b\" e \n",
    "imprima la suma de ambos.\n",
    " 3. Escribe una función llamada \"calcular_area_rectangulo\" que tome dos \n",
    "parámetros \"base\" y \"altura\" y calcule el área de un rectángulo.\n",
    " 4. Define una función llamada \"imprimir_lista\" que tome una lista como \n",
    "parámetro y la imprima en la consola."
   ]
  },
  {
   "cell_type": "code",
   "execution_count": 1,
   "id": "fd4d82fe",
   "metadata": {},
   "outputs": [
    {
     "name": "stdout",
     "output_type": "stream",
     "text": [
      "Hola Fran como estas\n"
     ]
    }
   ],
   "source": [
    "def saludar(nombre):\n",
    "    print('Hola',nombre.title(),'como estas')\n",
    "saludar('fran')"
   ]
  },
  {
   "cell_type": "code",
   "execution_count": 3,
   "id": "6b7af073",
   "metadata": {},
   "outputs": [
    {
     "name": "stdout",
     "output_type": "stream",
     "text": [
      "la suma de  5  y  7  es igual a 12\n"
     ]
    }
   ],
   "source": [
    "def suma(a,b):\n",
    "    print('la suma de ',a,' y ',b,' es igual a', a+b)\n",
    "suma(5,7)"
   ]
  },
  {
   "cell_type": "code",
   "execution_count": 4,
   "id": "a975b1f3",
   "metadata": {},
   "outputs": [
    {
     "name": "stdout",
     "output_type": "stream",
     "text": [
      "el área del rectangulo es igual a  35\n"
     ]
    }
   ],
   "source": [
    "def calcularAreaRectangulo(base,altura):\n",
    "    print('el área del rectangulo es igual a ',base*altura)\n",
    "calcularAreaRectangulo(5,7)"
   ]
  },
  {
   "cell_type": "code",
   "execution_count": 12,
   "id": "4d13a4fa",
   "metadata": {},
   "outputs": [
    {
     "name": "stdout",
     "output_type": "stream",
     "text": [
      "0\n",
      "1\n",
      "2\n",
      "3\n",
      "4\n",
      "5\n",
      "6\n",
      "7\n",
      "8\n",
      "9\n"
     ]
    }
   ],
   "source": [
    "def imprimir_lista(lista):\n",
    "    \"\"\"Generador que devuelve los elementos de una lista uno por uno.\"\"\"\n",
    "    for elemento in lista:\n",
    "        yield elemento\n",
    "\n",
    "# Uso del generador\n",
    "lista = list(range(10))\n",
    "\n",
    "for numero in imprimir_lista(lista):\n",
    "    print(numero)\n"
   ]
  },
  {
   "cell_type": "markdown",
   "id": "b33532a4",
   "metadata": {},
   "source": [
    " 5. Crea una función llamada \"es_par\" que tome un número como \n",
    "parámetro e imprima True si es par, o False si es impar.\n",
    " 6. Escribe una función llamada \"concatenar_strings\" que tome dos \n",
    "parámetros \"cadena1\" y “cadena2\" e imprima la concatenación de \n",
    "ambas cadenas.\n",
    " 7. Define una función llamada \"obtener_maximo\" que tome una lista de \n",
    "números como parámetro y devuelva el número máximo de la lista.\n",
    " 8. Crea una función llamada \"convertir_fahrenheit_a_celsius\" que tome un \n",
    "parámetro \"fahrenheit\" y devuelva su equivalente en grados Celsius."
   ]
  },
  {
   "cell_type": "code",
   "execution_count": 14,
   "id": "f13e0ba0",
   "metadata": {},
   "outputs": [
    {
     "name": "stdout",
     "output_type": "stream",
     "text": [
      "False\n"
     ]
    }
   ],
   "source": [
    "def es_par(numero):\n",
    "    if numero%2==0:\n",
    "        print(numero%2==0)\n",
    "    else:\n",
    "        print(numero%2==0)\n",
    "es_par(5)"
   ]
  },
  {
   "cell_type": "code",
   "execution_count": 16,
   "id": "324c59c8",
   "metadata": {},
   "outputs": [
    {
     "name": "stdout",
     "output_type": "stream",
     "text": [
      "Hola Fran\n"
     ]
    }
   ],
   "source": [
    "def concatenar_string(cadena1,cadena2):\n",
    "    resultado=cadena1+' '+cadena2\n",
    "    print(resultado)\n",
    "concatenar_string('Hola','Fran')"
   ]
  },
  {
   "cell_type": "code",
   "execution_count": 17,
   "id": "0d5e18e8",
   "metadata": {},
   "outputs": [
    {
     "name": "stdout",
     "output_type": "stream",
     "text": [
      "9\n"
     ]
    }
   ],
   "source": [
    "import numpy as np\n",
    "def obtenerMaximo(lista):\n",
    "    print(np.max(np.array(lista)))\n",
    "obtenerMaximo(lista)"
   ]
  },
  {
   "cell_type": "markdown",
   "id": "96a4feb2",
   "metadata": {},
   "source": [
    " 9. Escribe una función llamada \"calcular_edad\" que tome dos parámetros: \n",
    "\"año_actual\" y \"año_nacimiento\" y calcule la edad de una persona.\n",
    " 10. Define una función llamada \"es_divisible\" que tome dos parámetros \n",
    "\"num\" y \"divisor\" e imprima True si \"num\" es divisible por \"divisor\", o \n",
    "False si no lo es.\n",
    " 11. Crea una función llamada \"mostrar_info_persona\" que tome tres \n",
    "argumentos de palabra clave: \"nombre\", \"edad\" y \"ciudad\". La función \n",
    "debe imprimir en la consola la información de una persona en un \n",
    "formato legible."
   ]
  },
  {
   "cell_type": "code",
   "execution_count": 18,
   "id": "b40a46c0",
   "metadata": {},
   "outputs": [
    {
     "name": "stdout",
     "output_type": "stream",
     "text": [
      "29\n"
     ]
    }
   ],
   "source": [
    "def calcular_edad(currentYear,birthYear):\n",
    "    age=currentYear-birthYear\n",
    "    print(age)\n",
    "calcular_edad(2025,1996)"
   ]
  },
  {
   "cell_type": "code",
   "execution_count": 31,
   "id": "e815668b",
   "metadata": {},
   "outputs": [
    {
     "name": "stdout",
     "output_type": "stream",
     "text": [
      "False\n"
     ]
    }
   ],
   "source": [
    "def es_Divisible(dividendo,divisor):\n",
    "    if dividendo%divisor==0:\n",
    "        print(True)\n",
    "    else:\n",
    "        print(False)\n",
    "es_Divisible(8,3)"
   ]
  },
  {
   "cell_type": "markdown",
   "id": "052d3bf7",
   "metadata": {},
   "source": [
    "12. Escribe una función llamada \"calcular_promedio\" que tome una lista de \n",
    "números como parámetro y calcule el promedio de esos números. Si no \n",
    "se proporciona una lista, debe usar una lista vacía por defecto.\n",
    " 13. Crea una función llamada \"calcular_potencia\" que tome dos \n",
    "parámetros \"base\" y \"exponente\", y calcule la potencia de la base \n",
    "elevada al exponente. Utiliza 2 como valor por defecto para el \n",
    "exponente.\n",
    " 14. Define una función llamada \"imprimir_info_alumno\" que tome un \n",
    "argumento posicional “nombre”(y sin valor por defecto) y varios \n",
    "argumentos de palabra clave: \"edad\", \"curso\" y “promedio\" (puedes \n",
    "ponerles como valor por defecto None). La función debe imprimir la \n",
    "información del alumno en un formato legible."
   ]
  },
  {
   "cell_type": "code",
   "execution_count": 32,
   "id": "3392b3da",
   "metadata": {},
   "outputs": [
    {
     "name": "stdout",
     "output_type": "stream",
     "text": [
      "4.5\n"
     ]
    }
   ],
   "source": [
    "def calcular_Promedio(lista=[]):\n",
    "    print(np.mean(np.array(lista)))\n",
    "calcular_Promedio(lista)"
   ]
  },
  {
   "cell_type": "code",
   "execution_count": 33,
   "id": "d2b62014",
   "metadata": {},
   "outputs": [
    {
     "name": "stdout",
     "output_type": "stream",
     "text": [
      "8\n"
     ]
    }
   ],
   "source": [
    "def calcularPotencia(base,exponente=2):\n",
    "    print(base**exponente)\n",
    "calcularPotencia(2,3)"
   ]
  },
  {
   "cell_type": "code",
   "execution_count": 35,
   "id": "3a558d83",
   "metadata": {},
   "outputs": [
    {
     "name": "stdout",
     "output_type": "stream",
     "text": [
      "El alumno Francisco, tiene 29 años, estudia IT con un promedio de 9\n"
     ]
    }
   ],
   "source": [
    "def info_alumno(nombre,edad=None,curso=None,promedio=None):\n",
    "    print(f'El alumno {nombre}, tiene {edad} años, estudia {curso} con un promedio de {promedio}')\n",
    "info_alumno('Francisco',29,'IT',9)"
   ]
  }
 ],
 "metadata": {
  "kernelspec": {
   "display_name": "trabajo",
   "language": "python",
   "name": "python3"
  },
  "language_info": {
   "codemirror_mode": {
    "name": "ipython",
    "version": 3
   },
   "file_extension": ".py",
   "mimetype": "text/x-python",
   "name": "python",
   "nbconvert_exporter": "python",
   "pygments_lexer": "ipython3",
   "version": "3.12.9"
  }
 },
 "nbformat": 4,
 "nbformat_minor": 5
}
