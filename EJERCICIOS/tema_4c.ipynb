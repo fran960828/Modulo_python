{
 "cells": [
  {
   "cell_type": "markdown",
   "id": "294af488",
   "metadata": {},
   "source": [
    "Supongamos que tienes un conjunto de datos de películas que contiene información \n",
    "sobre su título, género, duración, año de lanzamiento y calificación. Quieres analizar \n",
    "estos datos para determinar cuál es el género de película más popular, cuántas películas \n",
    "se lanzaron en cada década y cuál es la duración promedio de cada género de película."
   ]
  },
  {
   "cell_type": "code",
   "execution_count": 1,
   "id": "6730e6d8",
   "metadata": {},
   "outputs": [],
   "source": [
    "import numpy as np"
   ]
  },
  {
   "cell_type": "code",
   "execution_count": 26,
   "id": "f902139b",
   "metadata": {},
   "outputs": [],
   "source": [
    "peliculas=np.array([\n",
    "    ['Pelicula 1','comedia',120,1990,8.5],\n",
    "    ['Pelicula 2','acción',110,2005,7.8],\n",
    "    ['Pelicula 3','drama',95,2010,6.9],\n",
    "    ['Pelicula 4','comedia',100,1985,7.5],\n",
    "    ['Pelicula 5','acción',130,2015,8.1],\n",
    "    ['Pelicula 6','drama',115,2000,6.7],\n",
    "    ['Pelicula 7','comedia',90,1995,8.2],\n",
    "    ['Pelicula 8','acción',105,2010,7.4],\n",
    "    ['Pelicula 9','drama',125,1980,6.8],\n",
    "    ['Pelicula 10','comedia',95,2000,8]\n",
    "])"
   ]
  },
  {
   "cell_type": "code",
   "execution_count": 34,
   "id": "8e26647a",
   "metadata": {},
   "outputs": [
    {
     "data": {
      "text/plain": [
       "np.str_('comedia')"
      ]
     },
     "execution_count": 34,
     "metadata": {},
     "output_type": "execute_result"
    }
   ],
   "source": [
    "# Obtención del genero más popular\n",
    "puntuaciones=np.array([float(puntuacion[4]) for puntuacion in peliculas])\n",
    "indicemax=np.argmax(puntuaciones)\n",
    "generoMasPopular=peliculas[indicemax,1]\n",
    "generoMasPopular\n",
    "\n",
    "    "
   ]
  },
  {
   "cell_type": "code",
   "execution_count": 46,
   "id": "42e75b37",
   "metadata": {},
   "outputs": [
    {
     "data": {
      "text/plain": [
       "{'decada 1980': 2, 'decada 1990': 2, 'decada 2000': 3, 'decada 2010': 3}"
      ]
     },
     "execution_count": 46,
     "metadata": {},
     "output_type": "execute_result"
    }
   ],
   "source": [
    "#Cuantas peliculas se lanzaron en cada decada\n",
    "lanzamientos=np.array([int(ano[3]) for ano in peliculas])\n",
    "decadas={}\n",
    "for i in range(1980,2020,10):\n",
    "    contador=0\n",
    "    for lanzamiento in lanzamientos:\n",
    "        if lanzamiento>=i and lanzamiento<(i+9):\n",
    "            contador+=1\n",
    "    decadas[f'decada {i}']=contador\n",
    "decadas\n",
    "            \n",
    "        "
   ]
  },
  {
   "cell_type": "code",
   "execution_count": 56,
   "id": "54effbf3",
   "metadata": {},
   "outputs": [
    {
     "name": "stdout",
     "output_type": "stream",
     "text": [
      "las peliculas de acción tienen una duración promedio de 115.00 minutos\n",
      "las peliculas de comedia tienen una duración promedio de 101.25 minutos\n",
      "las peliculas de drama tienen una duración promedio de 111.67 minutos\n"
     ]
    }
   ],
   "source": [
    "generos=np.array([genero[1] for genero in peliculas])\n",
    "generosSinDuplicados=np.unique(generos)\n",
    "listaPromedio=[]\n",
    "for genero in generosSinDuplicados:\n",
    "    pelisPorGenero=peliculas[generos==genero].T\n",
    "    listaPromedio.append(np.mean(pelisPorGenero[2].astype(int)))\n",
    "for i in range(len(listaPromedio)):\n",
    "    print(f'las peliculas de {generosSinDuplicados[i]} tienen una duración promedio de {listaPromedio[i]:.2f} minutos')"
   ]
  },
  {
   "cell_type": "markdown",
   "id": "7050fd16",
   "metadata": {},
   "source": [
    "Supongamos que trabajas en una empresa que fabrica dispositivos electrónicos y quieres \n",
    "analizar los datos de calidad de los componentes utilizados en la producción de dichos \n",
    "dispositivos. Tienes un conjunto de datos que contiene información sobre la fecha de \n",
    "producción, el tipo de componente, el lote al que pertenece el componente y la \n",
    "puntuación de calidad del componente (un número entre 0 y 100). Quieres analizar estos \n",
    "datos para determinar cuál es el tipo de componente con la puntuación de calidad más \n",
    "alta, cuántos componentes se produjeron"
   ]
  },
  {
   "cell_type": "code",
   "execution_count": 2,
   "id": "a43fbc45",
   "metadata": {},
   "outputs": [
    {
     "data": {
      "text/plain": [
       "array([['2025-01-01', 'componente 1', 'Lote A', '80'],\n",
       "       ['2025-01-15', 'componente 2', 'Lote B', '90'],\n",
       "       ['2025-02-01', 'componente 1', 'Lote C', '85'],\n",
       "       ['2025-02-15', 'componente 2', 'Lote D', '95'],\n",
       "       ['2025-03-01', 'componente 1', 'Lote E', '75'],\n",
       "       ['2025-03-15', 'componente 2', 'Lote F', '90']], dtype='<U21')"
      ]
     },
     "execution_count": 2,
     "metadata": {},
     "output_type": "execute_result"
    }
   ],
   "source": [
    "datos=np.array([\n",
    "    ['2025-01-01','componente 1','Lote A',80],\n",
    "    ['2025-01-15','componente 2','Lote B',90],\n",
    "    ['2025-02-01','componente 1','Lote C',85],\n",
    "    ['2025-02-15','componente 2','Lote D',95],\n",
    "    ['2025-03-01','componente 1','Lote E',75],\n",
    "    ['2025-03-15','componente 2','Lote F',90],\n",
    "])\n",
    "datos"
   ]
  },
  {
   "cell_type": "code",
   "execution_count": 8,
   "id": "cb06d0e1",
   "metadata": {},
   "outputs": [
    {
     "data": {
      "text/plain": [
       "np.str_('componente 2')"
      ]
     },
     "execution_count": 8,
     "metadata": {},
     "output_type": "execute_result"
    }
   ],
   "source": [
    "# Componente con la puntuación más alta\n",
    "puntuaciones=np.array([puntuacion[3] for puntuacion in datos])\n",
    "indiceMaximo=np.argmax(puntuaciones)\n",
    "datos[indiceMaximo,1]\n"
   ]
  },
  {
   "cell_type": "code",
   "execution_count": 11,
   "id": "33c4f031",
   "metadata": {},
   "outputs": [],
   "source": [
    "fechas=np.array([fecha[0] for fecha in datos])\n",
    "meses=np.array([int(mes[5:7]) for mes in fechas])\n",
    "mesesUnicos=np.unique(meses)"
   ]
  },
  {
   "cell_type": "code",
   "execution_count": 14,
   "id": "058ad098",
   "metadata": {},
   "outputs": [
    {
     "name": "stdout",
     "output_type": "stream",
     "text": [
      "el mes 1 se han producido 2 componentes por mes\n",
      "el mes 2 se han producido 2 componentes por mes\n",
      "el mes 3 se han producido 2 componentes por mes\n"
     ]
    }
   ],
   "source": [
    "for mes in mesesUnicos:\n",
    "    componentesPorMes=len(datos[meses==mes])\n",
    "    print(f'el mes {mes} se han producido {componentesPorMes} componentes por mes')"
   ]
  },
  {
   "cell_type": "code",
   "execution_count": 22,
   "id": "9c8bd27b",
   "metadata": {},
   "outputs": [
    {
     "name": "stdout",
     "output_type": "stream",
     "text": [
      "el componente 1 tiene una puntuación promedio de 80.0\n",
      "el componente 2 tiene una puntuación promedio de 91.66666666666667\n"
     ]
    }
   ],
   "source": [
    "componentes=np.array([componente[1] for componente in datos])\n",
    "componentesUnicos=np.unique(componentes)\n",
    "for componente in componentesUnicos:\n",
    "    puntuacionPromedio=datos[componentes==componente].T\n",
    "    media=np.mean(puntuacionPromedio[3].astype(int))\n",
    "    print(f'el {componente} tiene una puntuación promedio de {media}')\n"
   ]
  },
  {
   "cell_type": "code",
   "execution_count": 18,
   "id": "d3b449d0",
   "metadata": {},
   "outputs": [
    {
     "data": {
      "text/plain": [
       "array(['componente 1', 'componente 2'], dtype='<U12')"
      ]
     },
     "execution_count": 18,
     "metadata": {},
     "output_type": "execute_result"
    }
   ],
   "source": [
    "componentesUnicos"
   ]
  }
 ],
 "metadata": {
  "kernelspec": {
   "display_name": "trabajo",
   "language": "python",
   "name": "python3"
  },
  "language_info": {
   "codemirror_mode": {
    "name": "ipython",
    "version": 3
   },
   "file_extension": ".py",
   "mimetype": "text/x-python",
   "name": "python",
   "nbconvert_exporter": "python",
   "pygments_lexer": "ipython3",
   "version": "3.12.9"
  }
 },
 "nbformat": 4,
 "nbformat_minor": 5
}
