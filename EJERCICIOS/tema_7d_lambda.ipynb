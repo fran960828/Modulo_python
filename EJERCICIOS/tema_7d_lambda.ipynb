{
 "cells": [
  {
   "cell_type": "markdown",
   "id": "73fd03b8",
   "metadata": {},
   "source": [
    "Imagina que trabajas en una empresa internacional con equipos distribuidos en \n",
    "diferentes países. Cada equipo tiene una lista de empleados, representados \n",
    "como diccionarios, con información sobre el nombre, la edad y el rendimiento \n",
    "en proyectos recientes.\n",
    " Tu tarea es organizar una lista consolidada de todos los empleados de la \n",
    "empresa. La organización debe seguir ciertas reglas:\n",
    "  Los empleados se deben ordenar por el rendimiento en proyectos recientes \n",
    "de forma descendente.\n",
    "  Para aquellos con el mismo rendimiento, se deben ordenar por edad de \n",
    "forma ascendente. Además, deseas agrupar a los empleados por país para \n",
    "un análisis más efectivo. Utiliza funciones lambda.\n",
    " A continuacion un ejemplo de una posible entrada y salida de la solucion:"
   ]
  },
  {
   "cell_type": "code",
   "execution_count": 20,
   "id": "fb921e5e",
   "metadata": {},
   "outputs": [],
   "source": [
    "equipo_trabajo=[{'nombre':'Fran','edad':29,'rendimiento':91},{'nombre':'Ivan','edad':22,'rendimiento':91},{'nombre':'Mary','edad':41,'rendimiento':94}]\n"
   ]
  },
  {
   "cell_type": "code",
   "execution_count": null,
   "id": "560f2f15",
   "metadata": {},
   "outputs": [
    {
     "name": "stdout",
     "output_type": "stream",
     "text": [
      "[{'nombre': 'Mary', 'edad': 41, 'rendimiento': 94}, {'nombre': 'Ivan', 'edad': 22, 'rendimiento': 91}, {'nombre': 'Fran', 'edad': 29, 'rendimiento': 91}]\n"
     ]
    }
   ],
   "source": [
    "#Ordenar la lista de arriba modificando la original, primero el rendimiento en descendente(le ponemos -x) y luego si coinciden por edad ascendente\n",
    "equipo_trabajo.sort(key=lambda x: (-x['rendimiento'],x['edad']))\n",
    "\n",
    "print(equipo_trabajo)\n"
   ]
  },
  {
   "cell_type": "markdown",
   "id": "89d123c1",
   "metadata": {},
   "source": [
    "Problema de Análisis de Datos de Ventas:\n",
    " Imagina que eres parte de una empresa de comercio electrónico y tienes \n",
    "información detallada sobre las ventas de productos. Cada venta se representa \n",
    "como un diccionario, que incluye el nombre del producto, la fecha de venta, el \n",
    "monto de la venta y la ubicación del comprador. Realiza un análisis avanzado \n",
    "de estas ventas.\n",
    " 3\n",
    " Python avanzado - ejercicios\n",
    " Filtra las ventas realizadas en el último trimestre del año.\n",
    "  Selecciona solo las ventas de productos con un monto superior a $500.\n",
    " Agrupa las ventas por ubicación del comprador.\n",
    " Calcula el promedio del monto de venta para cada ubicación.\n",
    " Ordena las ubicaciones por el promedio del monto de venta de forma \n",
    "descendente. Utiliza funciones lambda."
   ]
  },
  {
   "cell_type": "code",
   "execution_count": 30,
   "id": "f5be06e8",
   "metadata": {},
   "outputs": [
    {
     "data": {
      "text/plain": [
       "[{'producto': 'A', 'fecha': '01-01-2025', 'monto': 1200, 'pais': 'españa'},\n",
       " {'producto': 'B', 'fecha': '03-01-2025', 'monto': 1100, 'pais': 'francia'},\n",
       " {'producto': 'C', 'fecha': '02-02-2025', 'monto': 1150, 'pais': 'alemania'},\n",
       " {'producto': 'D', 'fecha': '04-03-2025', 'monto': 1300, 'pais': 'italia'},\n",
       " {'producto': 'E', 'fecha': '05-04-2025', 'monto': 1250, 'pais': 'España'},\n",
       " {'producto': 'F', 'fecha': '06-05-2025', 'monto': 1350, 'pais': 'Francia'},\n",
       " {'producto': 'G', 'fecha': '07-06-2025', 'monto': 1400, 'pais': 'Alemania'},\n",
       " {'producto': 'H', 'fecha': '08-07-2025', 'monto': 1450, 'pais': 'Italia'}]"
      ]
     },
     "execution_count": 30,
     "metadata": {},
     "output_type": "execute_result"
    }
   ],
   "source": [
    "analisis_ventas=[{'producto':'A','fecha':'01-01-2025','monto':1200,'pais':'españa'}, \n",
    "{'producto':'B','fecha':'03-01-2025','monto':1100,'pais':'francia'},\n",
    " {'producto':'C','fecha':'02-02-2025','monto':1150,'pais':'alemania'}, \n",
    " {'producto':'D','fecha':'04-03-2025','monto':1300,'pais':'italia'},\n",
    "  {'producto':'E','fecha':'05-04-2025','monto':1250,'pais':'España'}, \n",
    "  {'producto':'F','fecha':'06-05-2025','monto':1350,'pais':'Francia'}, \n",
    "  {'producto':'G','fecha':'07-06-2025','monto':1400,'pais':'Alemania'},\n",
    "   {'producto':'H','fecha':'08-07-2025','monto':1450,'pais':'Italia'}]\n",
    "analisis_ventas"
   ]
  },
  {
   "cell_type": "code",
   "execution_count": 31,
   "id": "0aaebf3d",
   "metadata": {},
   "outputs": [],
   "source": [
    "import datetime"
   ]
  },
  {
   "cell_type": "code",
   "execution_count": 36,
   "id": "8b7176ee",
   "metadata": {},
   "outputs": [
    {
     "name": "stdout",
     "output_type": "stream",
     "text": [
      "[{'producto': 'A', 'fecha': '01-01-2025', 'monto': 1200, 'pais': 'españa'}, {'producto': 'B', 'fecha': '03-01-2025', 'monto': 1100, 'pais': 'francia'}, {'producto': 'C', 'fecha': '02-02-2025', 'monto': 1150, 'pais': 'alemania'}, {'producto': 'D', 'fecha': '04-03-2025', 'monto': 1300, 'pais': 'italia'}]\n"
     ]
    }
   ],
   "source": [
    "\n",
    "analisis_por_fecha=list(filter(lambda x: datetime.datetime.strptime(x['fecha'],'%d-%m-%Y')<datetime.datetime(2025,4,1),analisis_ventas))\n",
    "print(analisis_por_fecha)"
   ]
  },
  {
   "cell_type": "code",
   "execution_count": 38,
   "id": "c0b0829d",
   "metadata": {},
   "outputs": [
    {
     "data": {
      "text/plain": [
       "[{'producto': 'F', 'fecha': '06-05-2025', 'monto': 1350, 'pais': 'Francia'},\n",
       " {'producto': 'G', 'fecha': '07-06-2025', 'monto': 1400, 'pais': 'Alemania'},\n",
       " {'producto': 'H', 'fecha': '08-07-2025', 'monto': 1450, 'pais': 'Italia'}]"
      ]
     },
     "execution_count": 38,
     "metadata": {},
     "output_type": "execute_result"
    }
   ],
   "source": [
    "ventas_por_monto=list(filter(lambda x: x['monto']>1300,analisis_ventas))\n",
    "ventas_por_monto"
   ]
  },
  {
   "cell_type": "code",
   "execution_count": 42,
   "id": "565bfe60",
   "metadata": {},
   "outputs": [],
   "source": [
    "import numpy as np"
   ]
  },
  {
   "cell_type": "code",
   "execution_count": 49,
   "id": "55b0e283",
   "metadata": {},
   "outputs": [
    {
     "name": "stdout",
     "output_type": "stream",
     "text": [
      "Ventas en:  alemania\n",
      "[{'producto': 'C', 'fecha': '02-02-2025', 'monto': 1150, 'pais': 'alemania'}, {'producto': 'G', 'fecha': '07-06-2025', 'monto': 1400, 'pais': 'Alemania'}]\n",
      "______________________________________________________________________________\n",
      "Ventas en:  españa\n",
      "[{'producto': 'A', 'fecha': '01-01-2025', 'monto': 1200, 'pais': 'españa'}, {'producto': 'E', 'fecha': '05-04-2025', 'monto': 1250, 'pais': 'España'}]\n",
      "______________________________________________________________________________\n",
      "Ventas en:  francia\n",
      "[{'producto': 'B', 'fecha': '03-01-2025', 'monto': 1100, 'pais': 'francia'}, {'producto': 'F', 'fecha': '06-05-2025', 'monto': 1350, 'pais': 'Francia'}]\n",
      "______________________________________________________________________________\n",
      "Ventas en:  italia\n",
      "[{'producto': 'D', 'fecha': '04-03-2025', 'monto': 1300, 'pais': 'italia'}, {'producto': 'H', 'fecha': '08-07-2025', 'monto': 1450, 'pais': 'Italia'}]\n",
      "______________________________________________________________________________\n"
     ]
    }
   ],
   "source": [
    "paises=np.unique(np.array([venta['pais'].lower() for venta in analisis_ventas]))\n",
    "for pais in list(paises):\n",
    "    print('Ventas en: ',pais)\n",
    "    ventas_por_ubicacion=list(filter(lambda x: x['pais'].lower()==pais,analisis_ventas))\n",
    "    print(ventas_por_ubicacion)\n",
    "    print('______________________________________________________________________________')\n"
   ]
  },
  {
   "cell_type": "code",
   "execution_count": 56,
   "id": "769c977c",
   "metadata": {},
   "outputs": [],
   "source": [
    "ordenar_por_monto_medio=[]\n",
    "for pais in list(paises):\n",
    "    ventas_por_ubicacion=list(filter(lambda x: x['pais'].lower()==pais,analisis_ventas))\n",
    "    montos=[pais['monto'] for pais in ventas_por_ubicacion]\n",
    "    promedio=sum(montos)/len(montos)\n",
    "    ordenar_por_monto_medio.append({'pais':pais,'monto_medio':promedio})\n"
   ]
  },
  {
   "cell_type": "code",
   "execution_count": 61,
   "id": "f75b4e8d",
   "metadata": {},
   "outputs": [
    {
     "data": {
      "text/plain": [
       "[{'pais': np.str_('italia'), 'monto_medio': 1375.0},\n",
       " {'pais': np.str_('alemania'), 'monto_medio': 1275.0},\n",
       " {'pais': np.str_('españa'), 'monto_medio': 1225.0},\n",
       " {'pais': np.str_('francia'), 'monto_medio': 1225.0}]"
      ]
     },
     "execution_count": 61,
     "metadata": {},
     "output_type": "execute_result"
    }
   ],
   "source": [
    "ordenar_por_monto_medio.sort(key=lambda x:x['monto_medio'],reverse=True)\n",
    "ordenar_por_monto_medio"
   ]
  },
  {
   "cell_type": "markdown",
   "id": "e72ed6df",
   "metadata": {},
   "source": [
    " Imagina que te encuentras desarrollando una herramienta de procesamiento de \n",
    "nombres para una aplicación de gestión de contactos. Tienes una lista de \n",
    "nombres en el formato \"Apellido, Nombre\", realiza las siguientes tareas:\n",
    "  Utiliza la función lambda para transformar una lista de nombres completos \n",
    "al nuevo formato.\n",
    "  Filtra la lista para incluir solo los nombres que contienen al menos dos \n",
    "vocales y tienen una longitud mayor a 10 caracteres."
   ]
  },
  {
   "cell_type": "code",
   "execution_count": 62,
   "id": "684e38ab",
   "metadata": {},
   "outputs": [],
   "source": [
    "nombres = [\n",
    "    'García,Ana',\n",
    "    'López,Carlos',\n",
    "    'Martínez,Lucía',\n",
    "    'Sánchez,Diego',\n",
    "    'Pérez,María',\n",
    "    'Romero,Javier',\n",
    "    'Torres,Elena',\n",
    "    'Fernández,Raúl',\n",
    "    'Ruiz,Patricia',\n",
    "    'Jiménez,Andrés'\n",
    "]\n"
   ]
  },
  {
   "cell_type": "code",
   "execution_count": 78,
   "id": "ec289233",
   "metadata": {},
   "outputs": [
    {
     "data": {
      "text/plain": [
       "['Ana García',\n",
       " 'Carlos López',\n",
       " 'Lucía Martínez',\n",
       " 'Diego Sánchez',\n",
       " 'María Pérez',\n",
       " 'Javier Romero',\n",
       " 'Elena Torres',\n",
       " 'Raúl Fernández',\n",
       " 'Patricia Ruiz',\n",
       " 'Andrés Jiménez']"
      ]
     },
     "execution_count": 78,
     "metadata": {},
     "output_type": "execute_result"
    }
   ],
   "source": [
    "nombres_formato=[nombre.split(',')[-1]+' '+nombre.split(',')[-2] for nombre in nombres]\n",
    "nombres_formato = list(map(lambda x: x.split(',')[1] + ' ' + x.split(',')[0], nombres))\n",
    "nombres_formato\n"
   ]
  },
  {
   "cell_type": "code",
   "execution_count": 85,
   "id": "66fa17f4",
   "metadata": {},
   "outputs": [
    {
     "name": "stdout",
     "output_type": "stream",
     "text": [
      "['Lucía Martínez', 'Diego Sánchez', 'Javier Romero', 'Elena Torres', 'Patricia Ruiz']\n"
     ]
    }
   ],
   "source": [
    "nombres_filtrados = list(filter(\n",
    "    lambda x: len(x) > 10 and sum(1 for c in x.lower() if c in 'aeiou') >= 4,\n",
    "    nombres_formato\n",
    "))\n",
    "\n",
    "print(nombres_filtrados)\n"
   ]
  }
 ],
 "metadata": {
  "kernelspec": {
   "display_name": "trabajo",
   "language": "python",
   "name": "python3"
  },
  "language_info": {
   "codemirror_mode": {
    "name": "ipython",
    "version": 3
   },
   "file_extension": ".py",
   "mimetype": "text/x-python",
   "name": "python",
   "nbconvert_exporter": "python",
   "pygments_lexer": "ipython3",
   "version": "3.12.9"
  }
 },
 "nbformat": 4,
 "nbformat_minor": 5
}
