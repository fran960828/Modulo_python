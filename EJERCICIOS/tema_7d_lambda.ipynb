{
 "cells": [
  {
   "cell_type": "markdown",
   "id": "73fd03b8",
   "metadata": {},
   "source": [
    "Imagina que trabajas en una empresa internacional con equipos distribuidos en \n",
    "diferentes países. Cada equipo tiene una lista de empleados, representados \n",
    "como diccionarios, con información sobre el nombre, la edad y el rendimiento \n",
    "en proyectos recientes.\n",
    " Tu tarea es organizar una lista consolidada de todos los empleados de la \n",
    "empresa. La organización debe seguir ciertas reglas:\n",
    "  Los empleados se deben ordenar por el rendimiento en proyectos recientes \n",
    "de forma descendente.\n",
    "  Para aquellos con el mismo rendimiento, se deben ordenar por edad de \n",
    "forma ascendente. Además, deseas agrupar a los empleados por país para \n",
    "un análisis más efectivo. Utiliza funciones lambda.\n",
    " A continuacion un ejemplo de una posible entrada y salida de la solucion:"
   ]
  },
  {
   "cell_type": "code",
   "execution_count": 20,
   "id": "fb921e5e",
   "metadata": {},
   "outputs": [],
   "source": [
    "equipo_trabajo=[{'nombre':'Fran','edad':29,'rendimiento':91},{'nombre':'Ivan','edad':22,'rendimiento':91},{'nombre':'Mary','edad':41,'rendimiento':94}]\n"
   ]
  },
  {
   "cell_type": "code",
   "execution_count": null,
   "id": "560f2f15",
   "metadata": {},
   "outputs": [
    {
     "name": "stdout",
     "output_type": "stream",
     "text": [
      "[{'nombre': 'Mary', 'edad': 41, 'rendimiento': 94}, {'nombre': 'Ivan', 'edad': 22, 'rendimiento': 91}, {'nombre': 'Fran', 'edad': 29, 'rendimiento': 91}]\n"
     ]
    }
   ],
   "source": [
    "#Ordenar la lista de arriba modificando la original, primero el rendimiento en descendente(le ponemos -x) y luego si coinciden por edad ascendente\n",
    "equipo_trabajo.sort(key=lambda x: (-x['rendimiento'],x['edad']))\n",
    "\n",
    "print(equipo_trabajo)\n"
   ]
  },
  {
   "cell_type": "markdown",
   "id": "89d123c1",
   "metadata": {},
   "source": [
    "Problema de Análisis de Datos de Ventas:\n",
    " Imagina que eres parte de una empresa de comercio electrónico y tienes \n",
    "información detallada sobre las ventas de productos. Cada venta se representa \n",
    "como un diccionario, que incluye el nombre del producto, la fecha de venta, el \n",
    "monto de la venta y la ubicación del comprador. Realiza un análisis avanzado \n",
    "de estas ventas.\n",
    " 3\n",
    " Python avanzado - ejercicios\n",
    " Filtra las ventas realizadas en el último trimestre del año.\n",
    "  Selecciona solo las ventas de productos con un monto superior a $500.\n",
    " Agrupa las ventas por ubicación del comprador.\n",
    " Calcula el promedio del monto de venta para cada ubicación.\n",
    " Ordena las ubicaciones por el promedio del monto de venta de forma \n",
    "descendente. Utiliza funciones lambda."
   ]
  },
  {
   "cell_type": "code",
   "execution_count": 30,
   "id": "f5be06e8",
   "metadata": {},
   "outputs": [
    {
     "data": {
      "text/plain": [
       "[{'producto': 'A', 'fecha': '01-01-2025', 'monto': 1200, 'pais': 'españa'},\n",
       " {'producto': 'B', 'fecha': '03-01-2025', 'monto': 1100, 'pais': 'francia'},\n",
       " {'producto': 'C', 'fecha': '02-02-2025', 'monto': 1150, 'pais': 'alemania'},\n",
       " {'producto': 'D', 'fecha': '04-03-2025', 'monto': 1300, 'pais': 'italia'},\n",
       " {'producto': 'E', 'fecha': '05-04-2025', 'monto': 1250, 'pais': 'España'},\n",
       " {'producto': 'F', 'fecha': '06-05-2025', 'monto': 1350, 'pais': 'Francia'},\n",
       " {'producto': 'G', 'fecha': '07-06-2025', 'monto': 1400, 'pais': 'Alemania'},\n",
       " {'producto': 'H', 'fecha': '08-07-2025', 'monto': 1450, 'pais': 'Italia'}]"
      ]
     },
     "execution_count": 30,
     "metadata": {},
     "output_type": "execute_result"
    }
   ],
   "source": [
    "analisis_ventas=[{'producto':'A','fecha':'01-01-2025','monto':1200,'pais':'españa'}, \n",
    "{'producto':'B','fecha':'03-01-2025','monto':1100,'pais':'francia'},\n",
    " {'producto':'C','fecha':'02-02-2025','monto':1150,'pais':'alemania'}, \n",
    " {'producto':'D','fecha':'04-03-2025','monto':1300,'pais':'italia'},\n",
    "  {'producto':'E','fecha':'05-04-2025','monto':1250,'pais':'España'}, \n",
    "  {'producto':'F','fecha':'06-05-2025','monto':1350,'pais':'Francia'}, \n",
    "  {'producto':'G','fecha':'07-06-2025','monto':1400,'pais':'Alemania'},\n",
    "   {'producto':'H','fecha':'08-07-2025','monto':1450,'pais':'Italia'}]\n",
    "analisis_ventas"
   ]
  },
  {
   "cell_type": "code",
   "execution_count": 31,
   "id": "0aaebf3d",
   "metadata": {},
   "outputs": [],
   "source": [
    "import datetime"
   ]
  },
  {
   "cell_type": "code",
   "execution_count": 36,
   "id": "8b7176ee",
   "metadata": {},
   "outputs": [
    {
     "name": "stdout",
     "output_type": "stream",
     "text": [
      "[{'producto': 'A', 'fecha': '01-01-2025', 'monto': 1200, 'pais': 'españa'}, {'producto': 'B', 'fecha': '03-01-2025', 'monto': 1100, 'pais': 'francia'}, {'producto': 'C', 'fecha': '02-02-2025', 'monto': 1150, 'pais': 'alemania'}, {'producto': 'D', 'fecha': '04-03-2025', 'monto': 1300, 'pais': 'italia'}]\n"
     ]
    }
   ],
   "source": [
    "\n",
    "analisis_por_fecha=list(filter(lambda x: datetime.datetime.strptime(x['fecha'],'%d-%m-%Y')<datetime.datetime(2025,4,1),analisis_ventas))\n",
    "print(analisis_por_fecha)"
   ]
  },
  {
   "cell_type": "code",
   "execution_count": 38,
   "id": "c0b0829d",
   "metadata": {},
   "outputs": [
    {
     "data": {
      "text/plain": [
       "[{'producto': 'F', 'fecha': '06-05-2025', 'monto': 1350, 'pais': 'Francia'},\n",
       " {'producto': 'G', 'fecha': '07-06-2025', 'monto': 1400, 'pais': 'Alemania'},\n",
       " {'producto': 'H', 'fecha': '08-07-2025', 'monto': 1450, 'pais': 'Italia'}]"
      ]
     },
     "execution_count": 38,
     "metadata": {},
     "output_type": "execute_result"
    }
   ],
   "source": [
    "ventas_por_monto=list(filter(lambda x: x['monto']>1300,analisis_ventas))\n",
    "ventas_por_monto"
   ]
  },
  {
   "cell_type": "code",
   "execution_count": 42,
   "id": "565bfe60",
   "metadata": {},
   "outputs": [],
   "source": [
    "import numpy as np"
   ]
  },
  {
   "cell_type": "code",
   "execution_count": 49,
   "id": "55b0e283",
   "metadata": {},
   "outputs": [
    {
     "name": "stdout",
     "output_type": "stream",
     "text": [
      "Ventas en:  alemania\n",
      "[{'producto': 'C', 'fecha': '02-02-2025', 'monto': 1150, 'pais': 'alemania'}, {'producto': 'G', 'fecha': '07-06-2025', 'monto': 1400, 'pais': 'Alemania'}]\n",
      "______________________________________________________________________________\n",
      "Ventas en:  españa\n",
      "[{'producto': 'A', 'fecha': '01-01-2025', 'monto': 1200, 'pais': 'españa'}, {'producto': 'E', 'fecha': '05-04-2025', 'monto': 1250, 'pais': 'España'}]\n",
      "______________________________________________________________________________\n",
      "Ventas en:  francia\n",
      "[{'producto': 'B', 'fecha': '03-01-2025', 'monto': 1100, 'pais': 'francia'}, {'producto': 'F', 'fecha': '06-05-2025', 'monto': 1350, 'pais': 'Francia'}]\n",
      "______________________________________________________________________________\n",
      "Ventas en:  italia\n",
      "[{'producto': 'D', 'fecha': '04-03-2025', 'monto': 1300, 'pais': 'italia'}, {'producto': 'H', 'fecha': '08-07-2025', 'monto': 1450, 'pais': 'Italia'}]\n",
      "______________________________________________________________________________\n"
     ]
    }
   ],
   "source": [
    "paises=np.unique(np.array([venta['pais'].lower() for venta in analisis_ventas]))\n",
    "for pais in list(paises):\n",
    "    print('Ventas en: ',pais)\n",
    "    ventas_por_ubicacion=list(filter(lambda x: x['pais'].lower()==pais,analisis_ventas))\n",
    "    print(ventas_por_ubicacion)\n",
    "    print('______________________________________________________________________________')\n"
   ]
  },
  {
   "cell_type": "code",
   "execution_count": 56,
   "id": "769c977c",
   "metadata": {},
   "outputs": [],
   "source": [
    "ordenar_por_monto_medio=[]\n",
    "for pais in list(paises):\n",
    "    ventas_por_ubicacion=list(filter(lambda x: x['pais'].lower()==pais,analisis_ventas))\n",
    "    montos=[pais['monto'] for pais in ventas_por_ubicacion]\n",
    "    promedio=sum(montos)/len(montos)\n",
    "    ordenar_por_monto_medio.append({'pais':pais,'monto_medio':promedio})\n"
   ]
  },
  {
   "cell_type": "code",
   "execution_count": 61,
   "id": "f75b4e8d",
   "metadata": {},
   "outputs": [
    {
     "data": {
      "text/plain": [
       "[{'pais': np.str_('italia'), 'monto_medio': 1375.0},\n",
       " {'pais': np.str_('alemania'), 'monto_medio': 1275.0},\n",
       " {'pais': np.str_('españa'), 'monto_medio': 1225.0},\n",
       " {'pais': np.str_('francia'), 'monto_medio': 1225.0}]"
      ]
     },
     "execution_count": 61,
     "metadata": {},
     "output_type": "execute_result"
    }
   ],
   "source": [
    "ordenar_por_monto_medio.sort(key=lambda x:x['monto_medio'],reverse=True)\n",
    "ordenar_por_monto_medio"
   ]
  },
  {
   "cell_type": "markdown",
   "id": "e72ed6df",
   "metadata": {},
   "source": [
    " Imagina que te encuentras desarrollando una herramienta de procesamiento de \n",
    "nombres para una aplicación de gestión de contactos. Tienes una lista de \n",
    "nombres en el formato \"Apellido, Nombre\", realiza las siguientes tareas:\n",
    "  Utiliza la función lambda para transformar una lista de nombres completos \n",
    "al nuevo formato.\n",
    "  Filtra la lista para incluir solo los nombres que contienen al menos dos \n",
    "vocales y tienen una longitud mayor a 10 caracteres."
   ]
  },
  {
   "cell_type": "code",
   "execution_count": 62,
   "id": "684e38ab",
   "metadata": {},
   "outputs": [],
   "source": [
    "nombres = [\n",
    "    'García,Ana',\n",
    "    'López,Carlos',\n",
    "    'Martínez,Lucía',\n",
    "    'Sánchez,Diego',\n",
    "    'Pérez,María',\n",
    "    'Romero,Javier',\n",
    "    'Torres,Elena',\n",
    "    'Fernández,Raúl',\n",
    "    'Ruiz,Patricia',\n",
    "    'Jiménez,Andrés'\n",
    "]\n"
   ]
  },
  {
   "cell_type": "code",
   "execution_count": 78,
   "id": "ec289233",
   "metadata": {},
   "outputs": [
    {
     "data": {
      "text/plain": [
       "['Ana García',\n",
       " 'Carlos López',\n",
       " 'Lucía Martínez',\n",
       " 'Diego Sánchez',\n",
       " 'María Pérez',\n",
       " 'Javier Romero',\n",
       " 'Elena Torres',\n",
       " 'Raúl Fernández',\n",
       " 'Patricia Ruiz',\n",
       " 'Andrés Jiménez']"
      ]
     },
     "execution_count": 78,
     "metadata": {},
     "output_type": "execute_result"
    }
   ],
   "source": [
    "nombres_formato=[nombre.split(',')[-1]+' '+nombre.split(',')[-2] for nombre in nombres]\n",
    "nombres_formato = list(map(lambda x: x.split(',')[1] + ' ' + x.split(',')[0], nombres))\n",
    "nombres_formato\n"
   ]
  },
  {
   "cell_type": "code",
   "execution_count": 85,
   "id": "66fa17f4",
   "metadata": {},
   "outputs": [
    {
     "name": "stdout",
     "output_type": "stream",
     "text": [
      "['Lucía Martínez', 'Diego Sánchez', 'Javier Romero', 'Elena Torres', 'Patricia Ruiz']\n"
     ]
    }
   ],
   "source": [
    "nombres_filtrados = list(filter(\n",
    "    lambda x: len(x) > 10 and sum(1 for c in x.lower() if c in 'aeiou') >= 4,\n",
    "    nombres_formato\n",
    "))\n",
    "\n",
    "print(nombres_filtrados)\n"
   ]
  },
  {
   "cell_type": "markdown",
   "id": "5cdccc6d",
   "metadata": {},
   "source": [
    "### **6. Clasificación de estudiantes**\n",
    "Tienes una lista de estudiantes, cada uno con `nombre`, `nota` y `edad`.  \n",
    "Usa una expresión `lambda` para:\n",
    "- Ordenar por nota descendente.\n",
    "- En caso de empate, por edad ascendente.  \n",
    "Ejemplo:\n",
    "```python\n",
    "estudiantes = [\n",
    "    {\"nombre\": \"Ana\", \"nota\": 90, \"edad\": 20},\n",
    "    {\"nombre\": \"Luis\", \"nota\": 90, \"edad\": 19},\n",
    "    {\"nombre\": \"Sofía\", \"nota\": 85, \"edad\": 22}\n",
    "]"
   ]
  },
  {
   "cell_type": "code",
   "execution_count": 1,
   "id": "fbd65315",
   "metadata": {},
   "outputs": [],
   "source": [
    "estudiantes = [\n",
    "    {\"nombre\": \"Ana\", \"nota\": 90, \"edad\": 20},\n",
    "    {\"nombre\": \"Luis\", \"nota\": 90, \"edad\": 19},\n",
    "    {\"nombre\": \"Sofía\", \"nota\": 85, \"edad\": 22}\n",
    "]"
   ]
  },
  {
   "cell_type": "code",
   "execution_count": 8,
   "id": "8340a9d6",
   "metadata": {},
   "outputs": [
    {
     "name": "stdout",
     "output_type": "stream",
     "text": [
      "[{'nombre': 'Luis', 'nota': 90, 'edad': 19}, {'nombre': 'Ana', 'nota': 90, 'edad': 20}, {'nombre': 'Sofía', 'nota': 85, 'edad': 22}]\n"
     ]
    }
   ],
   "source": [
    "estudiantes.sort(key=lambda x:(-x['nota'],x['edad']))\n",
    "print(estudiantes)"
   ]
  },
  {
   "cell_type": "markdown",
   "id": "a6194c37",
   "metadata": {},
   "source": [
    "### **7. Filtrado de productos caros**\n",
    "Tienes una lista de tuplas `(producto, precio)`.  \n",
    "Utiliza `filter` con una `lambda` para obtener solo los productos con un precio mayor o igual a 100."
   ]
  },
  {
   "cell_type": "code",
   "execution_count": 9,
   "id": "88c78cc8",
   "metadata": {},
   "outputs": [],
   "source": [
    "productos = [\n",
    "    (\"Auriculares inalámbricos\", 99.99),\n",
    "    (\"Reloj inteligente\", 105.50),\n",
    "    (\"Altavoz Bluetooth\", 95.75),\n",
    "    (\"Teclado mecánico\", 102.30),\n",
    "    (\"Cámara deportiva\", 98.20),\n",
    "    (\"Lámpara de escritorio LED\", 100.00),\n",
    "    (\"Mochila urbana\", 97.40),\n",
    "    (\"Ratón ergonómico\", 101.10),\n",
    "    (\"Set de sábanas premium\", 99.50),\n",
    "    (\"Mini proyector portátil\", 104.90)\n",
    "]"
   ]
  },
  {
   "cell_type": "code",
   "execution_count": 10,
   "id": "7aa6f1f3",
   "metadata": {},
   "outputs": [
    {
     "name": "stdout",
     "output_type": "stream",
     "text": [
      "[('Reloj inteligente', 105.5), ('Teclado mecánico', 102.3), ('Ratón ergonómico', 101.1), ('Mini proyector portátil', 104.9)]\n"
     ]
    }
   ],
   "source": [
    "productos_filtrados=list(filter(lambda x: x[1]>100,productos))\n",
    "print(productos_filtrados)"
   ]
  },
  {
   "cell_type": "markdown",
   "id": "6c6bf47d",
   "metadata": {},
   "source": [
    "### **8. Transformación de texto**\n",
    "Dada una lista de frases, utiliza `map` y `lambda` para:\n",
    "- Eliminar espacios en blanco al inicio y fin.\n",
    "- Convertir todas las frases a minúsculas.\n",
    "- Agregar un punto final si no lo tienen."
   ]
  },
  {
   "cell_type": "code",
   "execution_count": 11,
   "id": "9d5f6d62",
   "metadata": {},
   "outputs": [],
   "source": [
    "frases = [\n",
    "    \"  Hola mundo  \",\n",
    "    \"  Python es divertido  \",\n",
    "    \"  Aprender programación  \",\n",
    "    \"  ChatGPT es útil  \",\n",
    "    \"  Espacios antes y después  \"\n",
    "]\n"
   ]
  },
  {
   "cell_type": "code",
   "execution_count": 14,
   "id": "be71684e",
   "metadata": {},
   "outputs": [
    {
     "data": {
      "text/plain": [
       "['hola mundo.',\n",
       " 'python es divertido.',\n",
       " 'aprender programación.',\n",
       " 'chatgpt es útil.',\n",
       " 'espacios antes y después.']"
      ]
     },
     "execution_count": 14,
     "metadata": {},
     "output_type": "execute_result"
    }
   ],
   "source": [
    "frases_corregidas=list(map(lambda x: x.strip().lower()+'.',frases))\n",
    "frases_corregidas"
   ]
  },
  {
   "cell_type": "markdown",
   "id": "f17d40c6",
   "metadata": {},
   "source": [
    "### **9. Promedio de calificaciones por curso**\n",
    "Tienes una lista de tuplas con el formato `(curso, calificación)`.  \n",
    "Usa `lambda` y `reduce` (de `functools`) para calcular el promedio de calificaciones por curso."
   ]
  },
  {
   "cell_type": "code",
   "execution_count": 15,
   "id": "82b4bdc5",
   "metadata": {},
   "outputs": [],
   "source": [
    "cursos = [\n",
    "    (\"Matemáticas\", 9.5),\n",
    "    (\"Física\", 8.7),\n",
    "    (\"Química\", 7.8),\n",
    "    (\"Historia\", 9.0),\n",
    "    (\"Literatura\", 8.3),\n",
    "    (\"Biología\", 8.9),\n",
    "    (\"Informática\", 9.7),\n",
    "    (\"Arte\", 7.5),\n",
    "    (\"Economía\", 8.6),\n",
    "    (\"Filosofía\", 8.0)\n",
    "]\n"
   ]
  },
  {
   "cell_type": "code",
   "execution_count": 29,
   "id": "2b981a7c",
   "metadata": {},
   "outputs": [
    {
     "name": "stdout",
     "output_type": "stream",
     "text": [
      "8.599999999999998\n"
     ]
    }
   ],
   "source": [
    "from functools import reduce\n",
    "promedio=reduce(lambda x,y:x+y[1],cursos,0)/len(cursos)\n",
    "print(promedio)"
   ]
  },
  {
   "cell_type": "markdown",
   "id": "e6393b25",
   "metadata": {},
   "source": [
    "### **10. Generador de funciones matemáticas**\n",
    "Crea una función `generar_funcion(operacion)` que, dado el nombre de una operación (`\"suma\"`, `\"resta\"`, `\"multiplicacion\"`, `\"division\"`), devuelva una **función lambda** que realice dicha operación entre dos números.  \n",
    "Ejemplo:\n",
    "```python\n",
    "f = generar_funcion(\"suma\")\n",
    "print(f(4, 5))  # 9\n",
    "```"
   ]
  },
  {
   "cell_type": "code",
   "execution_count": 30,
   "id": "136a85f6",
   "metadata": {},
   "outputs": [],
   "source": [
    "def generar_funcion(operacion):\n",
    "    if operacion == \"suma\":\n",
    "        return lambda a, b: a + b\n",
    "    elif operacion == \"resta\":\n",
    "        return lambda a, b: a - b\n",
    "    elif operacion == \"multiplicacion\":\n",
    "        return lambda a, b: a * b\n",
    "    elif operacion == \"division\":\n",
    "        return lambda a, b: a / b if b != 0 else float('inf')  # evita división por 0\n",
    "    else:\n",
    "        raise ValueError(\"Operación no válida. Usa: suma, resta, multiplicacion o division\")"
   ]
  },
  {
   "cell_type": "code",
   "execution_count": 32,
   "id": "642418c8",
   "metadata": {},
   "outputs": [
    {
     "data": {
      "text/plain": [
       "20"
      ]
     },
     "execution_count": 32,
     "metadata": {},
     "output_type": "execute_result"
    }
   ],
   "source": [
    "f=generar_funcion('multiplicacion')\n",
    "f(4,5)"
   ]
  }
 ],
 "metadata": {
  "kernelspec": {
   "display_name": "trabajo",
   "language": "python",
   "name": "python3"
  },
  "language_info": {
   "codemirror_mode": {
    "name": "ipython",
    "version": 3
   },
   "file_extension": ".py",
   "mimetype": "text/x-python",
   "name": "python",
   "nbconvert_exporter": "python",
   "pygments_lexer": "ipython3",
   "version": "3.12.9"
  }
 },
 "nbformat": 4,
 "nbformat_minor": 5
}
