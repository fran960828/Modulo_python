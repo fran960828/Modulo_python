{
 "cells": [
  {
   "cell_type": "markdown",
   "metadata": {},
   "source": [
    "El abecedario latino es un sistema de escritura alfabético más usado del mundo hoy en día. Se\n",
    "compone de 26 letras principales, más ciertas modificaciones y letras adicionales según el idioma\n",
    "del que se trate (por ejemplo, en castellano y gallego se incluye la ”ñ”, en portugués, francés y\n",
    "catalán la ”Ç”, en alemán la ”ß”, etc.).\n",
    "Aplicar el cifrado ROT13 a un texto se reduce a examinar sus caracteres alfabéticos y sustituirlos\n",
    "por la letra que está 13 posiciones por delante en el alfabeto, volviendo al principio si es necesario\n",
    "y conservando las mayúsculas y minúsculas: a se convierte en n, B se convierte en O, y así hasta\n",
    "la Z, que se convierte en M. Solo quedan afectadas las 26 letras principales que aparecen en el\n",
    "alfabeto latino; los números, símbolos, espacios y otros caracteres se dejan igual."
   ]
  },
  {
   "cell_type": "code",
   "execution_count": 10,
   "metadata": {},
   "outputs": [
    {
     "name": "stdout",
     "output_type": "stream",
     "text": [
      "['U', 'b', 'y', 'n', ' ', 'Z', 'h', 'q', 'b', ',', ' ', 'd', 'h', 'r', ' ', 'g', 'n', 'y']\n"
     ]
    }
   ],
   "source": [
    "import string\n",
    "\n",
    "abecedarioMinuscula=list(string.ascii_lowercase)\n",
    "abecedarioMayuscula=list(string.ascii_uppercase)\n",
    "frase=input('Introduce una frase')\n",
    "fraseRot13=[]\n",
    "for letra in frase:\n",
    "    if letra in abecedarioMayuscula:\n",
    "        for i in range(0,len(abecedarioMayuscula)):\n",
    "            if abecedarioMayuscula[i]==letra and i<13:\n",
    "                fraseRot13.append(abecedarioMayuscula[i+13])\n",
    "            elif abecedarioMayuscula[i]==letra and i>13:\n",
    "                fraseRot13.append(abecedarioMayuscula[i-13])\n",
    "    elif letra in abecedarioMinuscula:\n",
    "        for i in range(0,len(abecedarioMinuscula)):\n",
    "            if abecedarioMinuscula[i]==letra and i<13:\n",
    "                fraseRot13.append(abecedarioMinuscula[i+13])\n",
    "            elif abecedarioMinuscula[i]==letra and i>13:\n",
    "                fraseRot13.append(abecedarioMinuscula[i-13])\n",
    "    else:\n",
    "        fraseRot13.append(letra)\n",
    "print(fraseRot13)"
   ]
  }
 ],
 "metadata": {
  "kernelspec": {
   "display_name": "practica_python",
   "language": "python",
   "name": "python3"
  },
  "language_info": {
   "codemirror_mode": {
    "name": "ipython",
    "version": 3
   },
   "file_extension": ".py",
   "mimetype": "text/x-python",
   "name": "python",
   "nbconvert_exporter": "python",
   "pygments_lexer": "ipython3",
   "version": "3.13.5"
  }
 },
 "nbformat": 4,
 "nbformat_minor": 2
}
