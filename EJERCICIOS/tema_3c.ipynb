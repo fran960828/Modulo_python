{
 "cells": [
  {
   "cell_type": "markdown",
   "id": "417a1190",
   "metadata": {},
   "source": [
    "BASE DE DATOS DE UN COLEGIO: \n",
    "Trabajas en colegio y estas encargado de mantener un seguimiento de las notas de los \n",
    "estudiantes de un clase. En tu base de datos tienes una lista con los nombres de los estudiantes y \n",
    "para cada estudiante debes guardar sus notas provenientes de deberes, exámenes y proyectos. \n",
    "También necesitas calcular a nota media de cada estudiante y la nota media de la clase al \n",
    "completo. \n",
    "Pista: Para resolver este problema puedes usar una lista anidada donde guardes las notas para \n",
    "cada estudiante. Entonces puedes usar un bucle para recorrer la lista de listas y calcular la nota \n",
    "media de cada estudiante. También puedes usar otro bucle para calcular la nota media de toda la \n",
    "clase.  "
   ]
  },
  {
   "cell_type": "code",
   "execution_count": 13,
   "id": "6beed6b6",
   "metadata": {},
   "outputs": [
    {
     "data": {
      "text/plain": [
       "6.3340000000000005"
      ]
     },
     "execution_count": 13,
     "metadata": {},
     "output_type": "execute_result"
    }
   ],
   "source": [
    "listaNotas=[['antonio',7,9,6],['fran',5,7,8],['isidro',9,5,7],['anibal',3,4,1],['eustaquio',5,10,9]]\n",
    "listaMedias=[]\n",
    "for alumno in listaNotas:\n",
    "    notaMedia=0\n",
    "    for nota in alumno:\n",
    "        if isinstance(nota,str):\n",
    "            pass\n",
    "        else:\n",
    "            notaMedia+=nota\n",
    "    listaMedias.append([alumno[0],round(notaMedia/3,2)])\n",
    "listaMedias\n",
    "sumaCurso=0\n",
    "for alumno in listaMedias:\n",
    "    for nota in alumno:\n",
    "        if isinstance(nota,str):\n",
    "            pass\n",
    "        else:\n",
    "            sumaCurso+=nota\n",
    "mediaCurso=sumaCurso/len(listaMedias)\n",
    "mediaCurso\n"
   ]
  }
 ],
 "metadata": {
  "kernelspec": {
   "display_name": "trabajo",
   "language": "python",
   "name": "python3"
  },
  "language_info": {
   "codemirror_mode": {
    "name": "ipython",
    "version": 3
   },
   "file_extension": ".py",
   "mimetype": "text/x-python",
   "name": "python",
   "nbconvert_exporter": "python",
   "pygments_lexer": "ipython3",
   "version": "3.12.9"
  }
 },
 "nbformat": 4,
 "nbformat_minor": 5
}
