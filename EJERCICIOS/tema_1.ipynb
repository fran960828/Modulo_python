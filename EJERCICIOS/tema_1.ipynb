{
 "cells": [
  {
   "cell_type": "markdown",
   "metadata": {},
   "source": [
    "1. Escribe un programa que almacene el string ‘estas usando python’ en una variable y luego\n",
    "muestre por pantalla el contenido de la variable."
   ]
  },
  {
   "cell_type": "code",
   "execution_count": 1,
   "metadata": {},
   "outputs": [
    {
     "name": "stdout",
     "output_type": "stream",
     "text": [
      "Estas usando python\n"
     ]
    }
   ],
   "source": [
    "primeraVariable='Estas usando python'\n",
    "print(primeraVariable)"
   ]
  },
  {
   "cell_type": "markdown",
   "metadata": {},
   "source": [
    "2. Amplía el programa para que pregunte el nombre de usuario en la terminal y después muestre\n",
    "por pantalla el mensaje: ‘¡Hola, <nombre>, estas usando python! (<nombre> es el nombre que\n",
    "el usuario hay introducido)"
   ]
  },
  {
   "cell_type": "code",
   "execution_count": 3,
   "metadata": {},
   "outputs": [
    {
     "name": "stdout",
     "output_type": "stream",
     "text": [
      "Hola fran, Estas usando python\n"
     ]
    }
   ],
   "source": [
    "nombre=input('¿Cual es tu nombre?')\n",
    "print('Hola '+nombre+', Estas usando python')"
   ]
  },
  {
   "cell_type": "markdown",
   "metadata": {},
   "source": [
    "3. Usa una función interna de python que actúe sobre el string que has creado antes para que el\n",
    "mensaje que imprima sea: ‘¡HOLA, <NOMBRE>, ESTAS USANDO PYTHON!"
   ]
  },
  {
   "cell_type": "code",
   "execution_count": 6,
   "metadata": {},
   "outputs": [
    {
     "name": "stdout",
     "output_type": "stream",
     "text": [
      "HOLA FRAN, ESTAS USANDO PYTHON\n"
     ]
    }
   ],
   "source": [
    "nombre=input('¿Cual es tu nombre?')\n",
    "presentacion='Hola '+nombre+', Estas usando python'\n",
    "print(presentacion.upper())"
   ]
  },
  {
   "cell_type": "markdown",
   "metadata": {},
   "source": [
    "4. Cambia el script para que el mensaje se imprima al completo en minúsculas (usa de nuevo\n",
    "una función interna de python)"
   ]
  },
  {
   "cell_type": "code",
   "execution_count": 7,
   "metadata": {},
   "outputs": [
    {
     "name": "stdout",
     "output_type": "stream",
     "text": [
      "hola fran, estas usando python\n"
     ]
    }
   ],
   "source": [
    "print(presentacion.lower())"
   ]
  },
  {
   "cell_type": "markdown",
   "metadata": {},
   "source": [
    "5. Cambia el script para que, sin importar como introduzca el usuario el nombre, lo formatee para\n",
    "que tenga el formato correcto, es decir con la primera letra en mayúsculas y las demás en\n",
    "minúscula (Si el usuario introduce el nombre ferNanDO, el programa deberá formatear el\n",
    "nombre a Fernando)."
   ]
  },
  {
   "cell_type": "code",
   "execution_count": 9,
   "metadata": {},
   "outputs": [
    {
     "name": "stdout",
     "output_type": "stream",
     "text": [
      "Hola Francisco, Estas usando python\n"
     ]
    }
   ],
   "source": [
    "nombre=input('¿Cual es tu nombre?').title()\n",
    "print('Hola '+nombre+', Estas usando python')"
   ]
  },
  {
   "cell_type": "markdown",
   "metadata": {},
   "source": [
    "6. Amplía el script para que si por error el usuario introduce un nombre con un punto en medio, el\n",
    "programa automáticamente lo borre (Si el usuario introduce el nombre Fern.ando, el programa\n",
    "deberá formatear el nombre a Fernando)"
   ]
  },
  {
   "cell_type": "code",
   "execution_count": 11,
   "metadata": {},
   "outputs": [
    {
     "name": "stdout",
     "output_type": "stream",
     "text": [
      "Francisco\n"
     ]
    }
   ],
   "source": [
    "nombre = input(\"Ingresa tu nombre: \")\n",
    "print(nombre.replace('.', ''))"
   ]
  },
  {
   "cell_type": "markdown",
   "metadata": {},
   "source": [
    "7. Consigue que el mensaje final sea: ‘¡Hola, <Nombre>, estas usando Python!’"
   ]
  },
  {
   "cell_type": "code",
   "execution_count": 12,
   "metadata": {},
   "outputs": [
    {
     "name": "stdout",
     "output_type": "stream",
     "text": [
      "Hola Francisco, estas usando Python\n"
     ]
    }
   ],
   "source": [
    "nombre=input('¿Cual es tu nombre?').title()\n",
    "lenguaje=input('¿Cual es tu lenguaje favorito?').title()\n",
    "print(f'Hola {nombre}, estas usando {lenguaje}')"
   ]
  },
  {
   "cell_type": "markdown",
   "metadata": {},
   "source": [
    "Una casa de cambios necesita construir un programa que dada una cantidad de euros introducida\n",
    "por el usuario de el resultante en dólares.\n",
    "1. Crea un script que reciba una cantidad de euros del usuario e imprima por pantalla el\n",
    "correspondiente en dólares (considera una tasa de cambio donde 1 EU = 1.2 $)\n",
    "2. La casa de cambios se queda un 10% en concepto de ‘tasas de gestión’. Calcula el monto\n",
    "recibido, el cambio en dólares, la cantidad que se queda la casa de cambios y la cantidad de\n",
    "dólares restante que recibirá el usuario. Imprime el desglose por pantalla formateado de tal\n",
    "forma que quede claro para el usuario."
   ]
  },
  {
   "cell_type": "code",
   "execution_count": 14,
   "metadata": {},
   "outputs": [
    {
     "name": "stdout",
     "output_type": "stream",
     "text": [
      "Cambio a dolares: 240.0 $\n",
      "Retencion casa de cambio: 24.0 $\n",
      "Dinero recibido por el usuario: 216.0 $\n"
     ]
    }
   ],
   "source": [
    "dineroEuros = float(input('Introduce la cantidad de dinero en euros:'))\n",
    "dineroDolares = dineroEuros * 1.2\n",
    "retencionCasaCambio = dineroDolares *0.1\n",
    "recibidoUsuario= dineroDolares - retencionCasaCambio\n",
    "print(f'Cambio a dolares: {dineroDolares} $\\nRetencion casa de cambio: {retencionCasaCambio} $\\nDinero recibido por el usuario: {recibidoUsuario} $')"
   ]
  },
  {
   "cell_type": "markdown",
   "metadata": {},
   "source": [
    "En la competición de skeleton de las olimpiadas de invierno hay tres finalistas. El cronómetro mide\n",
    "los siguientes tiempos:\n",
    "Hannah Neise: 8 minutos 3 segundos y 10 centésimas\n",
    "Jackie Narracott: 12 minutos 7 segundos y 8 centésimas\n",
    "Kimberley Bos: 9 minutos 14 segundos y 3 centésimas\n",
    "1. Crea un script que pida los tiempos por pantalla para cada uno de los finalistas\n",
    "2. Convierte los tiempos de minutos-segundos-centésimas a segundos\n",
    "3. Sabiendo que la pista es de 100 metros calcula la velocidad media de cada uno de ellos en\n",
    "metros por segundo.\n",
    "4. Imprime los resultados por pantalla"
   ]
  },
  {
   "cell_type": "code",
   "execution_count": 15,
   "metadata": {},
   "outputs": [
    {
     "name": "stdout",
     "output_type": "stream",
     "text": [
      "La velocidad media es de 2.67 m/s\n"
     ]
    }
   ],
   "source": [
    "tiempoCarreraMinutos = float(input('Introduce el tiempo de la carrera en minutos: '))\n",
    "tiempoCarreraSegundos = float(input('Introduce el tiempo de la carrera en segundos: '))\n",
    "tiempoCarreraCentesimas= float(input('Introduce el tiempo de la carrera en centesimas: '))\n",
    "tiempoCarreraTotalSegundos = tiempoCarreraMinutos * 60 + tiempoCarreraSegundos + tiempoCarreraCentesimas / 100\n",
    "velocidadMedia = 1000 / tiempoCarreraTotalSegundos\n",
    "print(f'La velocidad media es de {velocidadMedia:.2f} m/s')"
   ]
  },
  {
   "cell_type": "markdown",
   "metadata": {},
   "source": [
    "Una compañía de automóviles vende tres tipos de coche: RBM Serie 1, RMB Serie plus, RBM\n",
    "todoterreno. Cada uno de estos coches tiene un precio de venta y el vendedor recibe una\n",
    "comisión diferente por cada tipo de coche que ha vendido.\n",
    "Suponga que los precios y las comisiones son:\n",
    "RBM Serie 1:\n",
    "precio: 20.000 EU, comisión: 3%\n",
    "RMB Serie plus:\n",
    "precio: 35.000 EU, comisión: 5%\n",
    "RBM todoterreno:\n",
    "precio: 60.000 EU, comisión: 7%\n",
    "Crea un programa donde el usuario introduzca el numero de coches  vendidos de cada tipo ese\n",
    "mes y que le devuelva la cantidad en euros a comisionar ese mes."
   ]
  },
  {
   "cell_type": "code",
   "execution_count": 16,
   "metadata": {},
   "outputs": [
    {
     "name": "stdout",
     "output_type": "stream",
     "text": [
      "La comision total es de 12400.0 $\n"
     ]
    }
   ],
   "source": [
    "cocheTipo1 = int(input('Introduce los coches vendidos del tipo 1: '))\n",
    "cocheTipo2 = int(input('Introduce los coches vendidos del tipo 2: '))\n",
    "cocheTipo3 = int(input('Introduce los coches vendidos del tipo 3: '))\n",
    "comisionTotal= cocheTipo1 * 20000*0.03 + cocheTipo2 * 35000*0.05 + cocheTipo3 * 60000*0.07\n",
    "print(f'La comision total es de {comisionTotal} $')"
   ]
  },
  {
   "cell_type": "markdown",
   "metadata": {},
   "source": [
    "a. Crea un script en el que el usuario introduzca un número de más de una cifra. El script debe\n",
    "imprimir los componentes del número uno a uno por pantalla. Por ejemplo si el número introducido\n",
    "es el 4532 por pantalla deberá imprimirse:\n",
    "4\n",
    "5\n",
    "3\n",
    "2\n",
    "b. Crea un script que dado un numero entero de cuatro cifras calcula e imprima el número que\n",
    "resulta de leer el número introducido de derecha a izquierda. Por ejemplo si el número introducido\n",
    "es 4532, el output deberá ser 2354."
   ]
  },
  {
   "cell_type": "code",
   "execution_count": 19,
   "metadata": {},
   "outputs": [
    {
     "name": "stdout",
     "output_type": "stream",
     "text": [
      "1\n",
      "2\n",
      "3\n",
      "4\n",
      "4\n",
      "3\n",
      "2\n",
      "1\n"
     ]
    }
   ],
   "source": [
    "numero = input('Introduce un numero de más de una cifra:')\n",
    "if len(numero)>1:\n",
    "    for i in range(len(numero)):\n",
    "        print(numero[i])\n",
    "    for i in range(len(numero)-1, -1, -1):\n",
    "        print(numero[i])"
   ]
  },
  {
   "cell_type": "markdown",
   "metadata": {},
   "source": [
    "Crea un script que reciba como input un número de tarjeta de crédito e imprima por pantalla todos\n",
    "los caracteres en forma de asterisco salvo los últimos cuatro. Si por ejemplo el número de tarjeta\n",
    "es 1234 2345 3456 5678, el output deberá ser **** **** **** 5678."
   ]
  },
  {
   "cell_type": "code",
   "execution_count": 21,
   "metadata": {},
   "outputs": [
    {
     "name": "stdout",
     "output_type": "stream",
     "text": [
      "Numero de tarjeta invalido\n"
     ]
    }
   ],
   "source": [
    "numeroTarjeta = input('Introduce el numero de la tarjeta de credito:')\n",
    "if len(numeroTarjeta) == 16:\n",
    "    print(f'**** **** **** {numeroTarjeta[-4:]}')\n",
    "else:\n",
    "    print('Numero de tarjeta invalido')"
   ]
  },
  {
   "cell_type": "markdown",
   "metadata": {},
   "source": [
    "Crea un script que acepte un string de 5 caracteres y devuelva otro string con todos los caracteres\n",
    "duplicados. Si el input es ‘sbc56’, el output deberá ser ‘ssbbcc5566’"
   ]
  },
  {
   "cell_type": "code",
   "execution_count": 22,
   "metadata": {},
   "outputs": [
    {
     "name": "stdout",
     "output_type": "stream",
     "text": [
      "La cadena de caracteres duplicada es: ffrraanncciissccoo\n"
     ]
    }
   ],
   "source": [
    "caracter= input('Introduce una cadena de caracteres: ')\n",
    "resultado = ''\n",
    "for i in range(len(caracter)):\n",
    "    resultado=resultado + caracter[i]*2\n",
    "print(f'La cadena de caracteres duplicada es: {resultado}')"
   ]
  },
  {
   "cell_type": "markdown",
   "metadata": {},
   "source": [
    "CALCULADORA DE AHORROS:\n",
    "Ahora que ya tienes soltura con los fundamentos de Python toca poner tus conocimientos en\n",
    "práctica en un proyecto más extenso. El objetivo es crear un programa con el que puedas calcular\n",
    "tus ahorros anuales. El programa deberá calcular cuánto puede ahorrar una persona dado sus\n",
    "ingresos por hora, sus horas trabajadas y su gasto de vida semanal."
   ]
  },
  {
   "cell_type": "markdown",
   "metadata": {},
   "source": [
    "1. Primero haremos que el programa nos pida nuestro nombre y después imprima un saludo por\n",
    "pantalla de tipo: ‘Hola <Nombre>’\n",
    "2. Guarda el dinero ganado por hora y las horas trabajadas en la semana en dos variables\n",
    "diferentes\n",
    "3. Multiplica ambas variables para obtener el salario semanal\n",
    "4. Ahora calcula las ganancias anuales. Guarda el valor en una variable.\n",
    "5. Ahora imprime por pantalla un mensaje del tipo: ‘<Nombre> tiene unas ganancias anuales de:\n",
    "<cantidad> euros’\n",
    "6. Pide los gastos semanales por pantalla y guárdalos en una variable.\n",
    "7. Calcula el gasto anual\n",
    "8. ¡Recuerda añadir comentarios sobre lo que esta haciendo cada parte del código!\n",
    "9. Los ahorros anuales serán la resta entre lo ganado durante el año menos los gastos anuales.\n",
    "10. Imprime los resultados por pantalla"
   ]
  },
  {
   "cell_type": "code",
   "execution_count": 25,
   "metadata": {},
   "outputs": [
    {
     "name": "stdout",
     "output_type": "stream",
     "text": [
      "Hola Fran, bienvenido al banco\n",
      "Hola Fran, tus ganancias anuales son de 10400.0 $\n",
      "Hola Fran, tu ahorro anual es de 2600.0 $\n"
     ]
    }
   ],
   "source": [
    "nombreAhorrador = input('Introduce el nombre del ahorrador: ').title()\n",
    "print(f'Hola {nombreAhorrador}, bienvenido al banco')\n",
    "dineroHora= float(input('Introduce la cantidad de dinero que ganas por hora: '))\n",
    "horasTrabajadas= float(input('Introduce la cantidad de horas trabajadas: '))\n",
    "salarioSemanal = dineroHora * horasTrabajadas\n",
    "gananciasAnuales = salarioSemanal * 52\n",
    "print(f'Hola {nombreAhorrador}, tus ganancias anuales son de {gananciasAnuales} $')\n",
    "gastosSemanales= float(input('Introduce la cantidad de gastos semanales: '))\n",
    "gastoAnual = gastosSemanales * 52\n",
    "ahorroAnual = gananciasAnuales - gastoAnual\n",
    "print(f'Hola {nombreAhorrador}, tu ahorro anual es de {ahorroAnual} $')\n"
   ]
  }
 ],
 "metadata": {
  "kernelspec": {
   "display_name": "practica_python",
   "language": "python",
   "name": "python3"
  },
  "language_info": {
   "codemirror_mode": {
    "name": "ipython",
    "version": 3
   },
   "file_extension": ".py",
   "mimetype": "text/x-python",
   "name": "python",
   "nbconvert_exporter": "python",
   "pygments_lexer": "ipython3",
   "version": "3.13.5"
  }
 },
 "nbformat": 4,
 "nbformat_minor": 2
}
