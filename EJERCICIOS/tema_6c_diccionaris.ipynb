{
 "cells": [
  {
   "cell_type": "markdown",
   "id": "6b41b1f9",
   "metadata": {},
   "source": [
    "Imagina que eres el gerente de recursos humanos de una empresa y \n",
    "necesitas gestionar la información de los empleados. Cada empleado \n",
    "tiene un nombre, salario y departamento al que pertenece. Implementa \n",
    "un programa en Python que permita agregar nuevos empleados, \n",
    "actualizar el salario de un empleado existente, mostrar la lista completa \n",
    "de empleados y calcular el promedio salarial por departamento."
   ]
  },
  {
   "cell_type": "code",
   "execution_count": 17,
   "id": "a7f5bb72",
   "metadata": {},
   "outputs": [],
   "source": [
    "database={}"
   ]
  },
  {
   "cell_type": "code",
   "execution_count": 2,
   "id": "cf7fd822",
   "metadata": {},
   "outputs": [],
   "source": [
    "def agregarEmpleado(database):\n",
    "    numeroEmpleado=len(database)\n",
    "    nombre=input('Introduce el nombre del empleado')\n",
    "    salario=int(input('Introduce el salario del empleado'))\n",
    "    departamento=input('Indica el departamento del empleado')\n",
    "    database[f'empleado{numeroEmpleado+1}']={'nombre':nombre,'salario':salario,'departamento':departamento}"
   ]
  },
  {
   "cell_type": "code",
   "execution_count": 23,
   "id": "40274f6d",
   "metadata": {},
   "outputs": [],
   "source": [
    "agregarEmpleado(database)"
   ]
  },
  {
   "cell_type": "code",
   "execution_count": 6,
   "id": "8238b085",
   "metadata": {},
   "outputs": [],
   "source": [
    "def actualizarSalario(nombre,nuevoSalario):\n",
    "    for empleado in database.values():\n",
    "        if empleado['nombre']==nombre:\n",
    "            empleado['salario']=nuevoSalario\n",
    "            return database\n",
    "        else:\n",
    "            return database"
   ]
  },
  {
   "cell_type": "code",
   "execution_count": 8,
   "id": "7303db2e",
   "metadata": {},
   "outputs": [],
   "source": [
    "database=actualizarSalario('Francisco',22000)"
   ]
  },
  {
   "cell_type": "code",
   "execution_count": 12,
   "id": "3b5fed24",
   "metadata": {},
   "outputs": [],
   "source": [
    "def mostrarDatabase(database):\n",
    "    for indice, empleado in database.items():\n",
    "        print(f'el {indice} se llama {empleado['nombre']}, tiene un salario de {empleado['salario']} y pertenece al departamento de {empleado['departamento']}')"
   ]
  },
  {
   "cell_type": "code",
   "execution_count": 25,
   "id": "ee9f0047",
   "metadata": {},
   "outputs": [],
   "source": [
    "import numpy as np"
   ]
  },
  {
   "cell_type": "code",
   "execution_count": 48,
   "id": "d882dc82",
   "metadata": {},
   "outputs": [
    {
     "name": "stdout",
     "output_type": "stream",
     "text": [
      "25000.0\n"
     ]
    }
   ],
   "source": [
    "listaDepartamento=[]\n",
    "for values in database.values():\n",
    "    listaDepartamento.append([values['salario'],values['departamento']])\n",
    "arraydep=np.array(listaDepartamento)\n",
    "depart=arraydep[:,1]\n",
    "departUnico=np.unique(arraydep[:,1])\n",
    "promedio={}\n",
    "for dep in departUnico:\n",
    "    salarioDep=arraydep[depart==dep].T\n",
    "    promedio[dep]=np.mean(salarioDep[0].astype(int))\n",
    "print(promedio['idi'])\n"
   ]
  },
  {
   "cell_type": "code",
   "execution_count": 24,
   "id": "96c4060e",
   "metadata": {},
   "outputs": [
    {
     "name": "stdout",
     "output_type": "stream",
     "text": [
      "el empleado1 se llama fran, tiene un salario de 22000 y pertenece al departamento de it\n",
      "el empleado2 se llama ivan, tiene un salario de 30000 y pertenece al departamento de it\n",
      "el empleado3 se llama mari, tiene un salario de 27000 y pertenece al departamento de idi\n",
      "el empleado4 se llama ana, tiene un salario de 23000 y pertenece al departamento de idi\n"
     ]
    }
   ],
   "source": [
    "mostrarDatabase(database)"
   ]
  },
  {
   "cell_type": "markdown",
   "id": "49c61f6b",
   "metadata": {},
   "source": [
    "Supongamos que tienes los resultados de una elección con los nombres \n",
    "de los candidatos y la cantidad de votos obtenidos por cada uno. \n",
    "Implementa un programa en Python que permita registrar los votos, \n",
    "mostrar la lista completa de candidatos y sus votos, encontrar al \n",
    "candidato ganador (con más votos) y calcular el porcentaje de votos que \n",
    "obtuvo cada candidato. "
   ]
  },
  {
   "cell_type": "code",
   "execution_count": 56,
   "id": "e9ac425e",
   "metadata": {},
   "outputs": [],
   "source": [
    "candidatos={}"
   ]
  },
  {
   "cell_type": "code",
   "execution_count": 59,
   "id": "684dc818",
   "metadata": {},
   "outputs": [],
   "source": [
    "candidato=input('Introduce el nombre del candidato')\n",
    "votos=int(input('Introduce el número de votos'))\n",
    "candidatos[candidato]=votos"
   ]
  },
  {
   "cell_type": "code",
   "execution_count": 60,
   "id": "b9dc3697",
   "metadata": {},
   "outputs": [
    {
     "name": "stdout",
     "output_type": "stream",
     "text": [
      "el fran tiene 10 votos\n",
      "el ivan tiene 12 votos\n",
      "el mari tiene 8 votos\n"
     ]
    }
   ],
   "source": [
    "for candidato,votos in candidatos.items():\n",
    "    print(f'el {candidato} tiene {votos} votos')"
   ]
  },
  {
   "cell_type": "code",
   "execution_count": 67,
   "id": "769c6c15",
   "metadata": {},
   "outputs": [
    {
     "name": "stdout",
     "output_type": "stream",
     "text": [
      "ivan 12\n"
     ]
    }
   ],
   "source": [
    "maximo=0\n",
    "ganador=''\n",
    "\n",
    "for candidato,votos in candidatos.items():\n",
    "    if votos>maximo:\n",
    "        maximo=votos\n",
    "        ganador=candidato\n",
    "        \n",
    "print(ganador,maximo)        \n"
   ]
  }
 ],
 "metadata": {
  "kernelspec": {
   "display_name": "trabajo",
   "language": "python",
   "name": "python3"
  },
  "language_info": {
   "codemirror_mode": {
    "name": "ipython",
    "version": 3
   },
   "file_extension": ".py",
   "mimetype": "text/x-python",
   "name": "python",
   "nbconvert_exporter": "python",
   "pygments_lexer": "ipython3",
   "version": "3.12.9"
  }
 },
 "nbformat": 4,
 "nbformat_minor": 5
}
