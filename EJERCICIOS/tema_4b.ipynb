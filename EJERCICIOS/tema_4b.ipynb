{
 "cells": [
  {
   "cell_type": "markdown",
   "id": "4094de71",
   "metadata": {},
   "source": [
    "Supongamos que tienes un conjunto de datos de ventas de una tienda durante un año. \n",
    "Cada fila representa una venta y tiene tres columnas: la fecha de la venta, el monto de la \n",
    "venta y la categoría de producto vendido (por ejemplo, electrónicos, ropa, alimentos, \n",
    "etc.). Quieres analizar estos datos para determinar cuánto fue el monto total de ventas en \n",
    "cada mes. Para ello, puedes usar NumPy para cargar los datos en un array de 3 \n",
    "columnas y n filas, donde n es el número de ventas. Luego, puedes usar operaciones de \n",
    "NumPy para filtrar los datos por mes y sumar los montos de venta correspondientes."
   ]
  },
  {
   "cell_type": "code",
   "execution_count": 2,
   "id": "46678add",
   "metadata": {},
   "outputs": [],
   "source": [
    "import numpy as np"
   ]
  },
  {
   "cell_type": "code",
   "execution_count": 3,
   "id": "2967d44e",
   "metadata": {},
   "outputs": [
    {
     "data": {
      "text/plain": [
       "array([['2022-01-01', '100', 'ropa'],\n",
       "       ['2022-01-02', '200', 'alimento'],\n",
       "       ['2022-01-03', '150', 'ropa'],\n",
       "       ['2022-02-01', '120', 'alimento'],\n",
       "       ['2022-02-02', '180', 'electrodomesticos'],\n",
       "       ['2022-02-03', '200', 'alimento'],\n",
       "       ['2022-03-01', '90', 'ropa'],\n",
       "       ['2022-03-02', '110', 'electrodomesticos'],\n",
       "       ['2022-03-03', '100', 'alimento']], dtype='<U21')"
      ]
     },
     "execution_count": 3,
     "metadata": {},
     "output_type": "execute_result"
    }
   ],
   "source": [
    "ventas=np.array([\n",
    "    ['2022-01-01',100,'ropa'],\n",
    "    ['2022-01-02',200,'alimento'],\n",
    "    ['2022-01-03',150,'ropa'],\n",
    "    ['2022-02-01',120,'alimento'],\n",
    "    ['2022-02-02',180,'electrodomesticos'],\n",
    "    ['2022-02-03',200,'alimento'],\n",
    "    ['2022-03-01',90,'ropa'],\n",
    "    ['2022-03-02',110,'electrodomesticos'],\n",
    "    ['2022-03-03',100,'alimento'],\n",
    "])\n",
    "ventas"
   ]
  },
  {
   "cell_type": "code",
   "execution_count": 14,
   "id": "509309c8",
   "metadata": {},
   "outputs": [
    {
     "data": {
      "text/plain": [
       "array(['2022-01-01', '2022-01-02', '2022-01-03', '2022-02-01',\n",
       "       '2022-02-02', '2022-02-03', '2022-03-01', '2022-03-02',\n",
       "       '2022-03-03'], dtype='<U10')"
      ]
     },
     "execution_count": 14,
     "metadata": {},
     "output_type": "execute_result"
    }
   ],
   "source": [
    "fechas=np.array([venta[0] for venta in ventas])\n",
    "fechas"
   ]
  },
  {
   "cell_type": "code",
   "execution_count": 16,
   "id": "8d6c8ea3",
   "metadata": {},
   "outputs": [
    {
     "data": {
      "text/plain": [
       "array([1, 1, 1, 2, 2, 2, 3, 3, 3])"
      ]
     },
     "execution_count": 16,
     "metadata": {},
     "output_type": "execute_result"
    }
   ],
   "source": [
    "meses=np.array([int(fecha[5:7]) for fecha in fechas])\n",
    "meses"
   ]
  },
  {
   "cell_type": "code",
   "execution_count": 20,
   "id": "b740dd91",
   "metadata": {},
   "outputs": [
    {
     "name": "stdout",
     "output_type": "stream",
     "text": [
      "[450. 500. 300.   0.   0.   0.   0.   0.   0.   0.   0.   0.]\n"
     ]
    }
   ],
   "source": [
    "monto_mes=np.zeros(12)\n",
    "for mes in range(1,13):\n",
    "    ventasPorMes=ventas[meses==mes]\n",
    "    monto_mes[mes-1]=np.sum(ventasPorMes[:,1].astype(int))\n",
    "print(monto_mes)"
   ]
  },
  {
   "cell_type": "code",
   "execution_count": 3,
   "id": "6fe2468d",
   "metadata": {},
   "outputs": [
    {
     "data": {
      "text/plain": [
       "array([[  20,   70, 1009,    1],\n",
       "       [  21,   60, 1011,    1],\n",
       "       [  22,   40, 1010,    1],\n",
       "       [  18,   75, 1012,    2],\n",
       "       [  21,   60, 1008,    3],\n",
       "       [  22,   65, 1008,    3],\n",
       "       [  25,   60, 1010,    4],\n",
       "       [  27,   49, 1007,    5],\n",
       "       [  29,   50, 1007,    5],\n",
       "       [  28,   51, 1007,    5],\n",
       "       [  30,   45, 1005,    6],\n",
       "       [  10,   30, 1005,    6],\n",
       "       [  32,   40, 1002,    7],\n",
       "       [  33,   35, 1001,    8],\n",
       "       [  31,   45, 1003,    9],\n",
       "       [  30,   42, 1001,    9],\n",
       "       [  29,   42, 1002,    9],\n",
       "       [  35,   43, 1001,    9],\n",
       "       [  28,   50, 1006,   10],\n",
       "       [  25,   59, 1012,   11],\n",
       "       [  27,   58, 1011,   11],\n",
       "       [  24,   70, 1011,   12]])"
      ]
     },
     "execution_count": 3,
     "metadata": {},
     "output_type": "execute_result"
    }
   ],
   "source": [
    "clima=np.array([\n",
    "    [20,70,1009,1],\n",
    "    [21,60,1011,1],\n",
    "    [22,40,1010,1],\n",
    "    [18,75,1012,2],\n",
    "    [21,60,1008,3],\n",
    "    [22,65,1008,3],\n",
    "    [25,60,1010,4],\n",
    "    [27,49,1007,5],\n",
    "    [29,50,1007,5],\n",
    "    [28,51,1007,5],\n",
    "    [30,45,1005,6],\n",
    "    [10,30,1005,6],\n",
    "    [32,40,1002,7],\n",
    "    [33,35,1001,8],\n",
    "    [31,45,1003,9],\n",
    "    [30,42,1001,9],\n",
    "    [29,42,1002,9],\n",
    "    [35,43,1001,9],\n",
    "    [28,50,1006,10],\n",
    "    [25,59,1012,11],\n",
    "    [27,58,1011,11],\n",
    "    [24,70,1011,12],\n",
    "])\n",
    "clima"
   ]
  },
  {
   "cell_type": "code",
   "execution_count": 14,
   "id": "2e8649af",
   "metadata": {},
   "outputs": [
    {
     "name": "stdout",
     "output_type": "stream",
     "text": [
      "25.645833333333332\n",
      "53.18055555555555\n",
      "1007.1041666666666\n"
     ]
    }
   ],
   "source": [
    "meses=clima[:,3]\n",
    "valoresPromedioMes=np.zeros([12,3])\n",
    "for mes in range(1,13):\n",
    "    promedioMes=clima[meses==mes]\n",
    "    valoresPromedioMes[mes-1,0]=np.mean(promedioMes[:,0])\n",
    "    valoresPromedioMes[mes-1,1]=np.mean(promedioMes[:,1])\n",
    "    valoresPromedioMes[mes-1,2]=np.mean(promedioMes[:,2])\n",
    "temperaturaMediaAnual=valoresPromedioMes.T[0]\n",
    "humedadMediaAnual=valoresPromedioMes.T[1]\n",
    "presionMediaAnual=valoresPromedioMes.T[2]\n",
    "print(np.mean(temperaturaMediaAnual))\n",
    "print(np.mean(humedadMediaAnual))\n",
    "print(np.mean(presionMediaAnual))\n",
    "\n",
    "    "
   ]
  },
  {
   "cell_type": "markdown",
   "id": "369c3c9a",
   "metadata": {},
   "source": []
  }
 ],
 "metadata": {
  "kernelspec": {
   "display_name": "trabajo",
   "language": "python",
   "name": "python3"
  },
  "language_info": {
   "codemirror_mode": {
    "name": "ipython",
    "version": 3
   },
   "file_extension": ".py",
   "mimetype": "text/x-python",
   "name": "python",
   "nbconvert_exporter": "python",
   "pygments_lexer": "ipython3",
   "version": "3.12.9"
  }
 },
 "nbformat": 4,
 "nbformat_minor": 5
}
