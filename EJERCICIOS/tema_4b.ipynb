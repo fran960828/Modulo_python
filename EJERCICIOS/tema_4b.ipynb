{
 "cells": [
  {
   "cell_type": "markdown",
   "metadata": {},
   "source": [
    "Supongamos que tienes un conjunto de calificaciones de un grupo de estudiantes en un\n",
    "curso. Cada estudiante tiene cuatro calificaciones: dos exámenes, un trabajo final y una\n",
    "participación en clase. Quieres calcular la nota final de cada estudiante, donde los\n",
    "exámenes valen un 30% cada uno, el trabajo final vale un 30% y la participación en clase\n",
    "vale un 10%. Para ello, puedes usar NumPy para crear un array de 4 columnas y n filas,\n",
    "donde n es el número de estudiantes. Cada columna representa una de las calificaciones\n",
    "y cada fila representa un estudiante. Luego, puedes usar operaciones de NumPy para\n",
    "calcular la nota final de cada estudiante y almacenarla en un nuevo array de una sola\n",
    "columna."
   ]
  },
  {
   "cell_type": "code",
   "execution_count": 2,
   "metadata": {},
   "outputs": [],
   "source": [
    "import numpy as np\n",
    "listaEstudiantes=[[8,7,9,4],[5,6,4,9],[4,3,9,6],[9,10,9,10],[9,7,9,5]]\n",
    "arrayEstudiantes=np.array(listaEstudiantes)"
   ]
  },
  {
   "cell_type": "code",
   "execution_count": 6,
   "metadata": {},
   "outputs": [
    {
     "data": {
      "text/plain": [
       "array([7.6, 5.4, 5.4, 9.4, 8. ])"
      ]
     },
     "execution_count": 6,
     "metadata": {},
     "output_type": "execute_result"
    }
   ],
   "source": [
    "notasFinales=np.zeros(len(listaEstudiantes))\n",
    "for index, alumno in enumerate(arrayEstudiantes):\n",
    "    notasFinales[index]=(alumno[0]+alumno[1]+alumno[2])*0.3+alumno[3]*0.1\n",
    "notasFinales\n"
   ]
  },
  {
   "cell_type": "markdown",
   "metadata": {},
   "source": []
  }
 ],
 "metadata": {
  "kernelspec": {
   "display_name": "practica_python",
   "language": "python",
   "name": "python3"
  },
  "language_info": {
   "codemirror_mode": {
    "name": "ipython",
    "version": 3
   },
   "file_extension": ".py",
   "mimetype": "text/x-python",
   "name": "python",
   "nbconvert_exporter": "python",
   "pygments_lexer": "ipython3",
   "version": "3.13.5"
  }
 },
 "nbformat": 4,
 "nbformat_minor": 2
}
