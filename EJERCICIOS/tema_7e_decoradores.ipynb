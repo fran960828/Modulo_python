{
 "cells": [
  {
   "cell_type": "markdown",
   "id": "3904b0ad",
   "metadata": {},
   "source": [
    " Imagina que estás desarrollando un sistema complejo que incluye múltiples \n",
    "funciones críticas. Para asegurarte de que todo funcione correctamente y para \n",
    "realizar un seguimiento del tiempo de ejecución de estas funciones, decides \n",
    "implementar un decorador de registro (logger) con tiempo de ejecución.\n",
    " El decorador debería realizar las siguientes acciones:\n",
    " Antes de llamar a la función original (puedes incluir cualquier función), \n",
    "debe imprimir un mensaje indicando que la función está a punto de \n",
    "ejecutarse.\n",
    " Después de que la función se haya ejecutado, debe imprimir un mensaje \n",
    "que incluya el tiempo que tardó la función en ejecutarse.\n",
    "  Si la función original arroja una excepción, el decorador debe manejarla e \n",
    "imprimir un mensaje adecuado, indicando que se ha producido una \n",
    "excepción."
   ]
  },
  {
   "cell_type": "code",
   "execution_count": 8,
   "id": "b0176edd",
   "metadata": {},
   "outputs": [],
   "source": [
    "# Importamos módulos necesarios\n",
    "import time           # Para medir el tiempo de ejecución de la función\n",
    "import functools      # Para mantener la información original de la función\n",
    "\n",
    "# Definimos el decorador llamado 'logger'\n",
    "def logger(func):\n",
    "    \"\"\"\n",
    "    Este es un decorador que:\n",
    "    1. Imprime un mensaje antes de ejecutar la función.\n",
    "    2. Mide y muestra el tiempo que tarda la función en ejecutarse.\n",
    "    3. Captura cualquier excepción que ocurra y muestra un mensaje de error.\n",
    "    \"\"\"\n",
    "\n",
    "    # functools.wraps se usa para que la función decorada conserve su nombre y documentación original\n",
    "    @functools.wraps(func)\n",
    "    def wrapper(*args, **kwargs):\n",
    "        \"\"\"\n",
    "        Esta es la función interna que envuelve (wrapper) la función original.\n",
    "        *args: captura todos los argumentos posicionales que le pases a la función.\n",
    "        **kwargs: captura todos los argumentos nombrados que le pases.\n",
    "        \"\"\"\n",
    "\n",
    "        # Avisamos que la función está a punto de ejecutarse\n",
    "        print(f\"[INFO] La función '{func.__name__}' está a punto de ejecutarse.\")\n",
    "\n",
    "        # Guardamos el tiempo antes de ejecutar la función\n",
    "        start_time = time.perf_counter()\n",
    "\n",
    "        try:\n",
    "            # Ejecutamos la función original con todos sus argumentos\n",
    "            result = func(*args, **kwargs)\n",
    "\n",
    "            # Guardamos el tiempo después de ejecutar la función\n",
    "            end_time = time.perf_counter()\n",
    "\n",
    "            # Calculamos el tiempo que tardó en ejecutarse\n",
    "            elapsed_time = end_time - start_time\n",
    "\n",
    "            # Mostramos un mensaje indicando que la función terminó correctamente y el tiempo que tardó\n",
    "            print(f\"[INFO] La función '{func.__name__}' se ejecutó correctamente en {elapsed_time:.6f} segundos.\")\n",
    "\n",
    "            # Devolvemos el resultado de la función original\n",
    "            return result\n",
    "\n",
    "        except Exception as e:\n",
    "            # Si ocurre algún error, capturamos el tiempo hasta que ocurrió\n",
    "            end_time = time.perf_counter()\n",
    "            elapsed_time = end_time - start_time\n",
    "\n",
    "            # Mostramos un mensaje de error con la excepción\n",
    "            print(f\"[ERROR] La función '{func.__name__}' lanzó una excepción después de {elapsed_time:.6f} segundos: {e}\")\n",
    "\n",
    "            # Opcional: si quieres que el error se propague y detenga el programa, descomenta la siguiente línea\n",
    "            # raise e\n",
    "\n",
    "    # Devolvemos la función interna para que reemplace a la función original\n",
    "    return wrapper\n",
    "\n",
    "\n"
   ]
  },
  {
   "cell_type": "code",
   "execution_count": 14,
   "id": "6c7fba7f",
   "metadata": {},
   "outputs": [
    {
     "name": "stdout",
     "output_type": "stream",
     "text": [
      "[INFO] La función 'division' está a punto de ejecutarse.\n",
      "[INFO] La función 'division' se ejecutó correctamente en 0.000005 segundos.\n",
      "el resultado es: 1.0\n",
      "division\n",
      "Esta función es una prueba del uso de decoradores\n"
     ]
    }
   ],
   "source": [
    "@logger\n",
    "def division(a,b):\n",
    "    '''Esta función es una prueba del uso de decoradores'''\n",
    "    return f'el resultado es: {a/b}'\n",
    "print(division(5,5))\n",
    "print(division.__name__)\n",
    "print(division.__doc__)"
   ]
  },
  {
   "cell_type": "markdown",
   "id": "35130f59",
   "metadata": {},
   "source": [
    " Decorador de Control de Acceso:\n",
    " Imagina que estás trabajando en el desarrollo de un sistema para una \n",
    "aplicación de gestión de documentos en un entorno empresarial. Deseas \n",
    "implementar un decorador llamado \n",
    "verificar_acceso_entorno que permita \n",
    "controlar el acceso a funciones según el entorno de ejecución.\n",
    " El decorador debe realizar las siguientes acciones:\n",
    " Antes de ejecutar la función, verificar si el entorno de ejecución es \n",
    "\"producción\".\n",
    " \n",
    " Si el entorno es \"producción\", permitir la ejecución de la función y mostrar \n",
    "un mensaje indicando que el acceso fue permitido en el entorno de \n",
    "producción.\n",
    "  Si el entorno no es \"producción\", evitar la ejecución de la función y mostrar \n",
    "un mensaje indicando que el acceso está restringido a entornos de \n",
    "producción.\n",
    " Luego, aplica este decorador a dos funciones, \n",
    "subir_documento y \n",
    "eliminar_documento . Intenta ejecutar estas funciones con diferentes entornos y \n",
    "observa el comportamiento del decorador."
   ]
  },
  {
   "cell_type": "code",
   "execution_count": 19,
   "id": "cbe50826",
   "metadata": {},
   "outputs": [],
   "source": [
    "import functools\n",
    "\n",
    "def logger(func):\n",
    "    @functools.wraps(func)\n",
    "    def wrapper(*args, **kwargs):\n",
    "        print(f\"[INFO] La función '{func.__name__}' está a punto de ejecutarse.\")\n",
    "        entorno=input('Indica tu entorno de trabajo: produccion||desarrollo').lower()\n",
    "        if (entorno=='produccion'):\n",
    "            resultado=func(*args,**kwargs)\n",
    "            return resultado\n",
    "        else:\n",
    "            print(f'{entorno} no esta autorizado a esta operación')\n",
    "    return wrapper\n"
   ]
  },
  {
   "cell_type": "code",
   "execution_count": 20,
   "id": "c029828a",
   "metadata": {},
   "outputs": [
    {
     "name": "stdout",
     "output_type": "stream",
     "text": [
      "[INFO] La función 'iniciar_sesion' está a punto de ejecutarse.\n",
      "desarrollo no esta autorizado a esta operación\n"
     ]
    }
   ],
   "source": [
    "@logger\n",
    "def iniciar_sesion(user,password):\n",
    "    return f'Inicio de sesión autorizado para {user}'\n",
    "iniciar_sesion('francisco','navarro')"
   ]
  },
  {
   "cell_type": "markdown",
   "id": "21a2a33f",
   "metadata": {},
   "source": []
  }
 ],
 "metadata": {
  "kernelspec": {
   "display_name": "trabajo",
   "language": "python",
   "name": "python3"
  },
  "language_info": {
   "codemirror_mode": {
    "name": "ipython",
    "version": 3
   },
   "file_extension": ".py",
   "mimetype": "text/x-python",
   "name": "python",
   "nbconvert_exporter": "python",
   "pygments_lexer": "ipython3",
   "version": "3.12.9"
  }
 },
 "nbformat": 4,
 "nbformat_minor": 5
}
