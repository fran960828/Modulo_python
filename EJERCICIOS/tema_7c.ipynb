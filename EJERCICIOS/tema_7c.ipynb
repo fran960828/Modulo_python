{
 "cells": [
  {
   "cell_type": "code",
   "execution_count": 8,
   "metadata": {},
   "outputs": [],
   "source": [
    "from functools import lru_cache\n",
    "import time"
   ]
  },
  {
   "cell_type": "markdown",
   "metadata": {},
   "source": [
    "FACTORIAL\n",
    "Implementa una función recursiva llamada factorial que calcule el factorial de\n",
    "un número entero positivo. El factorial de un número n se define como el\n",
    "producto de todos los números enteros positivos desde 1 hasta n.\n",
    "(El factorial de 0 y de 1 es igual a 1)"
   ]
  },
  {
   "cell_type": "code",
   "execution_count": 60,
   "metadata": {},
   "outputs": [
    {
     "name": "stdout",
     "output_type": "stream",
     "text": [
      "tiempo: 0.002730846405029297\n",
      "CacheInfo(hits=0, misses=2000, maxsize=None, currsize=2000)\n"
     ]
    }
   ],
   "source": [
    "@lru_cache(maxsize=None)\n",
    "def factorial(numero):\n",
    "    if numero==0 or numero==1:\n",
    "        return 1\n",
    "    else:\n",
    "       return numero*factorial(numero - 1)\n",
    "inicio=time.time()    \n",
    "factorial(2000)\n",
    "fin=time.time()\n",
    "print('tiempo:',fin-inicio)\n",
    "print(factorial.cache_info())\n",
    "\n"
   ]
  },
  {
   "cell_type": "markdown",
   "metadata": {},
   "source": [
    "POTENCIA\n",
    "Implementa una función recursiva llamada potencia que calcule el resultado\n",
    "de elevar un número a una potencia dada. Puedes asumir que tanto el\n",
    "número como la potencia son enteros no negativos."
   ]
  },
  {
   "cell_type": "code",
   "execution_count": 63,
   "metadata": {},
   "outputs": [
    {
     "data": {
      "text/plain": [
       "81"
      ]
     },
     "execution_count": 63,
     "metadata": {},
     "output_type": "execute_result"
    }
   ],
   "source": [
    "def potencia(numero,exponente):\n",
    "    if exponente==0:\n",
    "        return 1\n",
    "    elif exponente==1:\n",
    "        return numero\n",
    "    else:\n",
    "        return numero*potencia(numero,exponente-1)\n",
    "potencia(3,4)"
   ]
  },
  {
   "cell_type": "markdown",
   "metadata": {},
   "source": [
    "\n",
    "SUMA ELEMENTOS DE UNA LISTA\n",
    "Crea una función recursiva llamada suma_lista que calcule la suma de todos\n",
    "los elementos de una lista de enteros. Puedes asumir que la lista no está\n",
    "vacía."
   ]
  },
  {
   "cell_type": "code",
   "execution_count": 67,
   "metadata": {},
   "outputs": [
    {
     "data": {
      "text/plain": [
       "4950"
      ]
     },
     "execution_count": 67,
     "metadata": {},
     "output_type": "execute_result"
    }
   ],
   "source": [
    "lista=list(range(100))\n",
    "def suma_lista(lista):\n",
    "    if len(lista)==1:\n",
    "        return lista[0]\n",
    "    return lista[-1]+suma_lista(lista[:-1])\n",
    "suma_lista(lista)"
   ]
  },
  {
   "cell_type": "markdown",
   "metadata": {},
   "source": [
    "NUMERO TRIANGULAR\n",
    "Crea una función recursiva llamada numero_triangular que calcule el n-ésimo\n",
    "número triangular. Un número triangular se obtiene al sumar todos los\n",
    "números naturales desde 1 hasta n."
   ]
  },
  {
   "cell_type": "code",
   "execution_count": 68,
   "metadata": {},
   "outputs": [
    {
     "data": {
      "text/plain": [
       "10"
      ]
     },
     "execution_count": 68,
     "metadata": {},
     "output_type": "execute_result"
    }
   ],
   "source": [
    "def numero_triangular(n):\n",
    "    if n==1:\n",
    "        return 1\n",
    "    else:\n",
    "        return n+numero_triangular(n-1)\n",
    "numero_triangular(4)"
   ]
  },
  {
   "cell_type": "markdown",
   "metadata": {},
   "source": [
    "Tienes a tu disposición un conjunto de discos numerados del 1 al N y tres torres\n",
    "etiquetadas como A, B y C. La torre A contiene inicialmente todos los discos\n",
    "apilados en orden descendente, desde el disco N en la parte inferior hasta el\n",
    "disco 1 en la parte superior.\n",
    "Tu tarea es implementar una solución recursiva para mover todos los discos\n",
    "desde la torre A hasta la torre C, siguiendo las reglas clásicas de las Torres de\n",
    "Hanoi:\n",
    "1. Puedes mover un disco a una torre adyacente.\n",
    "2. Solo puedes mover un disco a la cima de otra pila si esa pila está vacía o si\n",
    "el disco superior es más grande que el disco que estás colocando.\n",
    "Debes definir una función llamada torres\n",
    "de\n",
    "_\n",
    "_\n",
    "hanoi(n, origen, destino, auxiliar)\n",
    "que, dado el número total de discos n y las torres de origen, destino y auxiliar,\n",
    "imprima los pasos necesarios para lograr el movimiento de todos los discos\n",
    "desde la torre A hasta la torre C.\n",
    "A continuacion un ejemplo de una posible entrada y salida de la solucion:"
   ]
  },
  {
   "cell_type": "code",
   "execution_count": 88,
   "metadata": {},
   "outputs": [
    {
     "name": "stdout",
     "output_type": "stream",
     "text": [
      "mover disco 1 de A a C\n",
      "mover disco 2 de A a B\n",
      "mover disco 1 de C a B\n",
      "mover disco 3 de A a C\n",
      "mover disco 1 de B a A\n",
      "mover disco 2 de B a C\n",
      "mover disco 1 de A a C\n"
     ]
    }
   ],
   "source": [
    "def torres_hanoi(n,origen,destino,auxiliar):\n",
    "    if n==1:\n",
    "        print(f'mover disco {n} de {origen} a {destino}' )\n",
    "        return\n",
    "    torres_hanoi(n-1,origen,auxiliar,destino)\n",
    "    print(f'mover disco {n} de {origen} a {destino}')\n",
    "    torres_hanoi(n-1,auxiliar,destino,origen)\n",
    "    \n",
    "torres_hanoi(3,'A','C','B')\n"
   ]
  },
  {
   "cell_type": "code",
   "execution_count": 89,
   "metadata": {},
   "outputs": [
    {
     "name": "stdout",
     "output_type": "stream",
     "text": [
      "mover disco 1 de A a C\n",
      "mover disco 2 de A a B\n",
      "mover disco 1 de C a B\n",
      "mover disco 3 de A a C\n",
      "mover disco 1 de B a A\n",
      "mover disco 2 de B a C\n",
      "mover disco 1 de A a C\n"
     ]
    }
   ],
   "source": [
    "def torres(n,origen,auxiliar,destino):\n",
    "    if n==1:\n",
    "        print(f'mover disco {n} de {origen} a {destino}' )\n",
    "        return\n",
    "    torres(n-1,origen,destino,auxiliar)\n",
    "    print(f'mover disco {n} de {origen} a {destino}')\n",
    "    torres(n-1,auxiliar,origen,destino)\n",
    "torres(3,'A','B','C')"
   ]
  },
  {
   "cell_type": "markdown",
   "metadata": {},
   "source": [
    "Problema de Gestión de Inventario:\n",
    "Imagina que trabajas en una empresa de logística y tu tarea es desarrollar un\n",
    "sistema de gestión de inventario. El inventario está representado como una lista\n",
    "Python avanzado - ejercicios 1\n",
    "de productos ordenados por sus códigos. Cada producto se describe como un\n",
    "diccionario con las claves 'codigo' y 'cantidad'\n",
    ".\n",
    "Tu objetivo es implementar una función recursiva que realice una búsqueda\n",
    "binaria en este inventario y devuelva la cantidad disponible para un producto\n",
    "específico, dado su código."
   ]
  },
  {
   "cell_type": "code",
   "execution_count": 91,
   "metadata": {},
   "outputs": [],
   "source": [
    "\n",
    "\n",
    "\n",
    "def buscar_por_codigo(lista,codigo_producto,inicio=0,fin=None):\n",
    "    if fin==None:\n",
    "        fin=len(lista)\n",
    "    if inicio>fin:\n",
    "        return 'No encontrado'\n",
    "    medio=round((inicio+fin)/2)\n",
    "    if lista[medio]['codigo']==codigo_producto:\n",
    "        return lista[medio]['cantidad']\n",
    "    if lista[medio]['codigo']<codigo_producto:\n",
    "        return buscar_por_codigo(lista,codigo_producto,medio,fin)\n",
    "    if lista[medio]['codigo']>codigo_producto:\n",
    "        return buscar_por_codigo(lista,codigo_producto,inicio,medio)\n",
    "    \n",
    "    \n"
   ]
  },
  {
   "cell_type": "code",
   "execution_count": 94,
   "metadata": {
    "vscode": {
     "languageId": "javascript"
    }
   },
   "outputs": [
    {
     "name": "stdout",
     "output_type": "stream",
     "text": [
      "[{'codigo': 101, 'cantidad': 50}, {'codigo': 102, 'cantidad': 30}, {'codigo': 103, 'cantidad': 20}, {'codigo': 104, 'cantidad': 15}, {'codigo': 105, 'cantidad': 10}]\n"
     ]
    }
   ],
   "source": [
    "productos = [\n",
    "    {'codigo': 101, 'cantidad': 50},\n",
    "    {'codigo': 102, 'cantidad': 30},\n",
    "    {'codigo': 103, 'cantidad': 20},\n",
    "    {'codigo': 104, 'cantidad': 15},\n",
    "    {'codigo': 105, 'cantidad': 10}\n",
    "]\n",
    "print(productos)"
   ]
  },
  {
   "cell_type": "code",
   "execution_count": 99,
   "metadata": {},
   "outputs": [
    {
     "data": {
      "text/plain": [
       "20"
      ]
     },
     "execution_count": 99,
     "metadata": {},
     "output_type": "execute_result"
    }
   ],
   "source": [
    "buscar_por_codigo(productos,103)"
   ]
  },
  {
   "cell_type": "markdown",
   "metadata": {},
   "source": [
    "Imagina que eres parte de un equipo de desarrollo de IA que se encarga de\n",
    "crear un sistema para que un robot resuelva laberintos. El laberinto está\n",
    "representado por una matriz, donde ciertos valores indican caminos permitidos\n",
    "( 0 ), paredes ( 1 ), y la salida ( 9 ). Tu tarea es implementar una función\n",
    "recursiva que encuentre la ruta más corta para que el robot salga del laberinto.\n",
    "Toma en cuenta los siguientes puntos:\n",
    "1. La matriz representa el laberinto, donde los valores son:\n",
    "0: Camino permitido.\n",
    "1: Pared, no se puede atravesar.\n",
    "9: Salida del laberinto.\n",
    "2. Debes implementar la función resolver\n",
    "_\n",
    "laberinto que utiliza recursividad\n",
    "para encontrar la ruta más corta desde una posición inicial hasta la salida.\n",
    "3. La función debe devolver una lista de coordenadas que representan la ruta\n",
    "desde la posición inicial hasta la salida.\n",
    "4. Puedes usar una lista de movimientos posibles: arriba ( (-1, 0) ), abajo( (1,\n",
    "0) ), izquierda ( (0,\n",
    "-1) ), derecha ( (0, 1) )."
   ]
  },
  {
   "cell_type": "code",
   "execution_count": 100,
   "metadata": {},
   "outputs": [],
   "source": [
    "import numpy as np"
   ]
  },
  {
   "cell_type": "code",
   "execution_count": 122,
   "metadata": {},
   "outputs": [
    {
     "data": {
      "text/plain": [
       "np.int64(0)"
      ]
     },
     "execution_count": 122,
     "metadata": {},
     "output_type": "execute_result"
    }
   ],
   "source": [
    "matriz=np.array([\n",
    "    [0,1,0,1],\n",
    "    [0,0,0,1],\n",
    "    [0,1,9,1],\n",
    "    [0,1,0,1]\n",
    "])\n",
    "matriz[-1,2]"
   ]
  },
  {
   "cell_type": "code",
   "execution_count": 115,
   "metadata": {},
   "outputs": [],
   "source": [
    "def resolver_laberinto(matriz, fila=0, columna=0, camino=[]):\n",
    "    # Verificar límites y obstáculos\n",
    "    if (not 0 <= fila < len(matriz)) or (not 0 <= columna < len(matriz[0])) or ((fila, columna) in camino) or (matriz[fila][columna] == 1):\n",
    "        return None\n",
    "\n",
    "    # Añadir posición al camino\n",
    "    camino = camino + [(fila, columna)]  # mejor crear copia para evitar problemas con referencias\n",
    "\n",
    "    # Caso objetivo\n",
    "    if matriz[fila][columna] == 9:\n",
    "        return camino\n",
    "\n",
    "    # Movimientos posibles: derecha, abajo, izquierda, arriba\n",
    "    movimientos = [(0,1),(1,0),(0,-1),(-1,0)]\n",
    "\n",
    "    for movimiento in movimientos:\n",
    "        nueva_fila = fila + movimiento[0]\n",
    "        nueva_columna = columna + movimiento[1]\n",
    "        resultado = resolver_laberinto(matriz, nueva_fila, nueva_columna, camino)\n",
    "        if resultado:\n",
    "            return resultado\n",
    "\n",
    "    return None  # Solo si ningún movimiento funcionó\n",
    "\n",
    "    "
   ]
  },
  {
   "cell_type": "code",
   "execution_count": 123,
   "metadata": {},
   "outputs": [
    {
     "name": "stdout",
     "output_type": "stream",
     "text": [
      "[(0, 0), (1, 0), (1, 1), (1, 2), (2, 2)]\n"
     ]
    }
   ],
   "source": [
    "camino=resolver_laberinto(matriz,0,0)\n",
    "print(camino)"
   ]
  },
  {
   "cell_type": "markdown",
   "metadata": {},
   "source": [
    "### **1. Factorial con trazado**\n",
    "Implementa una función recursiva `factorial_con_traza(n)` que calcule el factorial de un número y, además, imprima en cada llamada el nivel de profundidad de la recursión y el valor parcial calculado."
   ]
  },
  {
   "cell_type": "code",
   "execution_count": 18,
   "metadata": {},
   "outputs": [
    {
     "name": "stdout",
     "output_type": "stream",
     "text": [
      "llamada 1, retorno 10:1\n",
      "llamada 2, retorno 9:2\n",
      "llamada 3, retorno 8:6\n",
      "llamada 4, retorno 7:24\n",
      "llamada 5, retorno 6:120\n",
      "llamada 6, retorno 5:720\n",
      "llamada 7, retorno 4:5040\n",
      "llamada 8, retorno 3:40320\n",
      "llamada 9, retorno 2:362880\n",
      "llamada 10, retorno 1:3628800\n"
     ]
    },
    {
     "data": {
      "text/plain": [
       "3628800"
      ]
     },
     "execution_count": 18,
     "metadata": {},
     "output_type": "execute_result"
    }
   ],
   "source": [
    "contador=0\n",
    "resultado=1\n",
    "def factorial_con_traza(n,contador,resultado):\n",
    "    contador+=1\n",
    "    resultado*=contador\n",
    "    print(f'llamada {contador}, retorno {n}:{resultado}')\n",
    "    if (n==1):\n",
    "        return n\n",
    "    return n*(factorial_con_traza(n-1,contador,resultado))\n",
    "factorial_con_traza(10,contador,resultado)"
   ]
  },
  {
   "cell_type": "markdown",
   "metadata": {},
   "source": [
    "### **2. Suma de dígitos**\n",
    "Escribe una función recursiva `suma_digitos(n)` que reciba un número entero positivo y devuelva la suma de todos sus dígitos.  \n",
    "Por ejemplo: `suma_digitos(12345)` → `15`."
   ]
  },
  {
   "cell_type": "code",
   "execution_count": 37,
   "metadata": {},
   "outputs": [
    {
     "data": {
      "text/plain": [
       "45"
      ]
     },
     "execution_count": 37,
     "metadata": {},
     "output_type": "execute_result"
    }
   ],
   "source": [
    "def suma_digitos(n):\n",
    "    if (int(n/10)==0):\n",
    "        return n\n",
    "    return n%10+suma_digitos(int(n/10))\n",
    "suma_digitos(987654321)"
   ]
  },
  {
   "cell_type": "markdown",
   "metadata": {},
   "source": [
    "### **3. Inversión de cadena**\n",
    "Crea una función recursiva `invertir_cadena(cadena)` que reciba una cadena de texto y la devuelva invertida.  \n",
    "Ejemplo: `\"python\"` → `\"nohtyp\"`."
   ]
  },
  {
   "cell_type": "code",
   "execution_count": 57,
   "metadata": {},
   "outputs": [
    {
     "data": {
      "text/plain": [
       "'nohtyp'"
      ]
     },
     "execution_count": 57,
     "metadata": {},
     "output_type": "execute_result"
    }
   ],
   "source": [
    "def invertir_cadena(cadena):\n",
    "    if len(cadena)<=1:\n",
    "        return cadena\n",
    "    return invertir_cadena(cadena[1:])+cadena[0]\n",
    "invertir_cadena('python')"
   ]
  },
  {
   "cell_type": "markdown",
   "metadata": {},
   "source": [
    "### **4. Contador de elementos anidados**\n",
    "Dada una lista que puede contener otras listas en su interior, crea una función recursiva `contar_elementos(lista)` que devuelva el número total de elementos, sin importar la profundidad.  \n",
    "Ejemplo: `[1, [2, 3, [4, 5]], 6]` → `6`."
   ]
  },
  {
   "cell_type": "code",
   "execution_count": 61,
   "metadata": {},
   "outputs": [
    {
     "data": {
      "text/plain": [
       "6"
      ]
     },
     "execution_count": 61,
     "metadata": {},
     "output_type": "execute_result"
    }
   ],
   "source": [
    "def contar_elementos(lista):\n",
    "    total = 0\n",
    "    for elemento in lista:\n",
    "        if isinstance(elemento, list):  # Si el elemento es otra lista, contamos sus elementos recursivamente\n",
    "            total += contar_elementos(elemento)\n",
    "        else:\n",
    "            total += 1  # Si no, contamos 1 por ese elemento\n",
    "    return total\n",
    "contar_elementos([1, [2, 3, [4, 5]], 6])"
   ]
  },
  {
   "cell_type": "markdown",
   "metadata": {},
   "source": [
    "### **5. Potencia recursiva con optimización**\n",
    "Define una función `potencia(base, exponente)` que calcule `base ** exponente` de forma recursiva, optimizando para reducir el número de llamadas cuando el exponente es par."
   ]
  },
  {
   "cell_type": "code",
   "execution_count": 64,
   "metadata": {},
   "outputs": [
    {
     "data": {
      "text/plain": [
       "729"
      ]
     },
     "execution_count": 64,
     "metadata": {},
     "output_type": "execute_result"
    }
   ],
   "source": [
    "def potencia(base,exponente):\n",
    "    if exponente==1:\n",
    "        return base\n",
    "    return base*potencia(base,exponente-1)\n",
    "potencia(3,6)"
   ]
  }
 ],
 "metadata": {
  "kernelspec": {
   "display_name": "trabajo",
   "language": "python",
   "name": "python3"
  },
  "language_info": {
   "codemirror_mode": {
    "name": "ipython",
    "version": 3
   },
   "file_extension": ".py",
   "mimetype": "text/x-python",
   "name": "python",
   "nbconvert_exporter": "python",
   "pygments_lexer": "ipython3",
   "version": "3.12.9"
  }
 },
 "nbformat": 4,
 "nbformat_minor": 2
}
