{
 "cells": [
  {
   "cell_type": "markdown",
   "metadata": {},
   "source": [
    "1. Escribe un programa que pida al usuario un número entero y muestre por pantalla una\n",
    "estructura como la de más abajo, donde el valor de entrada es el número de estrellas en el\n",
    "centro de la estructura."
   ]
  },
  {
   "cell_type": "code",
   "execution_count": 6,
   "metadata": {},
   "outputs": [
    {
     "name": "stdout",
     "output_type": "stream",
     "text": [
      "*\n",
      "**\n",
      "***\n",
      "****\n",
      "*****\n",
      "****\n",
      "***\n",
      "**\n",
      "*\n"
     ]
    }
   ],
   "source": [
    "for i in range(1,6):\n",
    "    caracter= i * '*'\n",
    "    print(caracter)\n",
    "for i in range(4,0,-1):\n",
    "    caracter= i * '*'\n",
    "    print(caracter)"
   ]
  },
  {
   "cell_type": "markdown",
   "metadata": {},
   "source": [
    "Escribir un programa que almacene la cadena de caracteres contraseña en una variable,\n",
    "pregunte al usuario por la contraseña hasta que introduzca la contraseña correcta."
   ]
  },
  {
   "cell_type": "code",
   "execution_count": 7,
   "metadata": {},
   "outputs": [
    {
     "name": "stdout",
     "output_type": "stream",
     "text": [
      "Bienvenido\n"
     ]
    }
   ],
   "source": [
    "password='francisco'\n",
    "passwordUser=input('Introduce la contraseña')\n",
    "while password != passwordUser:\n",
    "    passwordUser=input('Contraseña incorrecta. Introducela de nuevo')\n",
    "print('Bienvenido')"
   ]
  },
  {
   "cell_type": "markdown",
   "metadata": {},
   "source": [
    "Crea un script que pida al usuario una palabra y luego muestre por pantalla una a una las letras\n",
    "de la palabra introducida empezando por la última."
   ]
  },
  {
   "cell_type": "code",
   "execution_count": 10,
   "metadata": {},
   "outputs": [
    {
     "name": "stdout",
     "output_type": "stream",
     "text": [
      "s\n",
      "o\n",
      "m\n",
      "a\n",
      "v\n",
      " \n",
      "s\n",
      "o\n",
      "n\n"
     ]
    }
   ],
   "source": [
    "palabraUsuario=input('Introduce una palabra al azar')\n",
    "longitudPalabra=len(palabraUsuario)\n",
    "for i in range(longitudPalabra-1,-1,-1):\n",
    "    print(palabraUsuario[i])"
   ]
  },
  {
   "cell_type": "markdown",
   "metadata": {},
   "source": [
    "Crea un programa en el que se pregunte al usuario por una frase y una letra, y muestre por\n",
    "pantalla el número de veces que aparece la letra en la frase."
   ]
  },
  {
   "cell_type": "code",
   "execution_count": 11,
   "metadata": {},
   "outputs": [
    {
     "name": "stdout",
     "output_type": "stream",
     "text": [
      "6\n"
     ]
    }
   ],
   "source": [
    "frase=input('Introduce una frase')\n",
    "letra=input('Introduce una letra')\n",
    "contador=0\n",
    "for letras in frase:\n",
    "    if letras==letra:\n",
    "        contador+=1\n",
    "print(contador)\n"
   ]
  },
  {
   "cell_type": "markdown",
   "metadata": {},
   "source": [
    "Crea un programa que imprima todos los números primos entre el 2 y el 100. Un numero primo es\n",
    "un numero positivo y entero mayor que uno que no tiene un divisor positivo y entero que no sea 1\n",
    "o sí mismo."
   ]
  },
  {
   "cell_type": "code",
   "execution_count": 1,
   "metadata": {},
   "outputs": [
    {
     "name": "stdout",
     "output_type": "stream",
     "text": [
      "2\n",
      "3\n",
      "5\n",
      "7\n",
      "11\n",
      "13\n",
      "17\n",
      "19\n",
      "23\n",
      "29\n",
      "31\n",
      "37\n",
      "41\n",
      "43\n",
      "47\n",
      "53\n",
      "59\n",
      "61\n",
      "67\n",
      "71\n",
      "73\n",
      "79\n",
      "83\n",
      "89\n",
      "97\n"
     ]
    }
   ],
   "source": [
    "for i in range(2,100):\n",
    "    esprimo=True\n",
    "    for j in range(2,i):\n",
    "        if i%j==0:\n",
    "            esprimo=False\n",
    "            break\n",
    "    if esprimo==True:\n",
    "        print(i)\n",
    "            \n"
   ]
  },
  {
   "cell_type": "markdown",
   "metadata": {},
   "source": [
    "\n",
    " - Crea una lista llamada frutas que contengan los siguientes nombres de frutas como cadenas\n",
    "de caracteres: manzana, plátano, cereza, pera, higo, frambuesa y fresa.\n",
    "- Usa la función len() para imprimir la longitud de la lista frutas.\n",
    "- Accede al objeto numero 3 de la lista e imprímelo or consola.\n",
    "- Modifica el segundo objeto de la lista y cambiado a mora.\n",
    "- Añade el string mango al final de la lista.\n",
    "- Usa el método insert() y añade el string “uva“ año comienzo de la lista.\n",
    "- Usa un bucle para recorrer la lista e imprimir cada fruta por la consola\n",
    "- Usa el método pop() para eliminar el último elemento de la lista y guárdalo en una variable\n",
    "llamada “ultima_fruta“.\n",
    "- Realiza un bucle que recorra la lista e imprima cada una de las frutas por consola\n",
    "- Modifica el script para que imprima también la longitud de cada nombre de fruta por consola\n",
    "- Modifica el script para que recorra la lista de frutas y solo imprima aquellos nombres que\n",
    "tengan más de 5 caracteres\n",
    "- Usa el método remove() para borrar el string “cereza“ de la lista.\n",
    "- Usa el método clear() para vaciar la lista."
   ]
  },
  {
   "cell_type": "code",
   "execution_count": 6,
   "metadata": {},
   "outputs": [
    {
     "name": "stdout",
     "output_type": "stream",
     "text": [
      "7\n"
     ]
    }
   ],
   "source": [
    "frutas=['manzana','platano','cereza','pera','higo','frambuesa','fresa']\n",
    "print(len(frutas))"
   ]
  },
  {
   "cell_type": "code",
   "execution_count": 8,
   "metadata": {},
   "outputs": [
    {
     "name": "stdout",
     "output_type": "stream",
     "text": [
      "['uva', 'manzana', 'Mora', 'cereza', 'pera', 'higo', 'frambuesa', 'fresa', 'mango', 'mango']\n"
     ]
    }
   ],
   "source": [
    "frutas[2]\n",
    "frutas[1]='Mora'\n",
    "frutas.append('mango')\n",
    "frutas.insert(0,'uva')\n",
    "print(frutas)"
   ]
  },
  {
   "cell_type": "code",
   "execution_count": 9,
   "metadata": {},
   "outputs": [
    {
     "name": "stdout",
     "output_type": "stream",
     "text": [
      "uva\n",
      "manzana\n",
      "Mora\n",
      "cereza\n",
      "pera\n",
      "higo\n",
      "frambuesa\n",
      "fresa\n",
      "mango\n",
      "mango\n"
     ]
    }
   ],
   "source": [
    "for fruta in frutas:\n",
    "    print(fruta)"
   ]
  },
  {
   "cell_type": "code",
   "execution_count": 11,
   "metadata": {},
   "outputs": [
    {
     "name": "stdout",
     "output_type": "stream",
     "text": [
      "['uva', 'manzana', 'Mora', 'cereza', 'pera', 'higo', 'frambuesa', 'fresa']\n"
     ]
    }
   ],
   "source": [
    "ultima_fruta=frutas.pop()\n",
    "print(frutas)"
   ]
  },
  {
   "cell_type": "code",
   "execution_count": 13,
   "metadata": {},
   "outputs": [
    {
     "name": "stdout",
     "output_type": "stream",
     "text": [
      "manzana --> 7\n",
      "cereza --> 6\n",
      "frambuesa --> 9\n"
     ]
    }
   ],
   "source": [
    "for fruta in frutas:\n",
    "    if len(fruta)>5:\n",
    "        print(f'{fruta} --> {len(fruta)}')"
   ]
  },
  {
   "cell_type": "code",
   "execution_count": 14,
   "metadata": {},
   "outputs": [
    {
     "name": "stdout",
     "output_type": "stream",
     "text": [
      "['uva', 'manzana', 'Mora', 'pera', 'higo', 'frambuesa', 'fresa']\n"
     ]
    }
   ],
   "source": [
    "frutas.remove('cereza')\n",
    "print(frutas)"
   ]
  },
  {
   "cell_type": "code",
   "execution_count": 15,
   "metadata": {},
   "outputs": [
    {
     "name": "stdout",
     "output_type": "stream",
     "text": [
      "[]\n"
     ]
    }
   ],
   "source": [
    "frutas.clear()\n",
    "print(frutas)"
   ]
  },
  {
   "cell_type": "markdown",
   "metadata": {},
   "source": [
    "- Crea una lista llamada “numeros“ que contenga los siguientes numeros enteros:\n",
    "[1,2,3,4,5,6,7,8,9,10].\n",
    "- Crea una nueva lista con los números pares de la lista anterior en orden inverso\n",
    "- Escribe un bucle que recorra la lista “numeros“ e imprima el cuadrado de cada numero por\n",
    "consola.\n",
    "Intenta rehacer los pasos 2 y 3 con el menor número de lineas posible (método de\n",
    "compresión).\n",
    "- Usa un método que te devuelva el número más pequeño de la lista e imprímelo por pantalla\n",
    "- Haz lo mismo con el número más alto\n",
    "- Suma todos los elementos de la lista con y sin un bucle.\n",
    "- Encuentra el índice correspondiente al número 8 en la lista original y en la lista resultante tras\n",
    "el punto 2."
   ]
  },
  {
   "cell_type": "code",
   "execution_count": 4,
   "metadata": {},
   "outputs": [
    {
     "name": "stdout",
     "output_type": "stream",
     "text": [
      "[10, 8, 6, 4, 2]\n"
     ]
    }
   ],
   "source": [
    "numeros=[1,2,3,4,5,6,7,8,9,10]\n",
    "numerosPares=[numero for numero in numeros if numero%2==0][::-1]\n",
    "print(numerosPares)"
   ]
  },
  {
   "cell_type": "code",
   "execution_count": 5,
   "metadata": {},
   "outputs": [
    {
     "name": "stdout",
     "output_type": "stream",
     "text": [
      "[1, 4, 9, 16, 25, 36, 49, 64, 81, 100]\n"
     ]
    }
   ],
   "source": [
    "numerosCuadrados=[numero*numero for numero in numeros]\n",
    "print(numerosCuadrados)"
   ]
  },
  {
   "cell_type": "code",
   "execution_count": 8,
   "metadata": {},
   "outputs": [
    {
     "data": {
      "text/plain": [
       "55"
      ]
     },
     "execution_count": 8,
     "metadata": {},
     "output_type": "execute_result"
    }
   ],
   "source": [
    "sumatorio=sum(numeros)\n",
    "sumatorio"
   ]
  },
  {
   "cell_type": "code",
   "execution_count": 9,
   "metadata": {},
   "outputs": [
    {
     "data": {
      "text/plain": [
       "1"
      ]
     },
     "execution_count": 9,
     "metadata": {},
     "output_type": "execute_result"
    }
   ],
   "source": [
    "indice=numerosPares.index(8)\n",
    "indice"
   ]
  },
  {
   "cell_type": "markdown",
   "metadata": {},
   "source": [
    "- Escribe un programa en Python para encontrar los elementos duplicados de una lista,\n",
    "añadirlos a una nueva lista y borrarlos de la lista. Después imprime una lista con tan solo los\n",
    "elementos únicos.\n",
    "- Escribe un programa en Python para unir dos listas y ordenarlas en orden ascendente.\n",
    "- Escribe un script que encuentre el segundo número más grande de una lista.\n",
    "- Crea un script que cuente el número de elementos más grandes que un determinado número\n",
    "dado por el usuario (supón una lista numérica).\n",
    "- Crea un script dado un número introducido por el usuario o determinado al inicio del\n",
    "programa, realice la suma de aquellos números que sean divisibles por este."
   ]
  },
  {
   "cell_type": "code",
   "execution_count": 16,
   "metadata": {},
   "outputs": [
    {
     "name": "stdout",
     "output_type": "stream",
     "text": [
      "[2, 4, 6]\n",
      "[1, 3, 5, 7, 8]\n"
     ]
    }
   ],
   "source": [
    "listaDuplicados=[1,2,3,4,4,2,5,6,7,8,6,2]\n",
    "numerosDuplicados=[]\n",
    "for numero in listaDuplicados:\n",
    "    if listaDuplicados.count(numero)>1 and numero not in numerosDuplicados:\n",
    "        numerosDuplicados.append(numero)\n",
    "unicos=[]\n",
    "for numero in listaDuplicados:\n",
    "    if listaDuplicados.count(numero)==1:\n",
    "        unicos.append(numero)\n",
    "print(numerosDuplicados)\n",
    "print(unicos)\n",
    "\n"
   ]
  },
  {
   "cell_type": "code",
   "execution_count": 18,
   "metadata": {},
   "outputs": [
    {
     "data": {
      "text/plain": [
       "[1, 3, 4, 5, 6, 7]"
      ]
     },
     "execution_count": 18,
     "metadata": {},
     "output_type": "execute_result"
    }
   ],
   "source": [
    "lista1=[4,5,6]\n",
    "lista2=[1,7,3]\n",
    "listaDefinitiva=sorted(lista1+lista2)\n",
    "listaDefinitiva"
   ]
  },
  {
   "cell_type": "code",
   "execution_count": 19,
   "metadata": {},
   "outputs": [
    {
     "name": "stdout",
     "output_type": "stream",
     "text": [
      "7\n"
     ]
    }
   ],
   "source": [
    "maximo=max(listaDuplicados)\n",
    "segundoMaximo=0\n",
    "for numero in listaDuplicados:\n",
    "    if numero >segundoMaximo and numero!=maximo:\n",
    "        segundoMaximo=numero\n",
    "print(segundoMaximo)"
   ]
  },
  {
   "cell_type": "code",
   "execution_count": 21,
   "metadata": {},
   "outputs": [
    {
     "name": "stdout",
     "output_type": "stream",
     "text": [
      "3\n"
     ]
    }
   ],
   "source": [
    "listaNueva=[1,2,3,4,5,6,7,8,9,10]\n",
    "numeroUsuario=int(input('Introduce un numero del 1 al 10'))\n",
    "contador=0\n",
    "for numero in listaNueva:\n",
    "    if numeroUsuario<numero:\n",
    "        contador+=1\n",
    "print(contador)\n"
   ]
  },
  {
   "cell_type": "code",
   "execution_count": 23,
   "metadata": {},
   "outputs": [
    {
     "name": "stdout",
     "output_type": "stream",
     "text": [
      "8\n"
     ]
    }
   ],
   "source": [
    "listaNueva=[1,2,3,4,5,6,7,8,9,10]\n",
    "numeroUsuario=int(input('Introduce un numero del 1 al 10'))\n",
    "suma=0\n",
    "for numero in listaNueva:\n",
    "    if numero%numeroUsuario==0:\n",
    "        suma+=numero\n",
    "print(suma)"
   ]
  },
  {
   "cell_type": "code",
   "execution_count": 25,
   "metadata": {},
   "outputs": [
    {
     "data": {
      "text/plain": [
       "['COMO', 'ESTAS', 'TU', 'TAN', 'BONITO']"
      ]
     },
     "execution_count": 25,
     "metadata": {},
     "output_type": "execute_result"
    }
   ],
   "source": [
    "listaString=['como','estas','tu','tan','bonito']\n",
    "listaMayusculas=[]\n",
    "for string in listaString:\n",
    "    listaMayusculas.append(string.upper())\n",
    "listaMayusculas"
   ]
  }
 ],
 "metadata": {
  "kernelspec": {
   "display_name": "practica_python",
   "language": "python",
   "name": "python3"
  },
  "language_info": {
   "codemirror_mode": {
    "name": "ipython",
    "version": 3
   },
   "file_extension": ".py",
   "mimetype": "text/x-python",
   "name": "python",
   "nbconvert_exporter": "python",
   "pygments_lexer": "ipython3",
   "version": "3.13.5"
  }
 },
 "nbformat": 4,
 "nbformat_minor": 2
}
