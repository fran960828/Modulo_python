{
 "cells": [
  {
   "cell_type": "markdown",
   "id": "8746fd03",
   "metadata": {},
   "source": [
    "Define una lista de 5 palabras aleatorias y una lista de letras prohibidas que contenga tres letras. \n",
    "Filtra las palabras en tu lista original crea una nueva lista de palabras filtradas que solo contenga \n",
    "aquellas palabras que no tienen ninguna letra prohibida.  "
   ]
  },
  {
   "cell_type": "code",
   "execution_count": 2,
   "id": "416b97de",
   "metadata": {},
   "outputs": [
    {
     "data": {
      "text/plain": [
       "['como', 'el', 'hoy']"
      ]
     },
     "execution_count": 2,
     "metadata": {},
     "output_type": "execute_result"
    }
   ],
   "source": [
    "listaPalabras=['como','llevas','el','dia','hoy']\n",
    "listaLetras=['a','u','s']\n",
    "listaPalabrasFiltrada=[]\n",
    "for palabra in listaPalabras:\n",
    "    if listaLetras[0] not in palabra and listaLetras[1] not in palabra and listaLetras[2] not in palabra:\n",
    "        listaPalabrasFiltrada.append(palabra)\n",
    "listaPalabrasFiltrada\n"
   ]
  },
  {
   "cell_type": "markdown",
   "id": "6c99fce8",
   "metadata": {},
   "source": [
    "Dado una lista de números enteros, escribe un script en Python que devuelva una nueva lista con \n",
    "los números primos de la lista original. Además, el script debe devolver el número total de \n",
    "números primos encontrados y la suma de los números primos encontrados "
   ]
  },
  {
   "cell_type": "code",
   "execution_count": 4,
   "id": "3c107575",
   "metadata": {},
   "outputs": [
    {
     "name": "stdout",
     "output_type": "stream",
     "text": [
      "7\n",
      "75\n"
     ]
    }
   ],
   "source": [
    "listaOriginal=[3,4,5,6,7,8,9,10,11,12,13,14,15,16,17,18,19,20]\n",
    "listaPrimos=[]\n",
    "for num in listaOriginal:\n",
    "    esprimo=True\n",
    "    for i in range (2,num):\n",
    "        if num%i==0:\n",
    "            esprimo=False\n",
    "            break\n",
    "    if esprimo==True:\n",
    "        listaPrimos.append(num)\n",
    "print(len(listaPrimos))\n",
    "print(sum(listaPrimos))"
   ]
  },
  {
   "cell_type": "markdown",
   "id": "199a8b4c",
   "metadata": {},
   "source": [
    "Supongamos una lista de de caracteres llamada “palabras“ que representa una mano de \n",
    "Scrabble. Cada string contiene dos caracteres: el primer carácter es la letra de una ficha y el \n",
    "segundo el numero que representa los puntos de la ficha. Por ejemplo, el string \"A5\" representa la \n",
    "f\n",
    " icha con la letra A y un valor de 5 puntos. Crea un script que calcule el valor total de los puntos \n",
    "en una mano de scrabble. El valor total será la suma de los puntos de todas las fichas de la mano.  "
   ]
  },
  {
   "cell_type": "code",
   "execution_count": 5,
   "id": "73e4e2a9",
   "metadata": {},
   "outputs": [
    {
     "name": "stdout",
     "output_type": "stream",
     "text": [
      "37\n"
     ]
    }
   ],
   "source": [
    "palabras=['A5','B4','C7','D4','E6','F9','G2']\n",
    "suma=0\n",
    "for palabra in palabras:\n",
    "    suma+=int(palabra[1])\n",
    "print(suma)"
   ]
  }
 ],
 "metadata": {
  "kernelspec": {
   "display_name": "trabajo",
   "language": "python",
   "name": "python3"
  },
  "language_info": {
   "codemirror_mode": {
    "name": "ipython",
    "version": 3
   },
   "file_extension": ".py",
   "mimetype": "text/x-python",
   "name": "python",
   "nbconvert_exporter": "python",
   "pygments_lexer": "ipython3",
   "version": "3.12.9"
  }
 },
 "nbformat": 4,
 "nbformat_minor": 5
}
