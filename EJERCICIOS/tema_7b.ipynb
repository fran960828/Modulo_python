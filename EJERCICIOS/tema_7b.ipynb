{
 "cells": [
  {
   "cell_type": "markdown",
   "id": "edba323d",
   "metadata": {},
   "source": [
    "Crea un programa que valide un formulario de registro. Crea una función \n",
    "llamada validar_formulario que reciba diferentes campos de un formulario \n",
    "(nombre, correo electrónico y número de teléfono) y verifique si los valores \n",
    "ingresados cumplen con los requisitos especificados, siendo estos:\n",
    " 1. Que el nombre tenga una longitud minima de 3 caracteres\n",
    " 2. Que el teléfono este conformado por dígitos y tenga una longitud de 9 \n",
    "caracteres\n",
    " 3. Que el email contenga un “@“ y un “.”"
   ]
  },
  {
   "cell_type": "code",
   "execution_count": 6,
   "id": "58dba258",
   "metadata": {},
   "outputs": [
    {
     "name": "stdout",
     "output_type": "stream",
     "text": [
      "Formulario completado de forma correcta\n"
     ]
    }
   ],
   "source": [
    "import re\n",
    "def checkForm(name,mail,phoneNumber):\n",
    "    form={}\n",
    "    if len(name)>3:\n",
    "        form['name']=name\n",
    "        \n",
    "    if re.search(r\".*@.*\\..*\",mail):\n",
    "        form['email']=mail\n",
    "        \n",
    "    if isinstance(phoneNumber,int) and len(str(phoneNumber))==9:\n",
    "        form['phoneNumber']=phoneNumber\n",
    "        \n",
    "    if len(form)==3:\n",
    "        print('Formulario completado de forma correcta')\n",
    "    else:\n",
    "        print('Hay un error en tu formulario')\n",
    "checkForm('Francisco','fgg@hotmail.com',651647482)\n"
   ]
  },
  {
   "cell_type": "markdown",
   "id": "bc1c6d47",
   "metadata": {},
   "source": [
    "Crea un programa que permita gestionar las ventas de una tienda. Utiliza una \n",
    "estructura de datos adecuada para almacenar la información de las ventas \n",
    "(por ejemplo, una lista de diccionarios). Implementa dos funciones, una para \n",
    "agregar el producto vendido con su precio y otro para mostrar las ventas de \n",
    "productos con sus respectivos precios.\n",
    " (La base de datos puede tener la forma [{“Producto”: producto1, “Precio”: \n",
    "precio1}, {“Producto”: producto2, “Precio”: precio2}…])"
   ]
  },
  {
   "cell_type": "code",
   "execution_count": 11,
   "id": "22ed2b7c",
   "metadata": {},
   "outputs": [],
   "source": [
    "ventas=[]\n",
    "def incorporarProducto(ventas):\n",
    "    producto=input('Indica el nombre del producto')\n",
    "    precio=input('Indica el precio del producto')\n",
    "    ventas.append({'producto':producto,'precio':precio})\n",
    "def ventasProductos(ventas):\n",
    "    for producto in ventas:\n",
    "        print(producto['producto'],'-->',producto['precio'])"
   ]
  },
  {
   "cell_type": "code",
   "execution_count": 13,
   "id": "f2574d87",
   "metadata": {},
   "outputs": [
    {
     "name": "stdout",
     "output_type": "stream",
     "text": [
      "tomate 10 --> 10\n",
      "albahaca --> 2\n",
      "coca cola --> 7\n",
      "agua --> 16\n"
     ]
    }
   ],
   "source": [
    "continuar='si'\n",
    "while continuar=='si':\n",
    "    incorporarProducto(ventas)\n",
    "    continuar=input('Desea continuar: si || no').lower()\n",
    "ventasProductos(ventas)"
   ]
  }
 ],
 "metadata": {
  "kernelspec": {
   "display_name": "trabajo",
   "language": "python",
   "name": "python3"
  },
  "language_info": {
   "codemirror_mode": {
    "name": "ipython",
    "version": 3
   },
   "file_extension": ".py",
   "mimetype": "text/x-python",
   "name": "python",
   "nbconvert_exporter": "python",
   "pygments_lexer": "ipython3",
   "version": "3.12.9"
  }
 },
 "nbformat": 4,
 "nbformat_minor": 5
}
