{
 "cells": [
  {
   "cell_type": "markdown",
   "id": "edba323d",
   "metadata": {},
   "source": [
    "Crea un programa que valide un formulario de registro. Crea una función \n",
    "llamada validar_formulario que reciba diferentes campos de un formulario \n",
    "(nombre, correo electrónico y número de teléfono) y verifique si los valores \n",
    "ingresados cumplen con los requisitos especificados, siendo estos:\n",
    " 1. Que el nombre tenga una longitud minima de 3 caracteres\n",
    " 2. Que el teléfono este conformado por dígitos y tenga una longitud de 9 \n",
    "caracteres\n",
    " 3. Que el email contenga un “@“ y un “.”"
   ]
  },
  {
   "cell_type": "code",
   "execution_count": 6,
   "id": "58dba258",
   "metadata": {},
   "outputs": [
    {
     "name": "stdout",
     "output_type": "stream",
     "text": [
      "Formulario completado de forma correcta\n"
     ]
    }
   ],
   "source": [
    "import re\n",
    "def checkForm(name,mail,phoneNumber):\n",
    "    form={}\n",
    "    if len(name)>3:\n",
    "        form['name']=name\n",
    "        \n",
    "    if re.search(r\".*@.*\\..*\",mail):\n",
    "        form['email']=mail\n",
    "        \n",
    "    if isinstance(phoneNumber,int) and len(str(phoneNumber))==9:\n",
    "        form['phoneNumber']=phoneNumber\n",
    "        \n",
    "    if len(form)==3:\n",
    "        print('Formulario completado de forma correcta')\n",
    "    else:\n",
    "        print('Hay un error en tu formulario')\n",
    "checkForm('Francisco','fgg@hotmail.com',651647482)\n"
   ]
  },
  {
   "cell_type": "markdown",
   "id": "bc1c6d47",
   "metadata": {},
   "source": [
    "Crea un programa que permita gestionar las ventas de una tienda. Utiliza una \n",
    "estructura de datos adecuada para almacenar la información de las ventas \n",
    "(por ejemplo, una lista de diccionarios). Implementa dos funciones, una para \n",
    "agregar el producto vendido con su precio y otro para mostrar las ventas de \n",
    "productos con sus respectivos precios.\n",
    " (La base de datos puede tener la forma [{“Producto”: producto1, “Precio”: \n",
    "precio1}, {“Producto”: producto2, “Precio”: precio2}…])"
   ]
  },
  {
   "cell_type": "code",
   "execution_count": 11,
   "id": "22ed2b7c",
   "metadata": {},
   "outputs": [],
   "source": [
    "ventas=[]\n",
    "def incorporarProducto(ventas):\n",
    "    producto=input('Indica el nombre del producto')\n",
    "    precio=input('Indica el precio del producto')\n",
    "    ventas.append({'producto':producto,'precio':precio})\n",
    "def ventasProductos(ventas):\n",
    "    for producto in ventas:\n",
    "        print(producto['producto'],'-->',producto['precio'])"
   ]
  },
  {
   "cell_type": "code",
   "execution_count": 13,
   "id": "f2574d87",
   "metadata": {},
   "outputs": [
    {
     "name": "stdout",
     "output_type": "stream",
     "text": [
      "tomate 10 --> 10\n",
      "albahaca --> 2\n",
      "coca cola --> 7\n",
      "agua --> 16\n"
     ]
    }
   ],
   "source": [
    "continuar='si'\n",
    "while continuar=='si':\n",
    "    incorporarProducto(ventas)\n",
    "    continuar=input('Desea continuar: si || no').lower()\n",
    "ventasProductos(ventas)"
   ]
  },
  {
   "cell_type": "markdown",
   "id": "eb21e2c1",
   "metadata": {},
   "source": [
    "Crea un script que solicite una contraseña, analice si es segura y si no lo es\n",
    "sugiera una nueva contraseña. Para ello puedes crear un script validador.py\n",
    "que contenga una funcion validar_contrasena que reciba una cadena y\n",
    "verifique si cumple con los requisitos mínimos de una contraseña segura\n",
    "(por ejemplo, longitud mínima, presencia de letras mayúsculas, letras\n",
    "minúsculas, números y caracteres especiales). La función debe devolver un\n",
    "valor booleano que indique si la contraseña es válida o no. Por otro lado\n",
    "puedes crear otro script creador.py con una función llamada\n",
    "generar_contrasena que genere contraseñas seguras de forma aleatoria. La\n",
    "función debe permitir especificar la longitud de la contraseña y qué tipos de\n",
    "caracteres deben incluirse (por ejemplo, letras mayúsculas, letras\n",
    "minúsculas, números y caracteres especiales).\n",
    "(Para el generador de contraseñas puedes probar a usar los modulos\n",
    "random y string)"
   ]
  },
  {
   "cell_type": "code",
   "execution_count": 1,
   "id": "edb15c03",
   "metadata": {},
   "outputs": [],
   "source": [
    "import re\n",
    "import random as rd\n",
    "import string as st"
   ]
  },
  {
   "cell_type": "code",
   "execution_count": null,
   "id": "46def34f",
   "metadata": {},
   "outputs": [],
   "source": [
    "class PasswordValidator:\n",
    "    \"\"\"\n",
    "    Validador de contraseñas profesional:\n",
    "    Comprueba que una contraseña contenga:\n",
    "    - Al menos una letra mayúscula\n",
    "    - Al menos una letra minúscula\n",
    "    - Al menos un dígito\n",
    "    - Al menos un carácter especial\n",
    "    \"\"\"\n",
    "\n",
    "    # Expresiones regulares para cada criterio\n",
    "    UPPERCASE_REGEX = re.compile(r'[A-Z]')\n",
    "    LOWERCASE_REGEX = re.compile(r'[a-z]')\n",
    "    DIGIT_REGEX = re.compile(r'\\d')\n",
    "    SPECIAL_REGEX = re.compile(r'[!@#$%^&*(),.?\":{}|<>]')\n",
    "\n",
    "    @classmethod\n",
    "    def validate(cls, password: str) -> dict:\n",
    "        \"\"\"\n",
    "        Valida la contraseña y devuelve un diccionario con los resultados.\n",
    "        :param password: contraseña a validar\n",
    "        :return: dict con cada criterio y un campo 'valid' indicando si pasa todos\n",
    "        \"\"\"\n",
    "        results = {\n",
    "            \"has_uppercase\": bool(cls.UPPERCASE_REGEX.search(password)),\n",
    "            \"has_lowercase\": bool(cls.LOWERCASE_REGEX.search(password)),\n",
    "            \"has_digit\": bool(cls.DIGIT_REGEX.search(password)),\n",
    "            \"has_special\": bool(cls.SPECIAL_REGEX.search(password)),\n",
    "        }\n",
    "        # La contraseña es válida solo si cumple todos los criterios\n",
    "        results[\"valid\"] = all(results.values())\n",
    "        return results\n",
    "    \n",
    "\n"
   ]
  },
  {
   "cell_type": "code",
   "execution_count": 36,
   "id": "11aa0d27",
   "metadata": {},
   "outputs": [],
   "source": [
    "class PasswordGenerator:\n",
    "    '''\n",
    "    Generador de contraseñas usando expresiones regulares\n",
    "    '''\n",
    "    uppercase=list(st.ascii_uppercase)\n",
    "    lowercase=list(st.ascii_lowercase)\n",
    "    digits=list(st.digits)\n",
    "    special_characters=list(\"!@#$%^&*()-_=+[]{}|;:',.<>/?`~\")\n",
    "\n",
    "    @classmethod\n",
    "    def generator(cls):\n",
    "        all_list=[cls.uppercase,cls.lowercase,cls.digits,cls.special_characters]\n",
    "        new_password=''\n",
    "        for i in range (5):\n",
    "            rd.shuffle(all_list)\n",
    "            for list in all_list:\n",
    "                new_password+=rd.choice(list)\n",
    "        return new_password\n",
    "        "
   ]
  },
  {
   "cell_type": "code",
   "execution_count": 37,
   "id": "a94bbeb6",
   "metadata": {},
   "outputs": [
    {
     "name": "stdout",
     "output_type": "stream",
     "text": [
      "Your password is not secure\n",
      "example of password: *Yy9^f7F*8hE8[fIh'Z7\n"
     ]
    }
   ],
   "source": [
    "password=input('write a secure password')\n",
    "validate=PasswordValidator.validate(password)\n",
    "\n",
    "if (validate['valid'] and len(password)>=8):\n",
    "    print('Your password is secure')\n",
    "else:\n",
    "    print('Your password is not secure')\n",
    "    generador=PasswordGenerator.generator()\n",
    "    print('example of password:',generador)\n"
   ]
  }
 ],
 "metadata": {
  "kernelspec": {
   "display_name": "practica_python",
   "language": "python",
   "name": "python3"
  },
  "language_info": {
   "codemirror_mode": {
    "name": "ipython",
    "version": 3
   },
   "file_extension": ".py",
   "mimetype": "text/x-python",
   "name": "python",
   "nbconvert_exporter": "python",
   "pygments_lexer": "ipython3",
   "version": "3.13.5"
  }
 },
 "nbformat": 4,
 "nbformat_minor": 5
}
