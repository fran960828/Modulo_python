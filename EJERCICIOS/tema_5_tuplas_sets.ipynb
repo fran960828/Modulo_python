{
 "cells": [
  {
   "cell_type": "markdown",
   "id": "c016193d",
   "metadata": {},
   "source": [
    "1. Crea una tupla con tres elementos y imprime por pantalla cada uno de ellos en una \n",
    "nueva linea.\n",
    " 2. Crea una lista con tres elementos e intenta modificarla. Haz lo mismo con la tupla. \n",
    "¿Cuáles son las diferencias?\n",
    " 3. Crea una tupla de enteros y devuelve la suma de los elementos.\n",
    " 4. Crea un script que dada una tupla que contiene strings cree una nueva tupla con el \n",
    "primer caracter de cada string.\n",
    " 5. Crea un script que dada una tupla de números devuelva el producto de todos los \n",
    "números pares. "
   ]
  },
  {
   "cell_type": "code",
   "execution_count": 4,
   "id": "5f7ea72d",
   "metadata": {},
   "outputs": [
    {
     "name": "stdout",
     "output_type": "stream",
     "text": [
      "1\n",
      "2\n",
      "3\n"
     ]
    }
   ],
   "source": [
    "tupla1=(1,2,3)\n",
    "for valor in tupla1:\n",
    "    print(valor)"
   ]
  },
  {
   "cell_type": "code",
   "execution_count": 5,
   "id": "8b54eba9",
   "metadata": {},
   "outputs": [
    {
     "name": "stdout",
     "output_type": "stream",
     "text": [
      "6\n"
     ]
    }
   ],
   "source": [
    "print(sum(tupla1))"
   ]
  },
  {
   "cell_type": "code",
   "execution_count": 9,
   "id": "f579a182",
   "metadata": {},
   "outputs": [
    {
     "name": "stdout",
     "output_type": "stream",
     "text": [
      "('F', 'r', 'a', 'n')\n"
     ]
    }
   ],
   "source": [
    "tupla2=('Fantastic','rudo','asombroso','nestor')\n",
    "cadena=''\n",
    "for valor in tupla2:\n",
    "    cadena=cadena+valor[0]\n",
    "print(tuple(cadena))"
   ]
  },
  {
   "cell_type": "code",
   "execution_count": 11,
   "id": "b74c2246",
   "metadata": {},
   "outputs": [
    {
     "data": {
      "text/plain": [
       "384"
      ]
     },
     "execution_count": 11,
     "metadata": {},
     "output_type": "execute_result"
    }
   ],
   "source": [
    "tupla3=(1,2,3,4,5,6,7,8,9)\n",
    "producto=1\n",
    "for numero in tupla3:\n",
    "    if (numero%2==0):\n",
    "        producto*=numero\n",
    "producto"
   ]
  },
  {
   "cell_type": "markdown",
   "id": "9d12bbdf",
   "metadata": {},
   "source": [
    "6. Crea un script que dada una tupla de números, devuelva la tupla con los numeros \n",
    "ordeandos en orden descendente.\n",
    " 7. Crea un script que dada una tupla con números enteros repetidos, elimine los \n",
    "duplicados. (Puedes usar sets).\n",
    " 8. Crea un script que dada una tupla y un numero entero, devuelve verdadero si el \n",
    "numero se encuentra en la tupla y falso en el caso contrario.\n",
    " 9. Crea un script que dadas dos tuplas cree una tupla resultante de la union de ambas.\n",
    " 10. Crea un script que dada una tupla de números devuelva e máximo y el mínimo."
   ]
  },
  {
   "cell_type": "code",
   "execution_count": 12,
   "id": "00f2efa1",
   "metadata": {},
   "outputs": [
    {
     "data": {
      "text/plain": [
       "(9, 8, 7, 6, 5, 4, 3, 2, 1)"
      ]
     },
     "execution_count": 12,
     "metadata": {},
     "output_type": "execute_result"
    }
   ],
   "source": [
    "tuplaRevertida=tuple(reversed(tupla3))\n",
    "tuplaRevertida"
   ]
  },
  {
   "cell_type": "code",
   "execution_count": 13,
   "id": "33d61eee",
   "metadata": {},
   "outputs": [
    {
     "data": {
      "text/plain": [
       "(1, 2, 3, 7)"
      ]
     },
     "execution_count": 13,
     "metadata": {},
     "output_type": "execute_result"
    }
   ],
   "source": [
    "tuplaDuplicados=(1,1,1,2,2,3,3,3,3,3,7,7,7,7)\n",
    "tuplaSinDuplicados=tuple(set(tuplaDuplicados))\n",
    "tuplaSinDuplicados"
   ]
  },
  {
   "cell_type": "code",
   "execution_count": 15,
   "id": "54077116",
   "metadata": {},
   "outputs": [
    {
     "name": "stdout",
     "output_type": "stream",
     "text": [
      "False\n"
     ]
    }
   ],
   "source": [
    "numero=99\n",
    "print(tupla3.__contains__(numero))"
   ]
  },
  {
   "cell_type": "code",
   "execution_count": 16,
   "id": "84de29c7",
   "metadata": {},
   "outputs": [
    {
     "name": "stdout",
     "output_type": "stream",
     "text": [
      "(1, 2, 3, 4, 5, 6, 7, 8, 9, 9, 8, 7, 6, 5, 4, 3, 2, 1)\n"
     ]
    }
   ],
   "source": [
    "print(tupla3.__add__(tuplaRevertida))"
   ]
  },
  {
   "cell_type": "markdown",
   "id": "267d7961",
   "metadata": {},
   "source": [
    "11. Crea un script que dada una tupla con strings devuelva el string más largo y el más \n",
    "corto. (Prueba añadiendo key=len a las funciones max y min).\n",
    " 12. Crea un script que dada una tupla devuelva el contenido en orden revertido.\n",
    " 13. Crea un script que dada una tupla de tuplas, donde cada tupla interna contiene dos \n",
    "elementos, devuelva una nueva tupla en la que cada elemento sea la suma de los dos \n",
    "elementos de la tupla interna correspondiente."
   ]
  },
  {
   "cell_type": "code",
   "execution_count": 20,
   "id": "e1b533e4",
   "metadata": {},
   "outputs": [
    {
     "name": "stdout",
     "output_type": "stream",
     "text": [
      "Fantastic\n",
      "rudo\n"
     ]
    }
   ],
   "source": [
    "print(max(tupla2,key=len))\n",
    "print(min(tupla2,key=len))"
   ]
  },
  {
   "cell_type": "code",
   "execution_count": 21,
   "id": "84dd1e24",
   "metadata": {},
   "outputs": [
    {
     "name": "stdout",
     "output_type": "stream",
     "text": [
      "(3, 6, 11)\n"
     ]
    }
   ],
   "source": [
    "tupladoble=((1,2),(2,4),(5,6))\n",
    "listaSuma=[]\n",
    "for elemento in tupladoble:\n",
    "    listaSuma.append(sum(elemento))\n",
    "print(tuple(listaSuma))"
   ]
  },
  {
   "cell_type": "code",
   "execution_count": 22,
   "id": "50f4f2e5",
   "metadata": {},
   "outputs": [
    {
     "data": {
      "text/plain": [
       "(3, 6, 11)"
      ]
     },
     "execution_count": 22,
     "metadata": {},
     "output_type": "execute_result"
    }
   ],
   "source": [
    "tuplasencilla=tuple(map(lambda x: sum(x),tupladoble))\n",
    "tuplasencilla"
   ]
  },
  {
   "cell_type": "markdown",
   "id": "f195dbd7",
   "metadata": {},
   "source": [
    "14.Crea un set y elimina uno de sus elementos.\n",
    " 15.Crea un set vacío.\n",
    " 16.Crea dos sets y encuentra su union, su intersección y su diferencia.\n",
    " 17.Crea un script que dados dos sets cree uno nuevo que contenga solo los elementos \n",
    "comunes de ambos.\n",
    " 18.Crea un script que dado un set con números devuelva el numero máximo y mínimo.\n",
    " 19.Crea un script que dados dos sets cree uno nuevo solo con los elementos únicos de \n",
    "cada uno de los sets.\n",
    " 20.Crea un set con colores y comprueba si cierto color se encuentra en el set.\n",
    " 21.Crea un script que dados dos sets cree un nuevo set con los elementos que están en \n",
    "el primer set pero no en el segundo.\n",
    " 22.Crea un script que dado un set de enteros devuelva el producto de todos los números \n",
    "dentro del set. "
   ]
  },
  {
   "cell_type": "code",
   "execution_count": 25,
   "id": "7de25ca0",
   "metadata": {},
   "outputs": [
    {
     "data": {
      "text/plain": [
       "set"
      ]
     },
     "execution_count": 25,
     "metadata": {},
     "output_type": "execute_result"
    }
   ],
   "source": [
    "s1={1,2,3,4,5,6,7}\n",
    "s1.discard(7)\n",
    "s2=set()\n",
    "type(s2)"
   ]
  },
  {
   "cell_type": "code",
   "execution_count": 27,
   "id": "d62984dd",
   "metadata": {},
   "outputs": [
    {
     "name": "stdout",
     "output_type": "stream",
     "text": [
      "{1, 2, 3, 4, 5, 6, 7, 8, 9, 10}\n",
      "{5, 6}\n",
      "{1, 2, 3, 4}\n",
      "{1, 2, 3, 4, 7, 8, 9, 10}\n",
      "6 1\n"
     ]
    }
   ],
   "source": [
    "s3={5,6,7,8,9,10}\n",
    "print(s1.union(s3))\n",
    "print(s1.intersection(s3))\n",
    "print(s1.difference(s3))\n",
    "print(s1.symmetric_difference(s3))\n",
    "print(max(s1),min(s1))"
   ]
  },
  {
   "cell_type": "code",
   "execution_count": 29,
   "id": "36863f1d",
   "metadata": {},
   "outputs": [
    {
     "name": "stdout",
     "output_type": "stream",
     "text": [
      "False\n"
     ]
    }
   ],
   "source": [
    "sColores={'red','green','blue','purple'}\n",
    "print(sColores.__contains__('yellow'))"
   ]
  },
  {
   "cell_type": "code",
   "execution_count": 32,
   "id": "fcb68da9",
   "metadata": {},
   "outputs": [
    {
     "data": {
      "text/plain": [
       "720"
      ]
     },
     "execution_count": 32,
     "metadata": {},
     "output_type": "execute_result"
    }
   ],
   "source": [
    "from functools import reduce\n",
    "producto=reduce(lambda acc, x: acc*x,s1,1)\n",
    "producto"
   ]
  }
 ],
 "metadata": {
  "kernelspec": {
   "display_name": "trabajo",
   "language": "python",
   "name": "python3"
  },
  "language_info": {
   "codemirror_mode": {
    "name": "ipython",
    "version": 3
   },
   "file_extension": ".py",
   "mimetype": "text/x-python",
   "name": "python",
   "nbconvert_exporter": "python",
   "pygments_lexer": "ipython3",
   "version": "3.12.9"
  }
 },
 "nbformat": 4,
 "nbformat_minor": 5
}
