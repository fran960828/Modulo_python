{
 "cells": [
  {
   "cell_type": "markdown",
   "id": "c016193d",
   "metadata": {},
   "source": [
    "1. Crea una tupla con tres elementos y imprime por pantalla cada uno de ellos en una \n",
    "nueva linea.\n",
    " 2. Crea una lista con tres elementos e intenta modificarla. Haz lo mismo con la tupla. \n",
    "¿Cuáles son las diferencias?\n",
    " 3. Crea una tupla de enteros y devuelve la suma de los elementos.\n",
    " 4. Crea un script que dada una tupla que contiene strings cree una nueva tupla con el \n",
    "primer caracter de cada string.\n",
    " 5. Crea un script que dada una tupla de números devuelva el producto de todos los \n",
    "números pares. "
   ]
  },
  {
   "cell_type": "code",
   "execution_count": 4,
   "id": "5f7ea72d",
   "metadata": {},
   "outputs": [
    {
     "name": "stdout",
     "output_type": "stream",
     "text": [
      "1\n",
      "2\n",
      "3\n"
     ]
    }
   ],
   "source": [
    "tupla1=(1,2,3)\n",
    "for valor in tupla1:\n",
    "    print(valor)"
   ]
  },
  {
   "cell_type": "code",
   "execution_count": 5,
   "id": "8b54eba9",
   "metadata": {},
   "outputs": [
    {
     "name": "stdout",
     "output_type": "stream",
     "text": [
      "6\n"
     ]
    }
   ],
   "source": [
    "print(sum(tupla1))"
   ]
  },
  {
   "cell_type": "code",
   "execution_count": 9,
   "id": "f579a182",
   "metadata": {},
   "outputs": [
    {
     "name": "stdout",
     "output_type": "stream",
     "text": [
      "('F', 'r', 'a', 'n')\n"
     ]
    }
   ],
   "source": [
    "tupla2=('Fantastic','rudo','asombroso','nestor')\n",
    "cadena=''\n",
    "for valor in tupla2:\n",
    "    cadena=cadena+valor[0]\n",
    "print(tuple(cadena))"
   ]
  },
  {
   "cell_type": "code",
   "execution_count": 11,
   "id": "b74c2246",
   "metadata": {},
   "outputs": [
    {
     "data": {
      "text/plain": [
       "384"
      ]
     },
     "execution_count": 11,
     "metadata": {},
     "output_type": "execute_result"
    }
   ],
   "source": [
    "tupla3=(1,2,3,4,5,6,7,8,9)\n",
    "producto=1\n",
    "for numero in tupla3:\n",
    "    if (numero%2==0):\n",
    "        producto*=numero\n",
    "producto"
   ]
  },
  {
   "cell_type": "markdown",
   "id": "9d12bbdf",
   "metadata": {},
   "source": [
    "6. Crea un script que dada una tupla de números, devuelva la tupla con los numeros \n",
    "ordeandos en orden descendente.\n",
    " 7. Crea un script que dada una tupla con números enteros repetidos, elimine los \n",
    "duplicados. (Puedes usar sets).\n",
    " 8. Crea un script que dada una tupla y un numero entero, devuelve verdadero si el \n",
    "numero se encuentra en la tupla y falso en el caso contrario.\n",
    " 9. Crea un script que dadas dos tuplas cree una tupla resultante de la union de ambas.\n",
    " 10. Crea un script que dada una tupla de números devuelva e máximo y el mínimo."
   ]
  },
  {
   "cell_type": "code",
   "execution_count": 12,
   "id": "00f2efa1",
   "metadata": {},
   "outputs": [
    {
     "data": {
      "text/plain": [
       "(9, 8, 7, 6, 5, 4, 3, 2, 1)"
      ]
     },
     "execution_count": 12,
     "metadata": {},
     "output_type": "execute_result"
    }
   ],
   "source": [
    "tuplaRevertida=tuple(reversed(tupla3))\n",
    "tuplaRevertida"
   ]
  },
  {
   "cell_type": "code",
   "execution_count": 13,
   "id": "33d61eee",
   "metadata": {},
   "outputs": [
    {
     "data": {
      "text/plain": [
       "(1, 2, 3, 7)"
      ]
     },
     "execution_count": 13,
     "metadata": {},
     "output_type": "execute_result"
    }
   ],
   "source": [
    "tuplaDuplicados=(1,1,1,2,2,3,3,3,3,3,7,7,7,7)\n",
    "tuplaSinDuplicados=tuple(set(tuplaDuplicados))\n",
    "tuplaSinDuplicados"
   ]
  },
  {
   "cell_type": "code",
   "execution_count": 15,
   "id": "54077116",
   "metadata": {},
   "outputs": [
    {
     "name": "stdout",
     "output_type": "stream",
     "text": [
      "False\n"
     ]
    }
   ],
   "source": [
    "numero=99\n",
    "print(tupla3.__contains__(numero))"
   ]
  },
  {
   "cell_type": "code",
   "execution_count": 16,
   "id": "84de29c7",
   "metadata": {},
   "outputs": [
    {
     "name": "stdout",
     "output_type": "stream",
     "text": [
      "(1, 2, 3, 4, 5, 6, 7, 8, 9, 9, 8, 7, 6, 5, 4, 3, 2, 1)\n"
     ]
    }
   ],
   "source": [
    "print(tupla3.__add__(tuplaRevertida))"
   ]
  },
  {
   "cell_type": "markdown",
   "id": "267d7961",
   "metadata": {},
   "source": [
    "11. Crea un script que dada una tupla con strings devuelva el string más largo y el más \n",
    "corto. (Prueba añadiendo key=len a las funciones max y min).\n",
    " 12. Crea un script que dada una tupla devuelva el contenido en orden revertido.\n",
    " 13. Crea un script que dada una tupla de tuplas, donde cada tupla interna contiene dos \n",
    "elementos, devuelva una nueva tupla en la que cada elemento sea la suma de los dos \n",
    "elementos de la tupla interna correspondiente."
   ]
  },
  {
   "cell_type": "code",
   "execution_count": 20,
   "id": "e1b533e4",
   "metadata": {},
   "outputs": [
    {
     "name": "stdout",
     "output_type": "stream",
     "text": [
      "Fantastic\n",
      "rudo\n"
     ]
    }
   ],
   "source": [
    "print(max(tupla2,key=len))\n",
    "print(min(tupla2,key=len))"
   ]
  },
  {
   "cell_type": "code",
   "execution_count": 21,
   "id": "84dd1e24",
   "metadata": {},
   "outputs": [
    {
     "name": "stdout",
     "output_type": "stream",
     "text": [
      "(3, 6, 11)\n"
     ]
    }
   ],
   "source": [
    "tupladoble=((1,2),(2,4),(5,6))\n",
    "listaSuma=[]\n",
    "for elemento in tupladoble:\n",
    "    listaSuma.append(sum(elemento))\n",
    "print(tuple(listaSuma))"
   ]
  },
  {
   "cell_type": "code",
   "execution_count": 22,
   "id": "50f4f2e5",
   "metadata": {},
   "outputs": [
    {
     "data": {
      "text/plain": [
       "(3, 6, 11)"
      ]
     },
     "execution_count": 22,
     "metadata": {},
     "output_type": "execute_result"
    }
   ],
   "source": [
    "tuplasencilla=tuple(map(lambda x: sum(x),tupladoble))\n",
    "tuplasencilla"
   ]
  },
  {
   "cell_type": "markdown",
   "id": "f195dbd7",
   "metadata": {},
   "source": [
    "14.Crea un set y elimina uno de sus elementos.\n",
    " 15.Crea un set vacío.\n",
    " 16.Crea dos sets y encuentra su union, su intersección y su diferencia.\n",
    " 17.Crea un script que dados dos sets cree uno nuevo que contenga solo los elementos \n",
    "comunes de ambos.\n",
    " 18.Crea un script que dado un set con números devuelva el numero máximo y mínimo.\n",
    " 19.Crea un script que dados dos sets cree uno nuevo solo con los elementos únicos de \n",
    "cada uno de los sets.\n",
    " 20.Crea un set con colores y comprueba si cierto color se encuentra en el set.\n",
    " 21.Crea un script que dados dos sets cree un nuevo set con los elementos que están en \n",
    "el primer set pero no en el segundo.\n",
    " 22.Crea un script que dado un set de enteros devuelva el producto de todos los números \n",
    "dentro del set. "
   ]
  },
  {
   "cell_type": "code",
   "execution_count": 25,
   "id": "7de25ca0",
   "metadata": {},
   "outputs": [
    {
     "data": {
      "text/plain": [
       "set"
      ]
     },
     "execution_count": 25,
     "metadata": {},
     "output_type": "execute_result"
    }
   ],
   "source": [
    "s1={1,2,3,4,5,6,7}\n",
    "s1.discard(7)\n",
    "s2=set()\n",
    "type(s2)"
   ]
  },
  {
   "cell_type": "code",
   "execution_count": 27,
   "id": "d62984dd",
   "metadata": {},
   "outputs": [
    {
     "name": "stdout",
     "output_type": "stream",
     "text": [
      "{1, 2, 3, 4, 5, 6, 7, 8, 9, 10}\n",
      "{5, 6}\n",
      "{1, 2, 3, 4}\n",
      "{1, 2, 3, 4, 7, 8, 9, 10}\n",
      "6 1\n"
     ]
    }
   ],
   "source": [
    "s3={5,6,7,8,9,10}\n",
    "print(s1.union(s3))\n",
    "print(s1.intersection(s3))\n",
    "print(s1.difference(s3))\n",
    "print(s1.symmetric_difference(s3))\n",
    "print(max(s1),min(s1))"
   ]
  },
  {
   "cell_type": "code",
   "execution_count": 29,
   "id": "36863f1d",
   "metadata": {},
   "outputs": [
    {
     "name": "stdout",
     "output_type": "stream",
     "text": [
      "False\n"
     ]
    }
   ],
   "source": [
    "sColores={'red','green','blue','purple'}\n",
    "print(sColores.__contains__('yellow'))"
   ]
  },
  {
   "cell_type": "code",
   "execution_count": 32,
   "id": "fcb68da9",
   "metadata": {},
   "outputs": [
    {
     "data": {
      "text/plain": [
       "720"
      ]
     },
     "execution_count": 32,
     "metadata": {},
     "output_type": "execute_result"
    }
   ],
   "source": [
    "from functools import reduce\n",
    "producto=reduce(lambda acc, x: acc*x,s1,1)\n",
    "producto"
   ]
  },
  {
   "cell_type": "markdown",
   "id": "8e3b0f5b",
   "metadata": {},
   "source": [
    "Una red social tiene una base de datos de usuarios y sus correspondientes amistades. \n",
    "Crea un programa que tome una base de datos de una red social como una lista de \n",
    "tuplas, donde cada tupla contiene el nombre del usuario y una lista de sus amigos. Los \n",
    "nombres repetidos en la lista de amigos corresponden a usuarios con varias cuentas \n",
    "diferentes. Deberas eliminar las cuentas duplicadas y después  devolver una tupla de \n",
    "tuplas que contiene el número real de amigos por usuario y el usuario con más amigos.\n",
    " Pista 1: Tus datos de entrada podrían ser así  —>  red_social = [(\"Juan\", [\"Maria\", \"Pedro\", \n",
    "\"Luis\"]), (\"Maria\", [\"Juan\", “Pedro”,”Juan”]), (\"Pedro\", [\"Juan\", \"Maria\"]), (\"Luis\", [“Juan”])] \n",
    "Pista 2: Para eliminar duplicidades puedes usar sets "
   ]
  },
  {
   "cell_type": "code",
   "execution_count": 1,
   "id": "ae1bba04",
   "metadata": {},
   "outputs": [],
   "source": [
    "red_social = [(\"Juan\", [\"Maria\", \"Pedro\", \"Luis\"]), (\"Maria\", [\"Juan\", \"Pedro\",\"Juan\"]), (\"Pedro\", [\"Juan\", \"Maria\"]), (\"Luis\", [\"Juan\"])]"
   ]
  },
  {
   "cell_type": "code",
   "execution_count": 3,
   "id": "e7fd4557",
   "metadata": {},
   "outputs": [
    {
     "name": "stdout",
     "output_type": "stream",
     "text": [
      "[('Juan', ('Maria', 'Pedro', 'Luis')), ('Maria', ('Juan', 'Pedro')), ('Pedro', ('Juan', 'Maria')), ('Luis', ('Juan',))]\n",
      "{'Juan': 3}\n"
     ]
    }
   ],
   "source": [
    "red_social_sin_duplicados =[]\n",
    "numero_amigos=0\n",
    "usuarioMasAmigos={}\n",
    "for usuario, amigos in red_social:\n",
    "    amigos_unicos = tuple(set(amigos))\n",
    "    if len(amigos_unicos)>numero_amigos:\n",
    "        numero_amigos=len(amigos_unicos)\n",
    "        usuarioMasAmigos[usuario]=numero_amigos\n",
    "    red_social_sin_duplicados.append((usuario, amigos_unicos))\n",
    "print(red_social_sin_duplicados)\n",
    "print(usuarioMasAmigos)"
   ]
  },
  {
   "cell_type": "markdown",
   "id": "ccceb2ac",
   "metadata": {},
   "source": [
    "Una biblioteca tiene una lista de libros y sus autores. Crea un programa que tome la lista \n",
    "de libros y sus autores como una lista de tuplas, donde cada tupla contiene el título del \n",
    "libro y el nombre del autor, y devuelva una nueva lista de tuplas que contenga el título del \n",
    "libro y el apellido del autor.\n",
    " Pista: Tus datos de entrada podrían ser así  —> lista_libros = [(‘El aleph', ‘Jorge Luis \n",
    "Borges'), ('Cien años de soledad', ‘Garbriel Garcia Márquez'), ('La ciudad y los perros', \n",
    "‘Mario Vargas Llosa')] "
   ]
  },
  {
   "cell_type": "code",
   "execution_count": 4,
   "id": "04e0ff87",
   "metadata": {},
   "outputs": [
    {
     "data": {
      "text/plain": [
       "[('El aleph', 'Borges'),\n",
       " ('Cien años de soledad', 'Márquez'),\n",
       " ('La ciudad y los perros', 'Llosa')]"
      ]
     },
     "execution_count": 4,
     "metadata": {},
     "output_type": "execute_result"
    }
   ],
   "source": [
    "lista_libros = [('El aleph', 'Jorge Luis Borges'), ('Cien años de soledad', 'Garbriel Garcia Márquez'), ('La ciudad y los perros', 'Mario Vargas Llosa')] \n",
    "nueva_lista =[(titulo, autor.split()[-1]) for titulo, autor in lista_libros]\n",
    "nueva_lista"
   ]
  },
  {
   "cell_type": "markdown",
   "id": "ee604518",
   "metadata": {},
   "source": [
    "Una compañía tiene dos bases de datos de clientes. La primera base de datos contiene \n",
    "el nombre del cliente, la dirección de correo electrónico y el número de teléfono. La \n",
    "segunda base de datos contiene el nombre del cliente, la dirección y el historial de \n",
    "pedidos. Escribe un programa que tome las dos bases de datos como listas de tuplas y \n",
    "devuelva una nueva lista de tuplas que contenga solo los clientes que aparecen en \n",
    "ambas bases de datos. Los clientes se consideran iguales si tienen el mismo nombre.\n",
    " Pista: Tus datos de entrada podrían ser así  —>   \n",
    "base_datos1 = [(\"Juan\", \"juan@example.com\", \"555-1234\"), (\"Maria\", \n",
    "\"maria@example.com\", \"555-5678\"), (\"Pedro\", \"pedro@example.com\", “555-9012\")] \n",
    "base_datos2 = [(\"Juan\", \"Calle 123\", [\"Libro1\", \"Libro2\"]), (\"Maria\", \"Calle 456\", [\"Libro3\"]), \n",
    "(\"Luis\", \"Calle 789\", [\"Libro4\"])] "
   ]
  },
  {
   "cell_type": "code",
   "execution_count": 8,
   "id": "cdee490a",
   "metadata": {},
   "outputs": [
    {
     "data": {
      "text/plain": [
       "[('Juan', 'juan@example.com', '555-1234', 'Calle 123', ['Libro1', 'Libro2']),\n",
       " ('Maria', 'maria@example.com', '555-5678', 'Calle 456', ['Libro3'])]"
      ]
     },
     "execution_count": 8,
     "metadata": {},
     "output_type": "execute_result"
    }
   ],
   "source": [
    "base_datos1 = [(\"Juan\", \"juan@example.com\", \"555-1234\"), (\"Maria\", \n",
    "\"maria@example.com\", \"555-5678\"), (\"Pedro\", \"pedro@example.com\", '555-9012')] \n",
    "base_datos2 = [(\"Juan\", \"Calle 123\", [\"Libro1\", \"Libro2\"]), (\"Maria\", \"Calle 456\", [\"Libro3\"]), \n",
    "(\"Luis\", \"Calle 789\", [\"Libro4\"])]\n",
    "base_datos_completa = []\n",
    "for user1,emailAddress,phone in base_datos1:\n",
    "    for user2,address,books in base_datos2:\n",
    "        if user1==user2:\n",
    "            base_datos_completa.append((user1,emailAddress,phone,address,books))\n",
    "base_datos_completa"
   ]
  }
 ],
 "metadata": {
  "kernelspec": {
   "display_name": "trabajo",
   "language": "python",
   "name": "python3"
  },
  "language_info": {
   "codemirror_mode": {
    "name": "ipython",
    "version": 3
   },
   "file_extension": ".py",
   "mimetype": "text/x-python",
   "name": "python",
   "nbconvert_exporter": "python",
   "pygments_lexer": "ipython3",
   "version": "3.12.9"
  }
 },
 "nbformat": 4,
 "nbformat_minor": 5
}
