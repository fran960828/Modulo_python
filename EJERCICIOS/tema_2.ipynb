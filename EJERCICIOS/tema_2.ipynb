{
 "cells": [
  {
   "cell_type": "markdown",
   "metadata": {},
   "source": [
    "Un ordenador tiene tres usuarios distintos (Alejandro, Naomi y Sergio) y otro usuario invitado.\n",
    "Haz un script que pida el nombre al usuario y le dé una bienvenida personalizada. Crea el script\n",
    "de tal manera que si el usuario no es ninguno de los tres se le dé un saludo genérico.\n",
    "¿Que ocurre si uno de los usuarios introduce su nombre completamente en minúsculas?¿Y si lo\n",
    "introduce en mayúsculas? ¿Y si sin querer pone in punto en mitad de su nombre (p.e. nao.mi)?¿Y\n",
    "si se le cuela una almohadilla (p.e se#rgio)?"
   ]
  },
  {
   "cell_type": "code",
   "execution_count": 9,
   "metadata": {},
   "outputs": [
    {
     "name": "stdout",
     "output_type": "stream",
     "text": [
      "Bienvenido Alejandro!\n"
     ]
    }
   ],
   "source": [
    "usuario=input('Introduce tu nombre de usuario: ').replace('.', '').replace('#', '')\n",
    "usuario= usuario.strip().title()\n",
    "# Validación de usuario\n",
    "if usuario == 'Alejandro' or usuario== 'Naomi' or usuario == 'Sergio':\n",
    "    print(f'Bienvenido {usuario}!')\n",
    "else:\n",
    "    print(f'Bienvenido usuario invitado')\n"
   ]
  },
  {
   "cell_type": "markdown",
   "metadata": {},
   "source": [
    "Por motivos de seguridad una contraseña debe tener una vocal en minúscula, dos símbolos\n",
    "especiales diferentes (pueden ser solo * o #). Dada una contraseña ingresada por el usuario,\n",
    "comprueba si es una contraseña segura e indícalo por pantalla."
   ]
  },
  {
   "cell_type": "code",
   "execution_count": 11,
   "metadata": {},
   "outputs": [
    {
     "name": "stdout",
     "output_type": "stream",
     "text": [
      "Contraseña insegura, debe contener al menos una vocal y un símbolo especial (* o #)\n"
     ]
    }
   ],
   "source": [
    "contrasena=input('Introduce tu contraseña:')\n",
    "vocales= ['a', 'e', 'i', 'o', 'u']\n",
    "simbolos=['*','#']\n",
    "# Validación de contraseña\n",
    "if any(char in contrasena for char in vocales) and any(char in contrasena for char in simbolos):\n",
    "    print('Contraseña segura')\n",
    "else:\n",
    "    print('Contraseña insegura, debe contener al menos una vocal y un símbolo especial (* o #)')\n"
   ]
  },
  {
   "cell_type": "markdown",
   "metadata": {},
   "source": [
    "Crea un script que dado un número y una potencia compruebe si ese numero elevado a esa\n",
    "potencia es par o impar. (Pista: los números pares tiene resto = 0 al dividirlos por 2)"
   ]
  },
  {
   "cell_type": "code",
   "execution_count": 15,
   "metadata": {},
   "outputs": [
    {
     "name": "stdout",
     "output_type": "stream",
     "text": [
      "El resultado de 3 elevado a la 2 es 9 y es impar.\n"
     ]
    }
   ],
   "source": [
    "numero=int(input('Introduce un numero entero:'))\n",
    "potencia= int(input('Introduce la potencia:'))\n",
    "resultado= numero**potencia\n",
    "if resultado%2 == 0:\n",
    "    print(f'El resultado de {numero} elevado a la {potencia} es {resultado} y es par.')\n",
    "else:\n",
    "    print(f'El resultado de {numero} elevado a la {potencia} es {resultado} y es impar.')"
   ]
  },
  {
   "cell_type": "markdown",
   "metadata": {},
   "source": [
    "Escribir un programa que pida al usuario dos números y muestre por pantalla su división. Si el\n",
    "divisor es cero el programa debe mostrar un error."
   ]
  },
  {
   "cell_type": "code",
   "execution_count": 17,
   "metadata": {},
   "outputs": [
    {
     "name": "stdout",
     "output_type": "stream",
     "text": [
      "No se puede dividir por cero.\n"
     ]
    }
   ],
   "source": [
    "numero1=int(input('Introduce el primer numero:'))\n",
    "numero2=int(input('Introduce el segundo numero:'))\n",
    "if numero2 == 0:\n",
    "    print('No se puede dividir por cero.')\n",
    "else:\n",
    "    cociente= numero1 / numero2\n",
    "    print(f'El cociente de {numero1} y {numero2} es {cociente}.')"
   ]
  },
  {
   "cell_type": "markdown",
   "metadata": {},
   "source": [
    "Crea un script que pida una contraseña al usuario (el script sabe cual es la contraseña correcta).\n",
    "Si la contraseña es correcta el script debe darle la bienvenida al usuario. De lo contrario debe\n",
    "indicarle que la contraseña es incorrecta y darle una segunda oportunidad de introducir la\n",
    "contraseña. Al segundo fallo debe mostrar un mensaje de error y terminar de ejecutarse.\n",
    "Cambia el script para que no distinga entre mayúsculas y minúsculas."
   ]
  },
  {
   "cell_type": "code",
   "execution_count": 20,
   "metadata": {},
   "outputs": [
    {
     "name": "stdout",
     "output_type": "stream",
     "text": [
      "Contraseña incorrecta. Saliendo del programa...\n"
     ]
    }
   ],
   "source": [
    "contrasena=input('Introduce tu contraseña para finalizar: ').lower()\n",
    "if contrasena == 'fgn8485w':\n",
    "    print('Contraseña correcta. Saliendo del programa...')\n",
    "else:\n",
    "    contrasena=input('Introduce tu contraseña de nuevo: ').lower()\n",
    "    if contrasena == 'fgn8485w':\n",
    "        print('Contraseña correcta. Saliendo del programa...')\n",
    "    else:\n",
    "        print('Contraseña incorrecta. Saliendo del programa...')"
   ]
  },
  {
   "cell_type": "markdown",
   "metadata": {},
   "source": [
    "El gobierno quiere otorgar becas de excelencia a los estudiantes con un mínimo de un 8 de media.\n",
    "Además para acceder a la beca el estudiante debe tener entre 17 y 21 años. Crea un script que\n",
    "pida el nombre, la edad y la nota media del estudiante e indique si puede optar a la beca o no."
   ]
  },
  {
   "cell_type": "code",
   "execution_count": 26,
   "metadata": {},
   "outputs": [
    {
     "name": "stdout",
     "output_type": "stream",
     "text": [
      "Hola Fran, no has accedido a la beca de estudio\n"
     ]
    }
   ],
   "source": [
    "nombre=input('Introduce tu nombre: ')\n",
    "edad=int(input('Introduce tu edad: '))\n",
    "notaMedia=float(input('Introduce tu nota media: '))\n",
    "if (edad>16 or edad<22):\n",
    "    if notaMedia >= 8:\n",
    "        print(f'Hola {nombre}, has accedido a la beca de estudio')\n",
    "    else:\n",
    "        print(f'Hola {nombre}, no has accedido a la beca de estudio')\n",
    "else:\n",
    "    print(f'Hola {nombre}, no has accedido a la beca de estudio')"
   ]
  },
  {
   "cell_type": "markdown",
   "metadata": {},
   "source": [
    "Crea un script que pida al usuario 4 números diferentes y imprima el mayor de los cuatro por\n",
    "pantalla."
   ]
  },
  {
   "cell_type": "code",
   "execution_count": 2,
   "metadata": {},
   "outputs": [
    {
     "name": "stdout",
     "output_type": "stream",
     "text": [
      "El numero más alto es 133\n"
     ]
    }
   ],
   "source": [
    "numero1=int(input('Introduce el primer numero: '))\n",
    "numero2=int(input('Introduce el segundo numero: '))\n",
    "numero3=int(input('Introduce el tercer numero: '))\n",
    "numero4=int(input('Introduce el cuarto numero: '))\n",
    "if numero1>numero2 and numero1>numero3 and numero1>numero4:\n",
    "    print(f'El numero más alto es {numero1}')\n",
    "elif numero2>numero3 and numero2>numero4:\n",
    "    print(f'El numero más alto es {numero2}')\n",
    "elif numero3>numero4:\n",
    "    print(f'El numero más alto es {numero3}')\n",
    "else:\n",
    "    print(f'El numero más alto es {numero4}')\n"
   ]
  },
  {
   "cell_type": "markdown",
   "metadata": {},
   "source": [
    "Crea un script que pida al usuario 3 números diferentes y le indique si alguno de ellos es la suma\n",
    "de los otros dos."
   ]
  },
  {
   "cell_type": "code",
   "execution_count": 5,
   "metadata": {},
   "outputs": [
    {
     "name": "stdout",
     "output_type": "stream",
     "text": [
      "20 es la suma de 14 y 6\n"
     ]
    }
   ],
   "source": [
    "numero1=int(input('Introduce el primer numero: '))\n",
    "numero2=int(input('Introduce el segundo numero: '))\n",
    "numero3=int(input('Introduce el tercer numero: '))\n",
    "if numero1==numero2+numero3:\n",
    "    print(f'{numero1} es la suma de {numero2} y {numero3}')\n",
    "elif numero2==numero1+numero3:\n",
    "    print(f'{numero2} es la suma de {numero1} y {numero3}')\n",
    "elif numero3==numero1+numero2:\n",
    "    print(f'{numero3} es la suma de {numero1} y {numero2}')\n",
    "else:\n",
    "    print('No se cumple')\n"
   ]
  },
  {
   "cell_type": "markdown",
   "metadata": {},
   "source": [
    "Permite que el usuario introduzca una letra (del alfabeto latino) como input. Comprueba si esta es\n",
    "una mayúscula o una minúscula."
   ]
  },
  {
   "cell_type": "code",
   "execution_count": 7,
   "metadata": {},
   "outputs": [
    {
     "name": "stdout",
     "output_type": "stream",
     "text": [
      "la letra es mayuscula\n"
     ]
    }
   ],
   "source": [
    "letra=input('Introduce una letra del abecedario:')\n",
    "if letra.islower():\n",
    "    print('la letra es minuscula')\n",
    "else:\n",
    "    print('la letra es mayuscula')"
   ]
  },
  {
   "cell_type": "markdown",
   "metadata": {},
   "source": [
    "En uno de los cursos se ha dividido a una clase en dos grupos A y B. Para mezclar a los alumnos\n",
    "lo mejor posible se ha asignado a todas las chicas con nombres empezando por la letra E hasta la\n",
    "M en el grupo A y el resto en el B. A los chicos con nombres empezando por la letra A hasta la H y\n",
    "R hasta la Z se les ha asignado al grupo A también, el resto están en el B.\n",
    "Crea un script que pregunte al usuario si es chica o chico y el nombre. El script debe mostrar por\n",
    "pantalla el grupo que le corresponde a ese alumno."
   ]
  },
  {
   "cell_type": "code",
   "execution_count": 2,
   "metadata": {},
   "outputs": [
    {
     "name": "stdout",
     "output_type": "stream",
     "text": [
      "Alana pretenece al grupo B\n"
     ]
    }
   ],
   "source": [
    "sexoAlumno=input('Cual es tu sexo; hombre || mujer').lower()\n",
    "nombreAlumno=input('Cual es tu nombre').capitalize()\n",
    "if (sexoAlumno=='mujer'):\n",
    "    if nombreAlumno[0] in 'EFGHIJKLM':\n",
    "        print(f'{nombreAlumno} pretenece al grupo A')\n",
    "    else:\n",
    "        print(f'{nombreAlumno} pretenece al grupo B')\n",
    "else:\n",
    "    if nombreAlumno[0] in 'ABCDEFGHIJKLM' or nombreAlumno[0] in 'RSTOUVWXYZ':\n",
    "        print(f'{nombreAlumno} pertenece al grupo A')\n",
    "    else:\n",
    "        print(f'{nombreAlumno} pertenece al grupo B')\n"
   ]
  },
  {
   "cell_type": "markdown",
   "metadata": {},
   "source": [
    "Para tributar en un determinado país es necesario ser mayor de edad y cobrar más de 1000 euros\n",
    "al mes. Además los tramos impositivos de la renta anual son los siguientes:\n",
    "RENTA TIPO IMPOSITIVO\n",
    "Menos de 15.000 eu 5%\n",
    "Entre 15.000 y 25.000 eu 15%\n",
    "Entre 25.000 y 35.000 eu 20%\n",
    "Entre 35.000 y 60.000 eu 30%\n",
    "Más de 60.000 eu 45%\n",
    "Escribe un script que primero compruebe si eres susceptible de que se te aplique algún tipo\n",
    "impositivo y en caso afirmativo imprima por pantalla cuál te tocaría."
   ]
  },
  {
   "cell_type": "code",
   "execution_count": 6,
   "metadata": {},
   "outputs": [
    {
     "name": "stdout",
     "output_type": "stream",
     "text": [
      "Tienes que pagar un 45% de impuestos\n"
     ]
    }
   ],
   "source": [
    "edad=int(input('Introduce tu edad:'))\n",
    "ingresos=float(input('Introduce tus ingresos mensuales:'))\n",
    "if edad < 18 or ingresos<1000:\n",
    "    print('No tienes que pagar impuestos')\n",
    "else:\n",
    "    if (ingresos*12)<= 15000:\n",
    "        print(\"Tienes que pagar un 5% de impuestos\")\n",
    "    elif (ingresos*12)>15000 and (ingresos*12)<=25000:\n",
    "        print(\"Tienes que pagar un 15% de impuestos\")\n",
    "    elif (ingresos*12)>25000 and (ingresos*12)<=35000:\n",
    "        print(\"Tienes que pagar un 20% de impuestos\")\n",
    "    elif (ingresos*12)>35000 and (ingresos*12)<=60000:\n",
    "        print(\"Tienes que pagar un 30% de impuestos\")\n",
    "    else:\n",
    "        print(\"Tienes que pagar un 45% de impuestos\")"
   ]
  },
  {
   "cell_type": "markdown",
   "metadata": {},
   "source": [
    "En una hamburguesería han abierto la posibilidad de hacer pedidos online. Ofrecen básicamente\n",
    "dos productos de fama mundial: su hamburguesa clásica y la hamburguesa vegana.\n",
    "Los ingredientes extra de la hamburguesa clásica son:\n",
    "- Queso Idiazabal\n",
    "- Bacon\n",
    "- Huevo\n",
    "Los ingredientes extra de la hamburguesa vegana son:\n",
    "- Tofu\n",
    "- Cebolla caramelizada\n",
    "Crea un script que le pregunte al usuario que tipo de hamburguesa quiere. En función de la\n",
    "respuesta debe enseñarle los ingredientes extra disponibles y permitirle escoger uno de ellos.\n",
    "Finalmente debe imprimir por pantalla que tipo de hamburguesa se ha elegido y cuales son sus\n",
    "ingredientes."
   ]
  },
  {
   "cell_type": "code",
   "execution_count": 9,
   "metadata": {},
   "outputs": [
    {
     "name": "stdout",
     "output_type": "stream",
     "text": [
      "Has elegido una hamburguesa clásica con Bacon\n"
     ]
    }
   ],
   "source": [
    "tipoHamburguesa=input('Elige entre dos tipos de hamburguesa: clasica || vegetariana').lower().strip()\n",
    "if tipoHamburguesa == 'clasica':\n",
    "    ingredientesExtra = input('Ingredientes extra: Queso Idiazabal || Bacon || Huevo')\n",
    "    print(f'Has elegido una hamburguesa clásica con {ingredientesExtra}')\n",
    "else:\n",
    "    ingredientesExtra = input('Ingredientes extra: Tofu || Cebolla Caramelizada')\n",
    "    print(f'Has elegido una hamburguesa vegetariana con {ingredientesExtra}')"
   ]
  }
 ],
 "metadata": {
  "kernelspec": {
   "display_name": "practica_python",
   "language": "python",
   "name": "python3"
  },
  "language_info": {
   "codemirror_mode": {
    "name": "ipython",
    "version": 3
   },
   "file_extension": ".py",
   "mimetype": "text/x-python",
   "name": "python",
   "nbconvert_exporter": "python",
   "pygments_lexer": "ipython3",
   "version": "3.13.5"
  }
 },
 "nbformat": 4,
 "nbformat_minor": 2
}
