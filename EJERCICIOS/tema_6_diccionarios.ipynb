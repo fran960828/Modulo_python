{
 "cells": [
  {
   "cell_type": "markdown",
   "id": "3a3c495c",
   "metadata": {},
   "source": [
    "1. Crea un diccionario vacío llamado “mi_diccionario”.\n",
    " 2. Agrega un par clave-valor a \"mi_diccionario\" donde la clave sea \"nombre\" y el valor \n",
    "sea tu nombre. \n",
    "3. Accede e imprime el valor asociado con la clave \"nombre\" en “mi_diccionario\".  \n",
    "4. Verifica si la clave \"edad\" existe en \"mi_diccionario\". Imprime \"True\" si existe y \"False\" \n",
    "en caso contrario. "
   ]
  },
  {
   "cell_type": "code",
   "execution_count": 4,
   "id": "d78741dd",
   "metadata": {},
   "outputs": [
    {
     "name": "stdout",
     "output_type": "stream",
     "text": [
      "False\n"
     ]
    }
   ],
   "source": [
    "mi_diccionario=dict()\n",
    "mi_diccionario['nombre']='Fran'\n",
    "mi_diccionario['nombre']\n",
    "if mi_diccionario.get('edad'):\n",
    "    print('True')\n",
    "else:\n",
    "    print('False')"
   ]
  },
  {
   "cell_type": "markdown",
   "id": "4f3932a7",
   "metadata": {},
   "source": [
    "5. Crea un diccionario llamado \"estudiante\" con los siguientes pares clave-valor: \n",
    "\"nombre\" con el nombre del alumno, \"edad\" con su edad y \"materia\" con su materia \n",
    "favorita. \n",
    "6. Actualiza el valor de la clave \"edad\" en el diccionario \"estudiante\" para reflejar la edad \n",
    "actual de tu amigo. \n",
    "7. Elimina el par clave-valor con la clave \"materia\" del diccionario “estudiante\". \n",
    "8. Imprime todas las claves en el diccionario “estudiante\"."
   ]
  },
  {
   "cell_type": "code",
   "execution_count": 5,
   "id": "362730e0",
   "metadata": {},
   "outputs": [
    {
     "name": "stdout",
     "output_type": "stream",
     "text": [
      "nombre\n",
      "edad\n"
     ]
    }
   ],
   "source": [
    "estudiante={'nombre':'Fran','edad':30,'curso':'Python'}\n",
    "estudiante['edad']=29\n",
    "del estudiante['curso']\n",
    "for keys in estudiante.keys():\n",
    "    print(keys)"
   ]
  },
  {
   "cell_type": "markdown",
   "id": "7013213f",
   "metadata": {},
   "source": [
    "9. Crea un diccionario llamado \"agenda\" con tres entradas: \"Juan\" con el valor \n",
    "\"1234567890\", \"Joana\" con el valor \"9876543210\" y \"Jimena\" con el valor \n",
    "“5555555555”. \n",
    "10. Agrega una nueva entrada al diccionario \"agenda\" con la clave \"Julio\" y el valor \n",
    "“9998887777\". \n",
    "11. Imprime el número de entradas (pares clave-valor) en el diccionario “agenda\". \n",
    "12. Crea una lista llamada \"claves\" que contenga todas las claves del diccionario \n",
    "“agenda\". "
   ]
  },
  {
   "cell_type": "code",
   "execution_count": 7,
   "id": "f4e7bc99",
   "metadata": {},
   "outputs": [
    {
     "name": "stdout",
     "output_type": "stream",
     "text": [
      "El teléfono de Ana es 123456789\n",
      "El teléfono de Luis es 987654321\n",
      "El teléfono de Pedro es 456789123\n",
      "El teléfono de Julio es 321545678\n",
      "['Ana', 'Luis', 'Pedro', 'Julio']\n"
     ]
    }
   ],
   "source": [
    "agenda={'Ana':123456789,'Luis':987654321,'Pedro':456789123}\n",
    "agenda['Julio']=321545678\n",
    "for keys,values in agenda.items():\n",
    "    print(f'El teléfono de {keys} es {values}')\n",
    "claves=list(agenda.keys())\n",
    "print(claves)"
   ]
  },
  {
   "cell_type": "markdown",
   "id": "5e125415",
   "metadata": {},
   "source": [
    "16. Utiliza el método \"get()\" para obtener el valor asociado con la clave \"Juan\" en el \n",
    "diccionario \"agenda\". Si la clave no existe, imprime \"Clave no encontrada”.\n",
    " 17. Borra todas las entradas del diccionario “agenda”."
   ]
  },
  {
   "cell_type": "code",
   "execution_count": 10,
   "id": "5a123ebd",
   "metadata": {},
   "outputs": [
    {
     "data": {
      "text/plain": [
       "{}"
      ]
     },
     "execution_count": 10,
     "metadata": {},
     "output_type": "execute_result"
    }
   ],
   "source": [
    "agenda.get('Juan', 'Clave no encontrada')\n",
    "agenda.clear()\n",
    "agenda"
   ]
  },
  {
   "cell_type": "markdown",
   "id": "7bfc30bc",
   "metadata": {},
   "source": [
    "18. Crea una lista llamada \"estudiantes\" que contenga dos diccionarios. Cada diccionario \n",
    "representa a un estudiante y tiene las claves \"nombre\" y \"edad\" con sus respectivos \n",
    "valores. Recorre la lista e imprime el nombre y edad de cada estudiante. \n",
    "19. Agrega un nuevo estudiante a la lista \"estudiantes\" utilizando un diccionario con las \n",
    "mismas claves \"nombre\" y \"edad\". Imprime la lista actualizada. \n",
    "20. Elimina el segundo estudiante de la lista \"estudiantes\". Imprime la lista actualizada.\n",
    "21. Actualiza la edad del primer estudiante en la lista \"estudiantes\" a un nuevo valor. \n",
    "Imprime la lista actualizada. "
   ]
  },
  {
   "cell_type": "code",
   "execution_count": 16,
   "id": "3fd59cfd",
   "metadata": {},
   "outputs": [
    {
     "name": "stdout",
     "output_type": "stream",
     "text": [
      "el estudiante Ana tiene 24 años\n",
      "el estudiante Fran tiene 29 años\n"
     ]
    }
   ],
   "source": [
    "estudiantes=[{'nombre':'Ana','edad':20},{'nombre':'Luis','edad':22}]\n",
    "estudiantes.append({'nombre':'Fran','edad':29})\n",
    "del estudiantes[1]\n",
    "estudiantes[0]['edad']=24\n",
    "for estudiante in estudiantes:\n",
    "    print(f'el estudiante {estudiante['nombre']} tiene {estudiante['edad']} años')\n",
    "\n"
   ]
  },
  {
   "cell_type": "markdown",
   "id": "04f46b9e",
   "metadata": {},
   "source": [
    "22. Crea un diccionario llamado \"productos\" que contenga dos entradas. Cada entrada \n",
    "representa un producto y tiene a su vez las claves \"nombre\" y \"precio\" con sus \n",
    "respectivos valores. Recorre el diccionario e imprime el nombre y precio de cada \n",
    "producto.\n",
    " 23. Agrega un nuevo producto al diccionario \"productos\" utilizando una nueva clave y \n",
    "valor. Imprime el diccionario actualizado.\n",
    " 24. Crea un diccionario llamado \"equipos\" que contenga tres entradas. Cada entrada \n",
    "representa un equipo deportivo y tiene las claves \"nombre\" y \"jugadores\" con sus \n",
    "respectivos valores. Los valores de \"jugadores\" deben ser listas con los nombres de \n",
    "los jugadores. Recorre el diccionario e imprime el nombre del equipo y la lista de \n",
    "jugadores. \n",
    "25. Agrega un nuevo equipo al diccionario \"equipos\" utilizando una nueva clave y valor. \n",
    "La lista de jugadores debe contener al menos tres nombres. Imprime el diccionario \n",
    "actualizado.\n",
    " 26. Actualiza la lista de jugadores de uno de los equipos existentes en el diccionario \n",
    "\"equipos\". Agrega un nuevo jugador a la lista. Imprime el diccionario actualizado."
   ]
  },
  {
   "cell_type": "code",
   "execution_count": 19,
   "id": "67860eef",
   "metadata": {},
   "outputs": [],
   "source": [
    "productos={\n",
    "    'producto1':{'nombre':'vino','precio':3},\n",
    "    'producto2':{'nombre':'aceite','precio':15},\n",
    "}\n",
    "productos['producto3']={'nombre':'almendra','precio':1.5}"
   ]
  },
  {
   "cell_type": "code",
   "execution_count": 21,
   "id": "b1613b26",
   "metadata": {},
   "outputs": [
    {
     "name": "stdout",
     "output_type": "stream",
     "text": [
      "el equipo Real Madrid tiene los jugadores Ramos, Benzema, Modric, Hazard\n",
      "el equipo Barcelona tiene los jugadores Messi, Pique, Busquets\n",
      "el equipo Atletico de Madrid tiene los jugadores Oblak, Griezmann, Koke\n",
      "el equipo Sevilla tiene los jugadores Navas, En-Nesyri, Rakitic\n"
     ]
    }
   ],
   "source": [
    "equipos={\n",
    "    'equipo1':{'nombre':'Real Madrid','jugadores':['Ramos','Benzema','Modric']},\n",
    "    'equipo2':{'nombre':'Barcelona','jugadores':['Messi','Pique','Busquets']},\n",
    "    'equipo3':{'nombre':'Atletico de Madrid','jugadores':['Oblak','Griezmann','Koke']}\n",
    "}\n",
    "equipos['equipo4']={'nombre':'Sevilla','jugadores':['Navas','En-Nesyri','Rakitic']}\n",
    "equipos['equipo1']['jugadores'].append('Hazard')\n",
    "for equipo, info in equipos.items():\n",
    "    print(f'el equipo {info['nombre']} tiene los jugadores {', '.join(info['jugadores'])}')"
   ]
  }
 ],
 "metadata": {
  "kernelspec": {
   "display_name": "trabajo",
   "language": "python",
   "name": "python3"
  },
  "language_info": {
   "codemirror_mode": {
    "name": "ipython",
    "version": 3
   },
   "file_extension": ".py",
   "mimetype": "text/x-python",
   "name": "python",
   "nbconvert_exporter": "python",
   "pygments_lexer": "ipython3",
   "version": "3.12.9"
  }
 },
 "nbformat": 4,
 "nbformat_minor": 5
}
