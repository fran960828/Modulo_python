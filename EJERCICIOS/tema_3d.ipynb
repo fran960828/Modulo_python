{
 "cells": [
  {
   "cell_type": "markdown",
   "metadata": {},
   "source": [
    "ANALISIS DE VENTAS:\n",
    "Supongamos que eres el propietario de una tienda en línea y tienes una lista de ventas de los\n",
    "últimos 30 días. Quieres analizar las ventas por día de la semana para identificar los días de mayor\n",
    "venta.\n",
    "Pista 1: Puedes crear dos listas, una con las ventas por cada día del mes como por ejemplo…\n",
    "ventas = [120, 80, 140, 200, 75, 100, 180, 220, 160, 110, 90, 120, 170, 190, 250, 300, 95, 110,\n",
    "140, 180, 200, 160, 120, 80, 170, 150, 210, 190, 230, 250]\n",
    "Y otra lista con los días de la semana:\n",
    "dias_semana = [\"Lunes\", \"Martes\", \"Miércoles\", \"Jueves\", \"Viernes\", \"Sábado\", „Domingo“]\n",
    "Después puedes crear una nueva lista con una entrada por cada día de la semana y usar un bucle\n",
    "para añadir a esta lista la suma de las ventas correspondientes a cada uno de los días de la\n",
    "semana.\n",
    "Pista 2: Puede que necesites una variable que lleve la cuenta del día de la semana actual y se\n",
    "reinicie a cero cuando llegue al séptimo día."
   ]
  },
  {
   "cell_type": "code",
   "execution_count": 2,
   "metadata": {},
   "outputs": [
    {
     "data": {
      "text/plain": [
       "{'Lunes': 980,\n",
       " 'Martes': 910,\n",
       " 'Miércoles': 425,\n",
       " 'Jueves': 570,\n",
       " 'Viernes': 485,\n",
       " 'Sábado': 660,\n",
       " 'Domingo': 760}"
      ]
     },
     "execution_count": 2,
     "metadata": {},
     "output_type": "execute_result"
    }
   ],
   "source": [
    "listaVentas=[120, 80, 140, 200, 75, 100, 180, 220, 160, 110, 90, 120, 170, 190, 250, 300, 95, 110,\n",
    "140, 180, 200, 160, 120, 80, 170, 150, 210, 190, 230, 250]\n",
    "listaDias=[\"Lunes\", \"Martes\", \"Miércoles\", \"Jueves\", \"Viernes\", \"Sábado\", \"Domingo\"]\n",
    "listaUnion={dia: 0 for dia in listaDias}\n",
    "for j in range(0,len(listaDias)):\n",
    "    for i in range(j,len(listaVentas),7):\n",
    "        listaUnion[listaDias[j]]+=listaVentas[i]\n",
    "listaUnion\n"
   ]
  },
  {
   "cell_type": "markdown",
   "metadata": {},
   "source": [
    "Pista 1: Puedes crear dos listas, una con los nombre de usuario como por ejemplo…\n",
    "nombres_usuario = [\"juan123\", \"ana456\", „pedro789\"]\n",
    "Y otra lista con las contraseñas guardadas para cada usuario…\n",
    "contraseñas = [\"clave123\", \"clave456\", „clave789\"]\n",
    "Otra opción puede ser que crees una lista de listas con la forma:\n",
    "nombres_contraseñas = [ [\"juan123“,\"clave123\"] , [\"ana456“,“clave456“] , [\"pedro789“,\n",
    "\"clave789“] ]\n",
    "Despues puedes pedir el usuario y contraseña y comprobar si coinciden.\n",
    "Pista 2: Para verificar si el usuario y contraseña son correctos puedes crear un bucle donde\n",
    "recorras los nombres de usuario y compruebes con un if si el nombre de usuario introducido y la\n",
    "contraseña coinciden con los datos de tus listas."
   ]
  },
  {
   "cell_type": "code",
   "execution_count": 6,
   "metadata": {},
   "outputs": [
    {
     "name": "stdout",
     "output_type": "stream",
     "text": [
      "Has fallado\n"
     ]
    }
   ],
   "source": [
    "nombres_usuario = [\"juan123\", \"ana456\", \"pedro789\"]\n",
    "contrasenas = [\"clave123\", \"clave456\", \"clave789\"]\n",
    "usuario=input('Introduce el nombre del usuario')\n",
    "contrasena=input('Introduce la contraseña')\n",
    "escorrecto=False\n",
    "for i in range(0,len(nombres_usuario)):\n",
    "    if (usuario==nombres_usuario[i] and contrasena==contrasenas[i]):\n",
    "        escorrecto=True\n",
    "if escorrecto==True:\n",
    "    print('Iniciando Sesion')\n",
    "else:\n",
    "    print('Has fallado')\n",
    "\n"
   ]
  },
  {
   "cell_type": "markdown",
   "metadata": {},
   "source": [
    "Crea un script que dada una lista de listas M (numérica), identifique si se trata de una matriz y en\n",
    "ese caso imprima dos listas correspondientes a:\n",
    "1. 2. La fila cuyos elementos suman el máximo\n",
    "La columna cuyos elementos suman el máximo\n",
    "Si no se trata de una matriz devolverá dos listas vacías.\n",
    "Por ejemplo:\n",
    "M1=[[2,5,3],[6,1,8],[7,5,4]] devolverá: L1 = [7,5,4] y L2 = [2,6,9,7]\n",
    "M2 = [[4,2,3],[4,5],[6,8,2]] devolverá: L1 = [] y L2 = []"
   ]
  },
  {
   "cell_type": "code",
   "execution_count": 12,
   "metadata": {},
   "outputs": [],
   "source": [
    "def comprobarMatriz(matriz):\n",
    "    longitud=len(matriz[0])\n",
    "    esmatriz=True\n",
    "    for i in range(0,len(matriz)):\n",
    "        if (longitud!=len(matriz[i])):\n",
    "            esmatriz=False\n",
    "            break\n",
    "    return esmatriz\n",
    "            \n"
   ]
  },
  {
   "cell_type": "code",
   "execution_count": 17,
   "metadata": {},
   "outputs": [],
   "source": [
    "def obtenerFilaMayor(matriz):\n",
    "    suma=0\n",
    "    indice=0\n",
    "    for i in range(0,len(matriz)):\n",
    "        if suma<sum(matriz[i]):\n",
    "            suma=sum(matriz[i])\n",
    "            indice=i\n",
    "    return matriz[i]"
   ]
  },
  {
   "cell_type": "code",
   "execution_count": 29,
   "metadata": {},
   "outputs": [],
   "source": [
    "def transponerMatriz(matriz):\n",
    "    matrizTraspuesta=[[],[],[]]\n",
    "    for i in range(0,len(matriz)):\n",
    "        for j in range(0,len(matriz[i])):\n",
    "            matrizTraspuesta[i].append(matriz[j][i])\n",
    "    return matrizTraspuesta\n",
    "\n",
    "\n"
   ]
  },
  {
   "cell_type": "code",
   "execution_count": 31,
   "metadata": {},
   "outputs": [
    {
     "name": "stdout",
     "output_type": "stream",
     "text": [
      "[7, 5, 4]\n",
      "[3, 8, 4]\n"
     ]
    }
   ],
   "source": [
    "M1=[[2,5,3],[6,1,8],[7,5,4]]\n",
    "M2 = [[4,2,3],[4,5],[6,8,2]]\n",
    "esmatriz=comprobarMatriz(M1)\n",
    "if esmatriz:\n",
    "    filaMayor=obtenerFilaMayor(M1)\n",
    "    print(filaMayor)\n",
    "    matrizTraspuesta=transponerMatriz(M1)\n",
    "    columnaMayor=obtenerFilaMayor(matrizTraspuesta)\n",
    "    print(columnaMayor)"
   ]
  },
  {
   "cell_type": "markdown",
   "metadata": {},
   "source": [
    "Desarrolla un script en Python que dado una cadena de caracteres con la siguiente información:\n",
    "nombre, apellido, DNI, código_asignatura, convocatoria, nota1, nota2, nota3 … Por ejemplo:\n",
    "David Fernandez 12311267A 43527 2 2.1 4.6 3.4. El script debe crear una lista con esos datos,\n",
    "introducirlo en una lista de listas donde se encuentra la información de todos los alumnos e\n",
    "imprimir la nota media de los alumnos junto con el DNI.\n",
    "Supón ahora que tu input es un string como este:\n",
    "‘’'David Fernandez 12311267A 43527 2 9.1 7.6 2.4\\n\n",
    "Maria Garcia 12316487A 43527 2 7.1 8.6 5.4\\n\n",
    "Juan Perez 647829236A 43527 2 8.1 8.5 8.4\\n’’\n",
    "Reescribe el script para que procese ese input adecuadamente e imprima la nota media y el DNI\n",
    "de todos los alumnos en ese string."
   ]
  },
  {
   "cell_type": "code",
   "execution_count": 33,
   "metadata": {},
   "outputs": [],
   "source": [
    "alumnos='''David Fernandez 12311267A 43527 2 9.1 7.6 2.4\\n\n",
    "Maria Garcia 12316487A 43527 2 7.1 8.6 5.4\\n\n",
    "Juan Perez 647829236A 43527 2 8.1 8.5 8.4\\n'''"
   ]
  },
  {
   "cell_type": "code",
   "execution_count": 35,
   "metadata": {},
   "outputs": [
    {
     "data": {
      "text/plain": [
       "['David Fernandez 12311267A 43527 2 9.1 7.6 2.4',\n",
       " 'Maria Garcia 12316487A 43527 2 7.1 8.6 5.4',\n",
       " 'Juan Perez 647829236A 43527 2 8.1 8.5 8.4']"
      ]
     },
     "execution_count": 35,
     "metadata": {},
     "output_type": "execute_result"
    }
   ],
   "source": [
    "listaAlumnos=alumnos.split('\\n')\n",
    "listaAlumnos=[alumno for alumno in listaAlumnos if alumno!='']\n",
    "listaAlumnos"
   ]
  },
  {
   "cell_type": "code",
   "execution_count": 37,
   "metadata": {},
   "outputs": [
    {
     "name": "stdout",
     "output_type": "stream",
     "text": [
      "[['David', 'Fernandez', '12311267A', '43527', '2', '9.1', '7.6', '2.4'], ['Maria', 'Garcia', '12316487A', '43527', '2', '7.1', '8.6', '5.4'], ['Juan', 'Perez', '647829236A', '43527', '2', '8.1', '8.5', '8.4']]\n"
     ]
    }
   ],
   "source": [
    "arrayAlumnos=[]\n",
    "for i in range(0,len(listaAlumnos)):\n",
    "    arrayAlumnos.append(listaAlumnos[i].split(' '))\n",
    "print(arrayAlumnos)"
   ]
  },
  {
   "cell_type": "code",
   "execution_count": 39,
   "metadata": {},
   "outputs": [
    {
     "name": "stdout",
     "output_type": "stream",
     "text": [
      "el alumno con DNI 12311267A tiene una nota media de 6.366666666666666\n",
      "el alumno con DNI 12316487A tiene una nota media de 7.033333333333334\n",
      "el alumno con DNI 647829236A tiene una nota media de 8.333333333333334\n"
     ]
    }
   ],
   "source": [
    "medias=[]\n",
    "for alumno in arrayAlumnos:\n",
    "    suma=0\n",
    "    for i in range(5,len(alumno)):\n",
    "        suma+=float(alumno[i])\n",
    "    media=suma/(len(alumno)-5)\n",
    "    medias.append([alumno[2],media])\n",
    "for nota in medias:\n",
    "    print(f'el alumno con DNI {nota[0]} tiene una nota media de {nota[1]}')\n"
   ]
  }
 ],
 "metadata": {
  "kernelspec": {
   "display_name": "practica_python",
   "language": "python",
   "name": "python3"
  },
  "language_info": {
   "codemirror_mode": {
    "name": "ipython",
    "version": 3
   },
   "file_extension": ".py",
   "mimetype": "text/x-python",
   "name": "python",
   "nbconvert_exporter": "python",
   "pygments_lexer": "ipython3",
   "version": "3.13.5"
  }
 },
 "nbformat": 4,
 "nbformat_minor": 2
}
