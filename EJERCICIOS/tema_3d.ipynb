{
 "cells": [
  {
   "cell_type": "markdown",
   "metadata": {},
   "source": [
    "ANALISIS DE VENTAS:\n",
    "Supongamos que eres el propietario de una tienda en línea y tienes una lista de ventas de los\n",
    "últimos 30 días. Quieres analizar las ventas por día de la semana para identificar los días de mayor\n",
    "venta.\n",
    "Pista 1: Puedes crear dos listas, una con las ventas por cada día del mes como por ejemplo…\n",
    "ventas = [120, 80, 140, 200, 75, 100, 180, 220, 160, 110, 90, 120, 170, 190, 250, 300, 95, 110,\n",
    "140, 180, 200, 160, 120, 80, 170, 150, 210, 190, 230, 250]\n",
    "Y otra lista con los días de la semana:\n",
    "dias_semana = [\"Lunes\", \"Martes\", \"Miércoles\", \"Jueves\", \"Viernes\", \"Sábado\", „Domingo“]\n",
    "Después puedes crear una nueva lista con una entrada por cada día de la semana y usar un bucle\n",
    "para añadir a esta lista la suma de las ventas correspondientes a cada uno de los días de la\n",
    "semana.\n",
    "Pista 2: Puede que necesites una variable que lleve la cuenta del día de la semana actual y se\n",
    "reinicie a cero cuando llegue al séptimo día."
   ]
  },
  {
   "cell_type": "code",
   "execution_count": 2,
   "metadata": {},
   "outputs": [
    {
     "data": {
      "text/plain": [
       "{'Lunes': 980,\n",
       " 'Martes': 910,\n",
       " 'Miércoles': 425,\n",
       " 'Jueves': 570,\n",
       " 'Viernes': 485,\n",
       " 'Sábado': 660,\n",
       " 'Domingo': 760}"
      ]
     },
     "execution_count": 2,
     "metadata": {},
     "output_type": "execute_result"
    }
   ],
   "source": [
    "listaVentas=[120, 80, 140, 200, 75, 100, 180, 220, 160, 110, 90, 120, 170, 190, 250, 300, 95, 110,\n",
    "140, 180, 200, 160, 120, 80, 170, 150, 210, 190, 230, 250]\n",
    "listaDias=[\"Lunes\", \"Martes\", \"Miércoles\", \"Jueves\", \"Viernes\", \"Sábado\", \"Domingo\"]\n",
    "listaUnion={dia: 0 for dia in listaDias}\n",
    "for j in range(0,len(listaDias)):\n",
    "    for i in range(j,len(listaVentas),7):\n",
    "        listaUnion[listaDias[j]]+=listaVentas[i]\n",
    "listaUnion\n"
   ]
  },
  {
   "cell_type": "markdown",
   "metadata": {},
   "source": [
    "Pista 1: Puedes crear dos listas, una con los nombre de usuario como por ejemplo…\n",
    "nombres_usuario = [\"juan123\", \"ana456\", „pedro789\"]\n",
    "Y otra lista con las contraseñas guardadas para cada usuario…\n",
    "contraseñas = [\"clave123\", \"clave456\", „clave789\"]\n",
    "Otra opción puede ser que crees una lista de listas con la forma:\n",
    "nombres_contraseñas = [ [\"juan123“,\"clave123\"] , [\"ana456“,“clave456“] , [\"pedro789“,\n",
    "\"clave789“] ]\n",
    "Despues puedes pedir el usuario y contraseña y comprobar si coinciden.\n",
    "Pista 2: Para verificar si el usuario y contraseña son correctos puedes crear un bucle donde\n",
    "recorras los nombres de usuario y compruebes con un if si el nombre de usuario introducido y la\n",
    "contraseña coinciden con los datos de tus listas."
   ]
  },
  {
   "cell_type": "code",
   "execution_count": 6,
   "metadata": {},
   "outputs": [
    {
     "name": "stdout",
     "output_type": "stream",
     "text": [
      "Has fallado\n"
     ]
    }
   ],
   "source": [
    "nombres_usuario = [\"juan123\", \"ana456\", \"pedro789\"]\n",
    "contrasenas = [\"clave123\", \"clave456\", \"clave789\"]\n",
    "usuario=input('Introduce el nombre del usuario')\n",
    "contrasena=input('Introduce la contraseña')\n",
    "escorrecto=False\n",
    "for i in range(0,len(nombres_usuario)):\n",
    "    if (usuario==nombres_usuario[i] and contrasena==contrasenas[i]):\n",
    "        escorrecto=True\n",
    "if escorrecto==True:\n",
    "    print('Iniciando Sesion')\n",
    "else:\n",
    "    print('Has fallado')\n",
    "\n"
   ]
  }
 ],
 "metadata": {
  "kernelspec": {
   "display_name": "practica_python",
   "language": "python",
   "name": "python3"
  },
  "language_info": {
   "codemirror_mode": {
    "name": "ipython",
    "version": 3
   },
   "file_extension": ".py",
   "mimetype": "text/x-python",
   "name": "python",
   "nbconvert_exporter": "python",
   "pygments_lexer": "ipython3",
   "version": "3.13.5"
  }
 },
 "nbformat": 4,
 "nbformat_minor": 2
}
