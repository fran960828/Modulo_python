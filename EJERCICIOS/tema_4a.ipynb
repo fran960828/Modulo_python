{
 "cells": [
  {
   "cell_type": "markdown",
   "metadata": {},
   "source": [
    "Crea un array_1 lleno ceros con una longitud de 8 elementos.\n",
    "Haz que todos los elementos de este array sean igual a 2\n",
    "Crea un array_2 que contenga todos los números pares del 1 al 10.\n",
    "Suma todos los elementos del array_2 usando un bucle y después usando un método\n",
    "de numpy. Compara los resultados\n",
    "Revierte array_2 y guárdalo en una variable independiente.\n",
    "Encuentra los elementos comunes entre array_1 y array_2 y entre array_2 y\n",
    "array_2_revertido\n",
    "(Pista: Investiga el uso de intersect1d() de numpy)\n",
    "Crea un arrays lleno de 1s con una longitud dada por el usuario"
   ]
  },
  {
   "cell_type": "code",
   "execution_count": 2,
   "metadata": {},
   "outputs": [],
   "source": [
    "import numpy as np"
   ]
  },
  {
   "cell_type": "code",
   "execution_count": 3,
   "metadata": {},
   "outputs": [
    {
     "data": {
      "text/plain": [
       "array([0., 0., 0., 0., 0., 0., 0., 0.])"
      ]
     },
     "execution_count": 3,
     "metadata": {},
     "output_type": "execute_result"
    }
   ],
   "source": [
    "array=np.zeros(8)\n",
    "array"
   ]
  },
  {
   "cell_type": "code",
   "execution_count": 4,
   "metadata": {},
   "outputs": [
    {
     "data": {
      "text/plain": [
       "array([2., 2., 2., 2., 2., 2., 2., 2.])"
      ]
     },
     "execution_count": 4,
     "metadata": {},
     "output_type": "execute_result"
    }
   ],
   "source": [
    "array[:]=2\n",
    "array"
   ]
  },
  {
   "cell_type": "code",
   "execution_count": 6,
   "metadata": {},
   "outputs": [
    {
     "data": {
      "text/plain": [
       "array([2, 4, 6, 8])"
      ]
     },
     "execution_count": 6,
     "metadata": {},
     "output_type": "execute_result"
    }
   ],
   "source": [
    "array2=np.arange(2,10,2)\n",
    "array2"
   ]
  },
  {
   "cell_type": "code",
   "execution_count": 9,
   "metadata": {},
   "outputs": [
    {
     "data": {
      "text/plain": [
       "np.int64(20)"
      ]
     },
     "execution_count": 9,
     "metadata": {},
     "output_type": "execute_result"
    }
   ],
   "source": [
    "suma=0\n",
    "for numero in array2:\n",
    "    suma+=numero\n",
    "sumanp=sum(array2)\n",
    "sumanp"
   ]
  },
  {
   "cell_type": "code",
   "execution_count": 10,
   "metadata": {},
   "outputs": [
    {
     "data": {
      "text/plain": [
       "array([8, 6, 4, 2])"
      ]
     },
     "execution_count": 10,
     "metadata": {},
     "output_type": "execute_result"
    }
   ],
   "source": [
    "arrayRevertido=array2[::-1]\n",
    "arrayRevertido"
   ]
  },
  {
   "cell_type": "code",
   "execution_count": 15,
   "metadata": {},
   "outputs": [
    {
     "name": "stdout",
     "output_type": "stream",
     "text": [
      "[2 4 6 8]\n",
      "[0 1 2 3]\n",
      "[3 2 1 0]\n"
     ]
    }
   ],
   "source": [
    "interseccion,indices_a,indices_b=np.intersect1d(arrayRevertido,array2,return_indices=True)\n",
    "print(interseccion)\n",
    "print(indices_b)\n",
    "print(indices_a)"
   ]
  },
  {
   "cell_type": "code",
   "execution_count": 16,
   "metadata": {},
   "outputs": [
    {
     "data": {
      "text/plain": [
       "array([1., 1., 1., 1., 1.])"
      ]
     },
     "execution_count": 16,
     "metadata": {},
     "output_type": "execute_result"
    }
   ],
   "source": [
    "longitud=int(input('Introduce la longitud del array'))\n",
    "arrayone=np.ones(longitud)\n",
    "arrayone"
   ]
  },
  {
   "cell_type": "markdown",
   "metadata": {},
   "source": [
    "Crea un array con 15 números enteros aleatorios entre 1 y 100\n",
    "Multiplica todos los elementos del array usando un bucle y después usando un\n",
    "método de numpy. Compara los resultados\n"
   ]
  },
  {
   "cell_type": "code",
   "execution_count": 16,
   "metadata": {},
   "outputs": [
    {
     "data": {
      "text/plain": [
       "array([11, 97, 82, 43, 87, 68, 60, 41, 81,  9, 75, 11, 84, 55, 50])"
      ]
     },
     "execution_count": 16,
     "metadata": {},
     "output_type": "execute_result"
    }
   ],
   "source": [
    "arrayRandom=np.random.randint(1,101,size=15)\n",
    "arrayRandom"
   ]
  },
  {
   "cell_type": "code",
   "execution_count": 6,
   "metadata": {},
   "outputs": [
    {
     "data": {
      "text/plain": [
       "np.int64(1403136)"
      ]
     },
     "execution_count": 6,
     "metadata": {},
     "output_type": "execute_result"
    }
   ],
   "source": [
    "resultado=1\n",
    "for numero in arrayRandom:\n",
    "    resultado*=numero\n",
    "resultado"
   ]
  },
  {
   "cell_type": "code",
   "execution_count": 7,
   "metadata": {},
   "outputs": [
    {
     "data": {
      "text/plain": [
       "np.int64(1403136)"
      ]
     },
     "execution_count": 7,
     "metadata": {},
     "output_type": "execute_result"
    }
   ],
   "source": [
    "resultadoArray=np.prod(arrayRandom)\n",
    "resultado"
   ]
  },
  {
   "cell_type": "markdown",
   "metadata": {},
   "source": [
    "Crea otro array con 15 números decimales aleatorios entre 0 y 1\n",
    "Suma los elementos de ambos arrays elementos por elemento. Resuélvelo usando un\n",
    "operador y después con una función de numpy\n",
    "(Pista: busca en google que función de numpy hace esto)\n",
    "Ahora réstalos. Resuélvelo usando un operador y después con una función de numpy\n",
    "(Pista: busca en google que función de numpy hace esto)"
   ]
  },
  {
   "cell_type": "code",
   "execution_count": null,
   "metadata": {},
   "outputs": [
    {
     "data": {
      "text/plain": [
       "array([0.0788244 , 0.65977   , 0.85324647, 0.37318621, 0.72606885,\n",
       "       0.77643333, 0.85121331, 0.64548067, 0.95160053, 0.22223034,\n",
       "       0.63179892, 0.88299109, 0.71331604, 0.68742497, 0.54243065])"
      ]
     },
     "execution_count": 8,
     "metadata": {},
     "output_type": "execute_result"
    }
   ],
   "source": [
    "arrayDecimal=np.random.random(15)\n",
    "arrayDecimal"
   ]
  },
  {
   "cell_type": "code",
   "execution_count": 17,
   "metadata": {},
   "outputs": [
    {
     "data": {
      "text/plain": [
       "array([11.0788244 , 97.65977   , 82.85324647, 43.37318621, 87.72606885,\n",
       "       68.77643333, 60.85121331, 41.64548067, 81.95160053,  9.22223034,\n",
       "       75.63179892, 11.88299109, 84.71331604, 55.68742497, 50.54243065])"
      ]
     },
     "execution_count": 17,
     "metadata": {},
     "output_type": "execute_result"
    }
   ],
   "source": [
    "arraySuma=np.add(arrayRandom,arrayDecimal)\n",
    "arraySuma"
   ]
  },
  {
   "cell_type": "code",
   "execution_count": 18,
   "metadata": {},
   "outputs": [
    {
     "data": {
      "text/plain": [
       "array([10.9211756 , 96.34023   , 81.14675353, 42.62681379, 86.27393115,\n",
       "       67.22356667, 59.14878669, 40.35451933, 80.04839947,  8.77776966,\n",
       "       74.36820108, 10.11700891, 83.28668396, 54.31257503, 49.45756935])"
      ]
     },
     "execution_count": 18,
     "metadata": {},
     "output_type": "execute_result"
    }
   ],
   "source": [
    "arrayResta=arrayRandom-arrayDecimal\n",
    "arrayResta"
   ]
  },
  {
   "cell_type": "code",
   "execution_count": 21,
   "metadata": {},
   "outputs": [
    {
     "data": {
      "text/plain": [
       "array([ 0.86706845, 63.99769026, 69.96621042, 16.04700722, 63.16799038,\n",
       "       52.79746652, 51.07279838, 26.46470758, 77.07964326,  2.00007307,\n",
       "       47.38491919,  9.71290195, 59.91854754, 37.80837345, 27.12153264])"
      ]
     },
     "execution_count": 21,
     "metadata": {},
     "output_type": "execute_result"
    }
   ],
   "source": [
    "arr=np.zeros(15)\n",
    "for i in range(0,len(arrayRandom)):\n",
    "    arr[i]=arrayRandom[i]*arrayDecimal[i]\n",
    "arr"
   ]
  },
  {
   "cell_type": "markdown",
   "metadata": {},
   "source": [
    "Haz lo mismo con la multiplicación elemento por elemento. Usa un operador y\n",
    "después con una función de numpy\n",
    "(Pista: busca en google que función de numpy hace esto)\n",
    "Encuentra el valor más alto del primer array que has creado.\n",
    "Calcula la media (mean), la mediana (median) y al deviación estandar (standard\n",
    "deviation) de los arrays (Nota: No nos importa el significado matemático de estos\n",
    "valores, lo importante es que encuentres que función de numpy necesitas. Puedes\n",
    "hacer la búsqueda en castellano o en inglés, aunque en inglés muchas veces suele\n",
    "haber más resultados)."
   ]
  },
  {
   "cell_type": "code",
   "execution_count": 22,
   "metadata": {},
   "outputs": [
    {
     "data": {
      "text/plain": [
       "array([ 0.86706845, 63.99769026, 69.96621042, 16.04700722, 63.16799038,\n",
       "       52.79746652, 51.07279838, 26.46470758, 77.07964326,  2.00007307,\n",
       "       47.38491919,  9.71290195, 59.91854754, 37.80837345, 27.12153264])"
      ]
     },
     "execution_count": 22,
     "metadata": {},
     "output_type": "execute_result"
    }
   ],
   "source": [
    "arrayMultiplicacion=(arrayRandom*arrayDecimal)\n",
    "arrayMultiplicacion"
   ]
  },
  {
   "cell_type": "code",
   "execution_count": null,
   "metadata": {},
   "outputs": [
    {
     "data": {
      "text/plain": [
       "np.float64(28.19566554553298)"
      ]
     },
     "execution_count": 27,
     "metadata": {},
     "output_type": "execute_result"
    }
   ],
   "source": [
    "maximo=np.max(arrayRandom)\n",
    "maximo"
   ]
  },
  {
   "cell_type": "markdown",
   "metadata": {},
   "source": [
    "Crea un arrays lleno de 1s con una longitud dada por el usuario\n",
    "10.Cambia la forma del array para que tenga una estructura de tipo (filas, columnas)\n",
    "11.Crea una “matriz identidad” con la misma forma que el array anterior (filas, columnas)\n",
    "12.Concatena ambas estructuras horizontalmente y verticalmente\n",
    "(Pista: Investiga el funcionamiento de concatenate() y de vstack() y hstack() de numpy)"
   ]
  },
  {
   "cell_type": "code",
   "execution_count": 35,
   "metadata": {},
   "outputs": [
    {
     "data": {
      "text/plain": [
       "array([[1., 1., 1., 1., 0., 0.],\n",
       "       [1., 1., 1., 0., 1., 0.],\n",
       "       [1., 1., 1., 0., 0., 1.]])"
      ]
     },
     "execution_count": 35,
     "metadata": {},
     "output_type": "execute_result"
    }
   ],
   "source": [
    "array1=np.ones(9)\n",
    "array1=array1.reshape(3,3)\n",
    "array2=np.eye(3)\n",
    "array2\n",
    "arrayV=np.vstack((array1,array2))\n",
    "arrayV\n",
    "arrayH=np.hstack((array1,array2))\n",
    "arrayH\n"
   ]
  }
 ],
 "metadata": {
  "kernelspec": {
   "display_name": "practica_python",
   "language": "python",
   "name": "python3"
  },
  "language_info": {
   "codemirror_mode": {
    "name": "ipython",
    "version": 3
   },
   "file_extension": ".py",
   "mimetype": "text/x-python",
   "name": "python",
   "nbconvert_exporter": "python",
   "pygments_lexer": "ipython3",
   "version": "3.13.5"
  }
 },
 "nbformat": 4,
 "nbformat_minor": 2
}
